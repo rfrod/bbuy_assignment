{
  "nbformat": 4,
  "nbformat_minor": 0,
  "metadata": {
    "colab": {
      "name": "BestBuy.ipynb",
      "provenance": [],
      "collapsed_sections": [
        "RYj7htnE4QJ7",
        "AoLQsRj5_d9p"
      ],
      "mount_file_id": "1LeIMZg6yelKR9dOaa7BefmcZjd4i3-1r",
      "authorship_tag": "ABX9TyMY5+8hxEcnDZ6nEW+g7RQF",
      "include_colab_link": true
    },
    "kernelspec": {
      "name": "python3",
      "display_name": "Python 3"
    },
    "language_info": {
      "name": "python"
    }
  },
  "cells": [
    {
      "cell_type": "markdown",
      "metadata": {
        "id": "view-in-github",
        "colab_type": "text"
      },
      "source": [
        "<a href=\"https://colab.research.google.com/github/rfrod/bbuy_assignment/blob/main/BestBuy.ipynb\" target=\"_parent\"><img src=\"https://colab.research.google.com/assets/colab-badge.svg\" alt=\"Open In Colab\"/></a>"
      ]
    },
    {
      "cell_type": "markdown",
      "source": [
        "# Best Buy assignment\n",
        "\n",
        "## Ecommerce Analytics – Data Scientist\n",
        "\n",
        "### Business Problem\n",
        "Inventory management is an important task at Best Buy: we need to order enough stock to satisfy\n",
        "customer demand while minimizing wasted warehouse space. With thousands of products\n",
        "available to buy at any given time, it can be difficult to create an accurate forecast for every\n",
        "product.\n",
        "As our new Data Scientist, the Vice President of Inventory asks you to help:\n",
        "> *“We need to understand how much inventory we need to buy for each of these key products.\n",
        "Can you build a model that provides guidance to our inventory analysts? Once you are done\n",
        "please build a presentation that explains your proof of concept to other executives in the\n",
        "company”*"
      ],
      "metadata": {
        "id": "bxlSFBZwqaBB"
      }
    },
    {
      "cell_type": "markdown",
      "source": [
        "## Import data"
      ],
      "metadata": {
        "id": "muUpO3-Yqt8C"
      }
    },
    {
      "cell_type": "code",
      "source": [
        "import os\n",
        "import numpy as np\n",
        "import pandas as pd\n",
        "import seaborn as sns\n",
        "import matplotlib.pyplot as plt"
      ],
      "metadata": {
        "id": "8s2_NBYlqmmm"
      },
      "execution_count": 1,
      "outputs": []
    },
    {
      "cell_type": "code",
      "source": [
        "data = pd.read_excel('/content/drive/MyDrive/Colab Notebooks/data/data.xlsx')"
      ],
      "metadata": {
        "id": "YHBsnJ10raNO"
      },
      "execution_count": 2,
      "outputs": []
    },
    {
      "cell_type": "markdown",
      "source": [
        "## Data exploration"
      ],
      "metadata": {
        "id": "Pk8mBs2YrnYy"
      }
    },
    {
      "cell_type": "code",
      "source": [
        "data.head()"
      ],
      "metadata": {
        "colab": {
          "base_uri": "https://localhost:8080/",
          "height": 204
        },
        "id": "ps-9WX6NroKP",
        "outputId": "8aa81848-8e15-4a4d-fc0d-03c61af6014b"
      },
      "execution_count": 3,
      "outputs": [
        {
          "output_type": "execute_result",
          "data": {
            "text/plain": [
              "         week product  orders            brand   views  cart_adds  price  \\\n",
              "0   12/8/2019       A    41.0  Big Cable Brand  4181.0      209.0  34.99   \n",
              "1  12/15/2019       A    36.0  Big Cable Brand  3228.0      114.0  29.99   \n",
              "2  12/22/2019       A    51.0  Big Cable Brand  5259.0      108.0  29.99   \n",
              "3  12/29/2019       A    38.0  Big Cable Brand  3574.0       50.0  24.99   \n",
              "4    1/5/2020       A    33.0  Big Cable Brand  5970.0       66.0  34.99   \n",
              "\n",
              "   inventory  \n",
              "0        158  \n",
              "1        122  \n",
              "2         71  \n",
              "3         33  \n",
              "4          0  "
            ],
            "text/html": [
              "\n",
              "  <div id=\"df-9666e56b-e8dd-475b-974a-99486af3d59b\">\n",
              "    <div class=\"colab-df-container\">\n",
              "      <div>\n",
              "<style scoped>\n",
              "    .dataframe tbody tr th:only-of-type {\n",
              "        vertical-align: middle;\n",
              "    }\n",
              "\n",
              "    .dataframe tbody tr th {\n",
              "        vertical-align: top;\n",
              "    }\n",
              "\n",
              "    .dataframe thead th {\n",
              "        text-align: right;\n",
              "    }\n",
              "</style>\n",
              "<table border=\"1\" class=\"dataframe\">\n",
              "  <thead>\n",
              "    <tr style=\"text-align: right;\">\n",
              "      <th></th>\n",
              "      <th>week</th>\n",
              "      <th>product</th>\n",
              "      <th>orders</th>\n",
              "      <th>brand</th>\n",
              "      <th>views</th>\n",
              "      <th>cart_adds</th>\n",
              "      <th>price</th>\n",
              "      <th>inventory</th>\n",
              "    </tr>\n",
              "  </thead>\n",
              "  <tbody>\n",
              "    <tr>\n",
              "      <th>0</th>\n",
              "      <td>12/8/2019</td>\n",
              "      <td>A</td>\n",
              "      <td>41.0</td>\n",
              "      <td>Big Cable Brand</td>\n",
              "      <td>4181.0</td>\n",
              "      <td>209.0</td>\n",
              "      <td>34.99</td>\n",
              "      <td>158</td>\n",
              "    </tr>\n",
              "    <tr>\n",
              "      <th>1</th>\n",
              "      <td>12/15/2019</td>\n",
              "      <td>A</td>\n",
              "      <td>36.0</td>\n",
              "      <td>Big Cable Brand</td>\n",
              "      <td>3228.0</td>\n",
              "      <td>114.0</td>\n",
              "      <td>29.99</td>\n",
              "      <td>122</td>\n",
              "    </tr>\n",
              "    <tr>\n",
              "      <th>2</th>\n",
              "      <td>12/22/2019</td>\n",
              "      <td>A</td>\n",
              "      <td>51.0</td>\n",
              "      <td>Big Cable Brand</td>\n",
              "      <td>5259.0</td>\n",
              "      <td>108.0</td>\n",
              "      <td>29.99</td>\n",
              "      <td>71</td>\n",
              "    </tr>\n",
              "    <tr>\n",
              "      <th>3</th>\n",
              "      <td>12/29/2019</td>\n",
              "      <td>A</td>\n",
              "      <td>38.0</td>\n",
              "      <td>Big Cable Brand</td>\n",
              "      <td>3574.0</td>\n",
              "      <td>50.0</td>\n",
              "      <td>24.99</td>\n",
              "      <td>33</td>\n",
              "    </tr>\n",
              "    <tr>\n",
              "      <th>4</th>\n",
              "      <td>1/5/2020</td>\n",
              "      <td>A</td>\n",
              "      <td>33.0</td>\n",
              "      <td>Big Cable Brand</td>\n",
              "      <td>5970.0</td>\n",
              "      <td>66.0</td>\n",
              "      <td>34.99</td>\n",
              "      <td>0</td>\n",
              "    </tr>\n",
              "  </tbody>\n",
              "</table>\n",
              "</div>\n",
              "      <button class=\"colab-df-convert\" onclick=\"convertToInteractive('df-9666e56b-e8dd-475b-974a-99486af3d59b')\"\n",
              "              title=\"Convert this dataframe to an interactive table.\"\n",
              "              style=\"display:none;\">\n",
              "        \n",
              "  <svg xmlns=\"http://www.w3.org/2000/svg\" height=\"24px\"viewBox=\"0 0 24 24\"\n",
              "       width=\"24px\">\n",
              "    <path d=\"M0 0h24v24H0V0z\" fill=\"none\"/>\n",
              "    <path d=\"M18.56 5.44l.94 2.06.94-2.06 2.06-.94-2.06-.94-.94-2.06-.94 2.06-2.06.94zm-11 1L8.5 8.5l.94-2.06 2.06-.94-2.06-.94L8.5 2.5l-.94 2.06-2.06.94zm10 10l.94 2.06.94-2.06 2.06-.94-2.06-.94-.94-2.06-.94 2.06-2.06.94z\"/><path d=\"M17.41 7.96l-1.37-1.37c-.4-.4-.92-.59-1.43-.59-.52 0-1.04.2-1.43.59L10.3 9.45l-7.72 7.72c-.78.78-.78 2.05 0 2.83L4 21.41c.39.39.9.59 1.41.59.51 0 1.02-.2 1.41-.59l7.78-7.78 2.81-2.81c.8-.78.8-2.07 0-2.86zM5.41 20L4 18.59l7.72-7.72 1.47 1.35L5.41 20z\"/>\n",
              "  </svg>\n",
              "      </button>\n",
              "      \n",
              "  <style>\n",
              "    .colab-df-container {\n",
              "      display:flex;\n",
              "      flex-wrap:wrap;\n",
              "      gap: 12px;\n",
              "    }\n",
              "\n",
              "    .colab-df-convert {\n",
              "      background-color: #E8F0FE;\n",
              "      border: none;\n",
              "      border-radius: 50%;\n",
              "      cursor: pointer;\n",
              "      display: none;\n",
              "      fill: #1967D2;\n",
              "      height: 32px;\n",
              "      padding: 0 0 0 0;\n",
              "      width: 32px;\n",
              "    }\n",
              "\n",
              "    .colab-df-convert:hover {\n",
              "      background-color: #E2EBFA;\n",
              "      box-shadow: 0px 1px 2px rgba(60, 64, 67, 0.3), 0px 1px 3px 1px rgba(60, 64, 67, 0.15);\n",
              "      fill: #174EA6;\n",
              "    }\n",
              "\n",
              "    [theme=dark] .colab-df-convert {\n",
              "      background-color: #3B4455;\n",
              "      fill: #D2E3FC;\n",
              "    }\n",
              "\n",
              "    [theme=dark] .colab-df-convert:hover {\n",
              "      background-color: #434B5C;\n",
              "      box-shadow: 0px 1px 3px 1px rgba(0, 0, 0, 0.15);\n",
              "      filter: drop-shadow(0px 1px 2px rgba(0, 0, 0, 0.3));\n",
              "      fill: #FFFFFF;\n",
              "    }\n",
              "  </style>\n",
              "\n",
              "      <script>\n",
              "        const buttonEl =\n",
              "          document.querySelector('#df-9666e56b-e8dd-475b-974a-99486af3d59b button.colab-df-convert');\n",
              "        buttonEl.style.display =\n",
              "          google.colab.kernel.accessAllowed ? 'block' : 'none';\n",
              "\n",
              "        async function convertToInteractive(key) {\n",
              "          const element = document.querySelector('#df-9666e56b-e8dd-475b-974a-99486af3d59b');\n",
              "          const dataTable =\n",
              "            await google.colab.kernel.invokeFunction('convertToInteractive',\n",
              "                                                     [key], {});\n",
              "          if (!dataTable) return;\n",
              "\n",
              "          const docLinkHtml = 'Like what you see? Visit the ' +\n",
              "            '<a target=\"_blank\" href=https://colab.research.google.com/notebooks/data_table.ipynb>data table notebook</a>'\n",
              "            + ' to learn more about interactive tables.';\n",
              "          element.innerHTML = '';\n",
              "          dataTable['output_type'] = 'display_data';\n",
              "          await google.colab.output.renderOutput(dataTable, element);\n",
              "          const docLink = document.createElement('div');\n",
              "          docLink.innerHTML = docLinkHtml;\n",
              "          element.appendChild(docLink);\n",
              "        }\n",
              "      </script>\n",
              "    </div>\n",
              "  </div>\n",
              "  "
            ]
          },
          "metadata": {},
          "execution_count": 3
        }
      ]
    },
    {
      "cell_type": "markdown",
      "source": [
        "### Statistics\n",
        "\n",
        "First lets start with the data info and description."
      ],
      "metadata": {
        "id": "a_ABS0yyru48"
      }
    },
    {
      "cell_type": "code",
      "source": [
        "data.info()"
      ],
      "metadata": {
        "colab": {
          "base_uri": "https://localhost:8080/"
        },
        "id": "BgyBMvb3rv6L",
        "outputId": "9b512ac4-d985-4007-e0f3-d1f2dd35ec95"
      },
      "execution_count": 4,
      "outputs": [
        {
          "output_type": "stream",
          "name": "stdout",
          "text": [
            "<class 'pandas.core.frame.DataFrame'>\n",
            "RangeIndex: 260 entries, 0 to 259\n",
            "Data columns (total 8 columns):\n",
            " #   Column     Non-Null Count  Dtype  \n",
            "---  ------     --------------  -----  \n",
            " 0   week       260 non-null    object \n",
            " 1   product    260 non-null    object \n",
            " 2   orders     259 non-null    float64\n",
            " 3   brand      260 non-null    object \n",
            " 4   views      259 non-null    float64\n",
            " 5   cart_adds  259 non-null    float64\n",
            " 6   price      259 non-null    float64\n",
            " 7   inventory  260 non-null    int64  \n",
            "dtypes: float64(4), int64(1), object(3)\n",
            "memory usage: 16.4+ KB\n"
          ]
        }
      ]
    },
    {
      "cell_type": "markdown",
      "source": [
        "There is at list **one row with null value** for *orders*, *views*, *cart_adds* and *price* columns."
      ],
      "metadata": {
        "id": "8TGrsltHsNUW"
      }
    },
    {
      "cell_type": "code",
      "source": [
        "data.describe()"
      ],
      "metadata": {
        "colab": {
          "base_uri": "https://localhost:8080/",
          "height": 297
        },
        "id": "E2JlmJI0sOA2",
        "outputId": "5d32b817-4951-43ff-e457-4cfdf76c47da"
      },
      "execution_count": 5,
      "outputs": [
        {
          "output_type": "execute_result",
          "data": {
            "text/plain": [
              "           orders        views   cart_adds       price   inventory\n",
              "count  259.000000   259.000000  259.000000  259.000000  260.000000\n",
              "mean    19.413127  2156.447876   50.111969   69.951390   80.057692\n",
              "std     14.731024  1952.060224   49.124101   61.324199   49.346859\n",
              "min      0.000000    39.000000    0.000000   19.990000    0.000000\n",
              "25%      7.000000   587.000000   16.000000   34.990000   50.750000\n",
              "50%     16.000000  1466.000000   37.000000   49.990000   70.000000\n",
              "75%     30.000000  3203.000000   67.000000   82.490000   94.250000\n",
              "max    100.000000  9138.000000  309.000000  524.990000  308.000000"
            ],
            "text/html": [
              "\n",
              "  <div id=\"df-b7b5ed17-78be-4feb-b19d-7b38ef941016\">\n",
              "    <div class=\"colab-df-container\">\n",
              "      <div>\n",
              "<style scoped>\n",
              "    .dataframe tbody tr th:only-of-type {\n",
              "        vertical-align: middle;\n",
              "    }\n",
              "\n",
              "    .dataframe tbody tr th {\n",
              "        vertical-align: top;\n",
              "    }\n",
              "\n",
              "    .dataframe thead th {\n",
              "        text-align: right;\n",
              "    }\n",
              "</style>\n",
              "<table border=\"1\" class=\"dataframe\">\n",
              "  <thead>\n",
              "    <tr style=\"text-align: right;\">\n",
              "      <th></th>\n",
              "      <th>orders</th>\n",
              "      <th>views</th>\n",
              "      <th>cart_adds</th>\n",
              "      <th>price</th>\n",
              "      <th>inventory</th>\n",
              "    </tr>\n",
              "  </thead>\n",
              "  <tbody>\n",
              "    <tr>\n",
              "      <th>count</th>\n",
              "      <td>259.000000</td>\n",
              "      <td>259.000000</td>\n",
              "      <td>259.000000</td>\n",
              "      <td>259.000000</td>\n",
              "      <td>260.000000</td>\n",
              "    </tr>\n",
              "    <tr>\n",
              "      <th>mean</th>\n",
              "      <td>19.413127</td>\n",
              "      <td>2156.447876</td>\n",
              "      <td>50.111969</td>\n",
              "      <td>69.951390</td>\n",
              "      <td>80.057692</td>\n",
              "    </tr>\n",
              "    <tr>\n",
              "      <th>std</th>\n",
              "      <td>14.731024</td>\n",
              "      <td>1952.060224</td>\n",
              "      <td>49.124101</td>\n",
              "      <td>61.324199</td>\n",
              "      <td>49.346859</td>\n",
              "    </tr>\n",
              "    <tr>\n",
              "      <th>min</th>\n",
              "      <td>0.000000</td>\n",
              "      <td>39.000000</td>\n",
              "      <td>0.000000</td>\n",
              "      <td>19.990000</td>\n",
              "      <td>0.000000</td>\n",
              "    </tr>\n",
              "    <tr>\n",
              "      <th>25%</th>\n",
              "      <td>7.000000</td>\n",
              "      <td>587.000000</td>\n",
              "      <td>16.000000</td>\n",
              "      <td>34.990000</td>\n",
              "      <td>50.750000</td>\n",
              "    </tr>\n",
              "    <tr>\n",
              "      <th>50%</th>\n",
              "      <td>16.000000</td>\n",
              "      <td>1466.000000</td>\n",
              "      <td>37.000000</td>\n",
              "      <td>49.990000</td>\n",
              "      <td>70.000000</td>\n",
              "    </tr>\n",
              "    <tr>\n",
              "      <th>75%</th>\n",
              "      <td>30.000000</td>\n",
              "      <td>3203.000000</td>\n",
              "      <td>67.000000</td>\n",
              "      <td>82.490000</td>\n",
              "      <td>94.250000</td>\n",
              "    </tr>\n",
              "    <tr>\n",
              "      <th>max</th>\n",
              "      <td>100.000000</td>\n",
              "      <td>9138.000000</td>\n",
              "      <td>309.000000</td>\n",
              "      <td>524.990000</td>\n",
              "      <td>308.000000</td>\n",
              "    </tr>\n",
              "  </tbody>\n",
              "</table>\n",
              "</div>\n",
              "      <button class=\"colab-df-convert\" onclick=\"convertToInteractive('df-b7b5ed17-78be-4feb-b19d-7b38ef941016')\"\n",
              "              title=\"Convert this dataframe to an interactive table.\"\n",
              "              style=\"display:none;\">\n",
              "        \n",
              "  <svg xmlns=\"http://www.w3.org/2000/svg\" height=\"24px\"viewBox=\"0 0 24 24\"\n",
              "       width=\"24px\">\n",
              "    <path d=\"M0 0h24v24H0V0z\" fill=\"none\"/>\n",
              "    <path d=\"M18.56 5.44l.94 2.06.94-2.06 2.06-.94-2.06-.94-.94-2.06-.94 2.06-2.06.94zm-11 1L8.5 8.5l.94-2.06 2.06-.94-2.06-.94L8.5 2.5l-.94 2.06-2.06.94zm10 10l.94 2.06.94-2.06 2.06-.94-2.06-.94-.94-2.06-.94 2.06-2.06.94z\"/><path d=\"M17.41 7.96l-1.37-1.37c-.4-.4-.92-.59-1.43-.59-.52 0-1.04.2-1.43.59L10.3 9.45l-7.72 7.72c-.78.78-.78 2.05 0 2.83L4 21.41c.39.39.9.59 1.41.59.51 0 1.02-.2 1.41-.59l7.78-7.78 2.81-2.81c.8-.78.8-2.07 0-2.86zM5.41 20L4 18.59l7.72-7.72 1.47 1.35L5.41 20z\"/>\n",
              "  </svg>\n",
              "      </button>\n",
              "      \n",
              "  <style>\n",
              "    .colab-df-container {\n",
              "      display:flex;\n",
              "      flex-wrap:wrap;\n",
              "      gap: 12px;\n",
              "    }\n",
              "\n",
              "    .colab-df-convert {\n",
              "      background-color: #E8F0FE;\n",
              "      border: none;\n",
              "      border-radius: 50%;\n",
              "      cursor: pointer;\n",
              "      display: none;\n",
              "      fill: #1967D2;\n",
              "      height: 32px;\n",
              "      padding: 0 0 0 0;\n",
              "      width: 32px;\n",
              "    }\n",
              "\n",
              "    .colab-df-convert:hover {\n",
              "      background-color: #E2EBFA;\n",
              "      box-shadow: 0px 1px 2px rgba(60, 64, 67, 0.3), 0px 1px 3px 1px rgba(60, 64, 67, 0.15);\n",
              "      fill: #174EA6;\n",
              "    }\n",
              "\n",
              "    [theme=dark] .colab-df-convert {\n",
              "      background-color: #3B4455;\n",
              "      fill: #D2E3FC;\n",
              "    }\n",
              "\n",
              "    [theme=dark] .colab-df-convert:hover {\n",
              "      background-color: #434B5C;\n",
              "      box-shadow: 0px 1px 3px 1px rgba(0, 0, 0, 0.15);\n",
              "      filter: drop-shadow(0px 1px 2px rgba(0, 0, 0, 0.3));\n",
              "      fill: #FFFFFF;\n",
              "    }\n",
              "  </style>\n",
              "\n",
              "      <script>\n",
              "        const buttonEl =\n",
              "          document.querySelector('#df-b7b5ed17-78be-4feb-b19d-7b38ef941016 button.colab-df-convert');\n",
              "        buttonEl.style.display =\n",
              "          google.colab.kernel.accessAllowed ? 'block' : 'none';\n",
              "\n",
              "        async function convertToInteractive(key) {\n",
              "          const element = document.querySelector('#df-b7b5ed17-78be-4feb-b19d-7b38ef941016');\n",
              "          const dataTable =\n",
              "            await google.colab.kernel.invokeFunction('convertToInteractive',\n",
              "                                                     [key], {});\n",
              "          if (!dataTable) return;\n",
              "\n",
              "          const docLinkHtml = 'Like what you see? Visit the ' +\n",
              "            '<a target=\"_blank\" href=https://colab.research.google.com/notebooks/data_table.ipynb>data table notebook</a>'\n",
              "            + ' to learn more about interactive tables.';\n",
              "          element.innerHTML = '';\n",
              "          dataTable['output_type'] = 'display_data';\n",
              "          await google.colab.output.renderOutput(dataTable, element);\n",
              "          const docLink = document.createElement('div');\n",
              "          docLink.innerHTML = docLinkHtml;\n",
              "          element.appendChild(docLink);\n",
              "        }\n",
              "      </script>\n",
              "    </div>\n",
              "  </div>\n",
              "  "
            ]
          },
          "metadata": {},
          "execution_count": 5
        }
      ]
    },
    {
      "cell_type": "markdown",
      "source": [
        "It looks like we have at least one line without *order*,*cart_adds*, and *inventory*. We don't have any absurd value in the fields like negative orders or huge values."
      ],
      "metadata": {
        "id": "ERQU-nRKsV1W"
      }
    },
    {
      "cell_type": "code",
      "source": [
        "data['product'].value_counts()"
      ],
      "metadata": {
        "colab": {
          "base_uri": "https://localhost:8080/"
        },
        "id": "F1gExayFsXuo",
        "outputId": "7f57e046-4231-431a-f53a-c4f1e0550eaf"
      },
      "execution_count": 6,
      "outputs": [
        {
          "output_type": "execute_result",
          "data": {
            "text/plain": [
              "A    52\n",
              "B    52\n",
              "C    52\n",
              "D    52\n",
              "E    52\n",
              "Name: product, dtype: int64"
            ]
          },
          "metadata": {},
          "execution_count": 6
        }
      ]
    },
    {
      "cell_type": "markdown",
      "source": [
        "**52 weeks** from each product equals an **year**. The data seems weel distributed between the products."
      ],
      "metadata": {
        "id": "uwaO0mWtsdWT"
      }
    },
    {
      "cell_type": "code",
      "source": [
        "data['brand'].value_counts()"
      ],
      "metadata": {
        "colab": {
          "base_uri": "https://localhost:8080/"
        },
        "id": "sZ3mqckeseTt",
        "outputId": "a1789a99-7f14-4c1c-87b4-1e520de951d7"
      },
      "execution_count": 7,
      "outputs": [
        {
          "output_type": "execute_result",
          "data": {
            "text/plain": [
              "Little Cable Brand    156\n",
              "Big Cable Brand       104\n",
              "Name: brand, dtype: int64"
            ]
          },
          "metadata": {},
          "execution_count": 7
        }
      ]
    },
    {
      "cell_type": "markdown",
      "source": [
        "No extraordinary thing about the brands until now. Let's check the correlation between the numerical features."
      ],
      "metadata": {
        "id": "0HL3Ij64slJU"
      }
    },
    {
      "cell_type": "code",
      "source": [
        "df_corr = data[['week','orders','views','cart_adds','price']]\n",
        "df_corr.corr()"
      ],
      "metadata": {
        "colab": {
          "base_uri": "https://localhost:8080/",
          "height": 173
        },
        "id": "HKsgLvqssmT9",
        "outputId": "4d183487-ff41-42ab-c2f1-d3ab9373f496"
      },
      "execution_count": 8,
      "outputs": [
        {
          "output_type": "execute_result",
          "data": {
            "text/plain": [
              "             orders     views  cart_adds     price\n",
              "orders     1.000000  0.649754   0.786845 -0.539329\n",
              "views      0.649754  1.000000   0.521902 -0.469849\n",
              "cart_adds  0.786845  0.521902   1.000000 -0.422136\n",
              "price     -0.539329 -0.469849  -0.422136  1.000000"
            ],
            "text/html": [
              "\n",
              "  <div id=\"df-c1c7ddf1-5bf7-4763-99a7-cd820b1d4feb\">\n",
              "    <div class=\"colab-df-container\">\n",
              "      <div>\n",
              "<style scoped>\n",
              "    .dataframe tbody tr th:only-of-type {\n",
              "        vertical-align: middle;\n",
              "    }\n",
              "\n",
              "    .dataframe tbody tr th {\n",
              "        vertical-align: top;\n",
              "    }\n",
              "\n",
              "    .dataframe thead th {\n",
              "        text-align: right;\n",
              "    }\n",
              "</style>\n",
              "<table border=\"1\" class=\"dataframe\">\n",
              "  <thead>\n",
              "    <tr style=\"text-align: right;\">\n",
              "      <th></th>\n",
              "      <th>orders</th>\n",
              "      <th>views</th>\n",
              "      <th>cart_adds</th>\n",
              "      <th>price</th>\n",
              "    </tr>\n",
              "  </thead>\n",
              "  <tbody>\n",
              "    <tr>\n",
              "      <th>orders</th>\n",
              "      <td>1.000000</td>\n",
              "      <td>0.649754</td>\n",
              "      <td>0.786845</td>\n",
              "      <td>-0.539329</td>\n",
              "    </tr>\n",
              "    <tr>\n",
              "      <th>views</th>\n",
              "      <td>0.649754</td>\n",
              "      <td>1.000000</td>\n",
              "      <td>0.521902</td>\n",
              "      <td>-0.469849</td>\n",
              "    </tr>\n",
              "    <tr>\n",
              "      <th>cart_adds</th>\n",
              "      <td>0.786845</td>\n",
              "      <td>0.521902</td>\n",
              "      <td>1.000000</td>\n",
              "      <td>-0.422136</td>\n",
              "    </tr>\n",
              "    <tr>\n",
              "      <th>price</th>\n",
              "      <td>-0.539329</td>\n",
              "      <td>-0.469849</td>\n",
              "      <td>-0.422136</td>\n",
              "      <td>1.000000</td>\n",
              "    </tr>\n",
              "  </tbody>\n",
              "</table>\n",
              "</div>\n",
              "      <button class=\"colab-df-convert\" onclick=\"convertToInteractive('df-c1c7ddf1-5bf7-4763-99a7-cd820b1d4feb')\"\n",
              "              title=\"Convert this dataframe to an interactive table.\"\n",
              "              style=\"display:none;\">\n",
              "        \n",
              "  <svg xmlns=\"http://www.w3.org/2000/svg\" height=\"24px\"viewBox=\"0 0 24 24\"\n",
              "       width=\"24px\">\n",
              "    <path d=\"M0 0h24v24H0V0z\" fill=\"none\"/>\n",
              "    <path d=\"M18.56 5.44l.94 2.06.94-2.06 2.06-.94-2.06-.94-.94-2.06-.94 2.06-2.06.94zm-11 1L8.5 8.5l.94-2.06 2.06-.94-2.06-.94L8.5 2.5l-.94 2.06-2.06.94zm10 10l.94 2.06.94-2.06 2.06-.94-2.06-.94-.94-2.06-.94 2.06-2.06.94z\"/><path d=\"M17.41 7.96l-1.37-1.37c-.4-.4-.92-.59-1.43-.59-.52 0-1.04.2-1.43.59L10.3 9.45l-7.72 7.72c-.78.78-.78 2.05 0 2.83L4 21.41c.39.39.9.59 1.41.59.51 0 1.02-.2 1.41-.59l7.78-7.78 2.81-2.81c.8-.78.8-2.07 0-2.86zM5.41 20L4 18.59l7.72-7.72 1.47 1.35L5.41 20z\"/>\n",
              "  </svg>\n",
              "      </button>\n",
              "      \n",
              "  <style>\n",
              "    .colab-df-container {\n",
              "      display:flex;\n",
              "      flex-wrap:wrap;\n",
              "      gap: 12px;\n",
              "    }\n",
              "\n",
              "    .colab-df-convert {\n",
              "      background-color: #E8F0FE;\n",
              "      border: none;\n",
              "      border-radius: 50%;\n",
              "      cursor: pointer;\n",
              "      display: none;\n",
              "      fill: #1967D2;\n",
              "      height: 32px;\n",
              "      padding: 0 0 0 0;\n",
              "      width: 32px;\n",
              "    }\n",
              "\n",
              "    .colab-df-convert:hover {\n",
              "      background-color: #E2EBFA;\n",
              "      box-shadow: 0px 1px 2px rgba(60, 64, 67, 0.3), 0px 1px 3px 1px rgba(60, 64, 67, 0.15);\n",
              "      fill: #174EA6;\n",
              "    }\n",
              "\n",
              "    [theme=dark] .colab-df-convert {\n",
              "      background-color: #3B4455;\n",
              "      fill: #D2E3FC;\n",
              "    }\n",
              "\n",
              "    [theme=dark] .colab-df-convert:hover {\n",
              "      background-color: #434B5C;\n",
              "      box-shadow: 0px 1px 3px 1px rgba(0, 0, 0, 0.15);\n",
              "      filter: drop-shadow(0px 1px 2px rgba(0, 0, 0, 0.3));\n",
              "      fill: #FFFFFF;\n",
              "    }\n",
              "  </style>\n",
              "\n",
              "      <script>\n",
              "        const buttonEl =\n",
              "          document.querySelector('#df-c1c7ddf1-5bf7-4763-99a7-cd820b1d4feb button.colab-df-convert');\n",
              "        buttonEl.style.display =\n",
              "          google.colab.kernel.accessAllowed ? 'block' : 'none';\n",
              "\n",
              "        async function convertToInteractive(key) {\n",
              "          const element = document.querySelector('#df-c1c7ddf1-5bf7-4763-99a7-cd820b1d4feb');\n",
              "          const dataTable =\n",
              "            await google.colab.kernel.invokeFunction('convertToInteractive',\n",
              "                                                     [key], {});\n",
              "          if (!dataTable) return;\n",
              "\n",
              "          const docLinkHtml = 'Like what you see? Visit the ' +\n",
              "            '<a target=\"_blank\" href=https://colab.research.google.com/notebooks/data_table.ipynb>data table notebook</a>'\n",
              "            + ' to learn more about interactive tables.';\n",
              "          element.innerHTML = '';\n",
              "          dataTable['output_type'] = 'display_data';\n",
              "          await google.colab.output.renderOutput(dataTable, element);\n",
              "          const docLink = document.createElement('div');\n",
              "          docLink.innerHTML = docLinkHtml;\n",
              "          element.appendChild(docLink);\n",
              "        }\n",
              "      </script>\n",
              "    </div>\n",
              "  </div>\n",
              "  "
            ]
          },
          "metadata": {},
          "execution_count": 8
        }
      ]
    },
    {
      "cell_type": "markdown",
      "source": [
        "As expected the price has **inverse** correlation with *orders*, *views* and *cart_adds*, and *cart_adds* are more strongly correlated with *orders* than *views*."
      ],
      "metadata": {
        "id": "sbX9RoKysrfl"
      }
    },
    {
      "cell_type": "code",
      "source": [
        "df_1 = data.groupby(['product'])['orders','views','cart_adds'].sum()\n",
        "df_1 = df_1[['views','cart_adds','orders']]\n",
        "df_1.sort_values(['views','cart_adds','orders'], ascending=[False,False,False]).head()"
      ],
      "metadata": {
        "colab": {
          "base_uri": "https://localhost:8080/",
          "height": 289
        },
        "id": "vASWOnEqstBA",
        "outputId": "4e033a8f-f2f9-49f8-bf3d-ebd34ef9f1ce"
      },
      "execution_count": 9,
      "outputs": [
        {
          "output_type": "stream",
          "name": "stderr",
          "text": [
            "/usr/local/lib/python3.7/dist-packages/ipykernel_launcher.py:1: FutureWarning: Indexing with multiple keys (implicitly converted to a tuple of keys) will be deprecated, use a list instead.\n",
            "  \"\"\"Entry point for launching an IPython kernel.\n"
          ]
        },
        {
          "output_type": "execute_result",
          "data": {
            "text/plain": [
              "            views  cart_adds  orders\n",
              "product                             \n",
              "D        166323.0     3708.0  1304.0\n",
              "A        166165.0     3775.0  1556.0\n",
              "C        146267.0     3438.0  1367.0\n",
              "E         44826.0     1223.0   450.0\n",
              "B         34939.0      835.0   351.0"
            ],
            "text/html": [
              "\n",
              "  <div id=\"df-2d62cc1d-6de0-4331-ae28-8c94d5bdd25f\">\n",
              "    <div class=\"colab-df-container\">\n",
              "      <div>\n",
              "<style scoped>\n",
              "    .dataframe tbody tr th:only-of-type {\n",
              "        vertical-align: middle;\n",
              "    }\n",
              "\n",
              "    .dataframe tbody tr th {\n",
              "        vertical-align: top;\n",
              "    }\n",
              "\n",
              "    .dataframe thead th {\n",
              "        text-align: right;\n",
              "    }\n",
              "</style>\n",
              "<table border=\"1\" class=\"dataframe\">\n",
              "  <thead>\n",
              "    <tr style=\"text-align: right;\">\n",
              "      <th></th>\n",
              "      <th>views</th>\n",
              "      <th>cart_adds</th>\n",
              "      <th>orders</th>\n",
              "    </tr>\n",
              "    <tr>\n",
              "      <th>product</th>\n",
              "      <th></th>\n",
              "      <th></th>\n",
              "      <th></th>\n",
              "    </tr>\n",
              "  </thead>\n",
              "  <tbody>\n",
              "    <tr>\n",
              "      <th>D</th>\n",
              "      <td>166323.0</td>\n",
              "      <td>3708.0</td>\n",
              "      <td>1304.0</td>\n",
              "    </tr>\n",
              "    <tr>\n",
              "      <th>A</th>\n",
              "      <td>166165.0</td>\n",
              "      <td>3775.0</td>\n",
              "      <td>1556.0</td>\n",
              "    </tr>\n",
              "    <tr>\n",
              "      <th>C</th>\n",
              "      <td>146267.0</td>\n",
              "      <td>3438.0</td>\n",
              "      <td>1367.0</td>\n",
              "    </tr>\n",
              "    <tr>\n",
              "      <th>E</th>\n",
              "      <td>44826.0</td>\n",
              "      <td>1223.0</td>\n",
              "      <td>450.0</td>\n",
              "    </tr>\n",
              "    <tr>\n",
              "      <th>B</th>\n",
              "      <td>34939.0</td>\n",
              "      <td>835.0</td>\n",
              "      <td>351.0</td>\n",
              "    </tr>\n",
              "  </tbody>\n",
              "</table>\n",
              "</div>\n",
              "      <button class=\"colab-df-convert\" onclick=\"convertToInteractive('df-2d62cc1d-6de0-4331-ae28-8c94d5bdd25f')\"\n",
              "              title=\"Convert this dataframe to an interactive table.\"\n",
              "              style=\"display:none;\">\n",
              "        \n",
              "  <svg xmlns=\"http://www.w3.org/2000/svg\" height=\"24px\"viewBox=\"0 0 24 24\"\n",
              "       width=\"24px\">\n",
              "    <path d=\"M0 0h24v24H0V0z\" fill=\"none\"/>\n",
              "    <path d=\"M18.56 5.44l.94 2.06.94-2.06 2.06-.94-2.06-.94-.94-2.06-.94 2.06-2.06.94zm-11 1L8.5 8.5l.94-2.06 2.06-.94-2.06-.94L8.5 2.5l-.94 2.06-2.06.94zm10 10l.94 2.06.94-2.06 2.06-.94-2.06-.94-.94-2.06-.94 2.06-2.06.94z\"/><path d=\"M17.41 7.96l-1.37-1.37c-.4-.4-.92-.59-1.43-.59-.52 0-1.04.2-1.43.59L10.3 9.45l-7.72 7.72c-.78.78-.78 2.05 0 2.83L4 21.41c.39.39.9.59 1.41.59.51 0 1.02-.2 1.41-.59l7.78-7.78 2.81-2.81c.8-.78.8-2.07 0-2.86zM5.41 20L4 18.59l7.72-7.72 1.47 1.35L5.41 20z\"/>\n",
              "  </svg>\n",
              "      </button>\n",
              "      \n",
              "  <style>\n",
              "    .colab-df-container {\n",
              "      display:flex;\n",
              "      flex-wrap:wrap;\n",
              "      gap: 12px;\n",
              "    }\n",
              "\n",
              "    .colab-df-convert {\n",
              "      background-color: #E8F0FE;\n",
              "      border: none;\n",
              "      border-radius: 50%;\n",
              "      cursor: pointer;\n",
              "      display: none;\n",
              "      fill: #1967D2;\n",
              "      height: 32px;\n",
              "      padding: 0 0 0 0;\n",
              "      width: 32px;\n",
              "    }\n",
              "\n",
              "    .colab-df-convert:hover {\n",
              "      background-color: #E2EBFA;\n",
              "      box-shadow: 0px 1px 2px rgba(60, 64, 67, 0.3), 0px 1px 3px 1px rgba(60, 64, 67, 0.15);\n",
              "      fill: #174EA6;\n",
              "    }\n",
              "\n",
              "    [theme=dark] .colab-df-convert {\n",
              "      background-color: #3B4455;\n",
              "      fill: #D2E3FC;\n",
              "    }\n",
              "\n",
              "    [theme=dark] .colab-df-convert:hover {\n",
              "      background-color: #434B5C;\n",
              "      box-shadow: 0px 1px 3px 1px rgba(0, 0, 0, 0.15);\n",
              "      filter: drop-shadow(0px 1px 2px rgba(0, 0, 0, 0.3));\n",
              "      fill: #FFFFFF;\n",
              "    }\n",
              "  </style>\n",
              "\n",
              "      <script>\n",
              "        const buttonEl =\n",
              "          document.querySelector('#df-2d62cc1d-6de0-4331-ae28-8c94d5bdd25f button.colab-df-convert');\n",
              "        buttonEl.style.display =\n",
              "          google.colab.kernel.accessAllowed ? 'block' : 'none';\n",
              "\n",
              "        async function convertToInteractive(key) {\n",
              "          const element = document.querySelector('#df-2d62cc1d-6de0-4331-ae28-8c94d5bdd25f');\n",
              "          const dataTable =\n",
              "            await google.colab.kernel.invokeFunction('convertToInteractive',\n",
              "                                                     [key], {});\n",
              "          if (!dataTable) return;\n",
              "\n",
              "          const docLinkHtml = 'Like what you see? Visit the ' +\n",
              "            '<a target=\"_blank\" href=https://colab.research.google.com/notebooks/data_table.ipynb>data table notebook</a>'\n",
              "            + ' to learn more about interactive tables.';\n",
              "          element.innerHTML = '';\n",
              "          dataTable['output_type'] = 'display_data';\n",
              "          await google.colab.output.renderOutput(dataTable, element);\n",
              "          const docLink = document.createElement('div');\n",
              "          docLink.innerHTML = docLinkHtml;\n",
              "          element.appendChild(docLink);\n",
              "        }\n",
              "      </script>\n",
              "    </div>\n",
              "  </div>\n",
              "  "
            ]
          },
          "metadata": {},
          "execution_count": 9
        }
      ]
    },
    {
      "cell_type": "markdown",
      "source": [
        "It looks like there is something strange with product **D**. It is supposed to exist some proportion in the conversion rate between *view*, *cart_adds* and *orders*."
      ],
      "metadata": {
        "id": "4tNP-lS2s_HR"
      }
    },
    {
      "cell_type": "markdown",
      "source": [
        "### Inventory"
      ],
      "metadata": {
        "id": "37tbYcv0uLmA"
      }
    },
    {
      "cell_type": "code",
      "source": [
        "df_2 = data[['week','product','inventory']]\n",
        "df_2.loc[df_2['inventory'] == 0]['product'].value_counts()"
      ],
      "metadata": {
        "colab": {
          "base_uri": "https://localhost:8080/"
        },
        "id": "UJNTVaBrtwTs",
        "outputId": "2973d997-3d91-4a3a-c446-6e049be1da96"
      },
      "execution_count": 10,
      "outputs": [
        {
          "output_type": "execute_result",
          "data": {
            "text/plain": [
              "D    7\n",
              "A    6\n",
              "Name: product, dtype: int64"
            ]
          },
          "metadata": {},
          "execution_count": 10
        }
      ]
    },
    {
      "cell_type": "markdown",
      "source": [
        "We are having inventory problems in products D and A."
      ],
      "metadata": {
        "id": "Ea6mA0yntxRr"
      }
    },
    {
      "cell_type": "code",
      "source": [
        "df_2 = df_2.pivot(index='week',columns='product', values='inventory')\n",
        "_ = df_2.plot(color=['red','green','blue','yellow','black'], figsize=(15, 5))"
      ],
      "metadata": {
        "colab": {
          "base_uri": "https://localhost:8080/",
          "height": 334
        },
        "id": "nMQrolJUt4aj",
        "outputId": "35288e47-791b-4afb-f03a-98ff67696bc3"
      },
      "execution_count": 11,
      "outputs": [
        {
          "output_type": "display_data",
          "data": {
            "text/plain": [
              "<Figure size 1080x360 with 1 Axes>"
            ],
            "image/png": "[encoded data removed]"
          },
          "metadata": {
            "needs_background": "light"
          }
        }
      ]
    },
    {
      "cell_type": "markdown",
      "source": [
        "Product **A** seems not to be comercialized at the beginning of the serie."
      ],
      "metadata": {
        "id": "vtAhNlQzuZRR"
      }
    },
    {
      "cell_type": "code",
      "source": [
        "_ = data.hist(column='inventory', by='product', figsize=(15, 15), bins=20)"
      ],
      "metadata": {
        "colab": {
          "base_uri": "https://localhost:8080/",
          "height": 883
        },
        "id": "twj946wtuaM_",
        "outputId": "a51e3c20-7e37-49c0-df04-8643ec9a7714"
      },
      "execution_count": 12,
      "outputs": [
        {
          "output_type": "display_data",
          "data": {
            "text/plain": [
              "<Figure size 1080x1080 with 6 Axes>"
            ],
            "image/png": "[encoded data removed]"
          },
          "metadata": {
            "needs_background": "light"
          }
        }
      ]
    },
    {
      "cell_type": "markdown",
      "source": [
        "### Orders"
      ],
      "metadata": {
        "id": "qqaFMZiQufJV"
      }
    },
    {
      "cell_type": "code",
      "source": [
        "df_3 = data[['week','product','orders']]\n",
        "df_3 = df_3.pivot(index='week',columns='product', values='orders')\n",
        "_ = df_3.plot(color=['red','green','blue','yellow','black'], figsize=(15, 5))"
      ],
      "metadata": {
        "colab": {
          "base_uri": "https://localhost:8080/",
          "height": 334
        },
        "id": "8xnvR_bpuiy2",
        "outputId": "4d5251da-0832-4942-d567-f2f4d0f67752"
      },
      "execution_count": 13,
      "outputs": [
        {
          "output_type": "display_data",
          "data": {
            "text/plain": [
              "<Figure size 1080x360 with 1 Axes>"
            ],
            "image/png": "[encoded data removed]"
          },
          "metadata": {
            "needs_background": "light"
          }
        }
      ]
    },
    {
      "cell_type": "markdown",
      "source": [
        "We can see that there is some data missing for product **B**."
      ],
      "metadata": {
        "id": "KSkFmMK1uqKQ"
      }
    },
    {
      "cell_type": "code",
      "source": [
        "df_3 = data[['week','product','orders']]\n",
        "prods = df_3['product'].unique()\n",
        "fig, ax = plt.subplots(len(prods), figsize=(16,30))\n",
        "\n",
        "for i, prod in enumerate(prods):\n",
        "        \n",
        "    sns.histplot(data=df_3.loc[df_3['product']==prod]['orders'], kde=True, ax=ax[i])\n",
        "    ax[i].set_title('Product '+prod, fontsize=10)\n",
        "    ax[i].set_xlabel('Orders', fontsize=8)\n",
        "    ax[i].set_ylabel('Count', fontsize=8)\n",
        "    \n",
        "plt.show()"
      ],
      "metadata": {
        "colab": {
          "base_uri": "https://localhost:8080/",
          "height": 1000
        },
        "id": "B9x9eOgHutfZ",
        "outputId": "e55ce61c-ec05-4a8b-946f-fabc0ada7353"
      },
      "execution_count": 14,
      "outputs": [
        {
          "output_type": "display_data",
          "data": {
            "text/plain": [
              "<Figure size 1152x2160 with 5 Axes>"
            ],
            "image/png": "[encoded data removed]"
          },
          "metadata": {
            "needs_background": "light"
          }
        }
      ]
    },
    {
      "cell_type": "markdown",
      "source": [
        "Except for the product **D**, all other product looks like having a log-normal distribution."
      ],
      "metadata": {
        "id": "GqWl-yk3u0Y6"
      }
    },
    {
      "cell_type": "code",
      "source": [
        "products_stat =data.groupby('product')['orders'].describe().reset_index()\n",
        "print(products_stat)"
      ],
      "metadata": {
        "colab": {
          "base_uri": "https://localhost:8080/"
        },
        "id": "yzsRrXD9vC8C",
        "outputId": "43f0bafb-a74e-4a87-a638-8dc5d8ba7312"
      },
      "execution_count": 15,
      "outputs": [
        {
          "output_type": "stream",
          "name": "stdout",
          "text": [
            "  product  count       mean        std   min    25%   50%    75%    max\n",
            "0       A   52.0  29.923077  16.590626   0.0  23.00  31.0  36.00  100.0\n",
            "1       B   51.0   6.882353   4.361867   1.0   3.50   6.0   9.50   18.0\n",
            "2       C   52.0  26.288462   9.010531  15.0  19.00  23.5  31.75   46.0\n",
            "3       D   52.0  25.076923  15.448645   0.0  10.75  27.5  38.25   47.0\n",
            "4       E   52.0   8.653846   3.930198   3.0   6.00   8.0  11.00   20.0\n"
          ]
        }
      ]
    },
    {
      "cell_type": "markdown",
      "source": [
        "Looks like the high **standard deviation** on products *A* and *D* may explain why they get out of stock, and we can also confirm the missing data for product **B**.\n",
        "\n",
        "Now, lets check the outliers."
      ],
      "metadata": {
        "id": "-5oI3VGgu4BS"
      }
    },
    {
      "cell_type": "code",
      "source": [
        "ax = sns.boxplot(x=\"product\", y=\"orders\", data=data)"
      ],
      "metadata": {
        "colab": {
          "base_uri": "https://localhost:8080/",
          "height": 279
        },
        "id": "4UntLNzycJ6p",
        "outputId": "32a83914-919e-4037-b90d-1c1fee8cc342"
      },
      "execution_count": 16,
      "outputs": [
        {
          "output_type": "display_data",
          "data": {
            "text/plain": [
              "<Figure size 432x288 with 1 Axes>"
            ],
            "image/png": "[encoded data removed]"
          },
          "metadata": {
            "needs_background": "light"
          }
        }
      ]
    },
    {
      "cell_type": "markdown",
      "source": [
        "Product **A** have some outliers on its orders."
      ],
      "metadata": {
        "id": "ICDtMWrTcv3a"
      }
    },
    {
      "cell_type": "markdown",
      "source": [
        "### Price"
      ],
      "metadata": {
        "id": "aUNoPlDGdBLJ"
      }
    },
    {
      "cell_type": "markdown",
      "source": [
        "Now, based on *price* let's check the revenue for each product."
      ],
      "metadata": {
        "id": "6XVWZWbmdEiN"
      }
    },
    {
      "cell_type": "code",
      "source": [
        "dt_price = data[['week','product','orders','price']].copy()\n",
        "dt_price['revenue'] = dt_price['orders'] * dt_price['price']"
      ],
      "metadata": {
        "id": "lOrkaDrrcb6_"
      },
      "execution_count": 20,
      "outputs": []
    },
    {
      "cell_type": "code",
      "source": [
        "dt_revenue = dt_price.groupby('product')['revenue'].agg('sum')\n",
        "mylabels = ['A','B','C','D','E']\n",
        "explode = (0, 0, 0.2, 0, 0)\n",
        "\n"
      ],
      "metadata": {
        "id": "64oqCfd8eYpn"
      },
      "execution_count": 48,
      "outputs": []
    },
    {
      "cell_type": "code",
      "source": [
        "fig1, ax1 = plt.subplots(figsize=(6, 6))\n",
        "plt.pie(dt_revenue,labels=mylabels,explode = explode, autopct='%1.1f%%', shadow = True)\n",
        "plt.title('Revenue')\n",
        "plt.show()"
      ],
      "metadata": {
        "colab": {
          "base_uri": "https://localhost:8080/",
          "height": 373
        },
        "id": "iUu_xrNegmJg",
        "outputId": "638a36fa-ea44-4fc3-e447-1ebcb737fcfb"
      },
      "execution_count": 53,
      "outputs": [
        {
          "output_type": "display_data",
          "data": {
            "text/plain": [
              "<Figure size 432x432 with 1 Axes>"
            ],
            "image/png": "[encoded data removed]"
          },
          "metadata": {}
        }
      ]
    },
    {
      "cell_type": "markdown",
      "source": [
        "## Approach 1: Using machine Learning regression model"
      ],
      "metadata": {
        "id": "ry_MnzW-vfpt"
      }
    },
    {
      "cell_type": "markdown",
      "source": [
        "### Step 1: Data Selection and Cleaning"
      ],
      "metadata": {
        "id": "387sMyruvXM3"
      }
    },
    {
      "cell_type": "markdown",
      "source": [
        "\n",
        "#### Select columns\n",
        "Removed the columns inventory "
      ],
      "metadata": {
        "id": "Dj-tmTrTvuPB"
      }
    },
    {
      "cell_type": "code",
      "source": [
        "dt = data[['week','product','orders','views','cart_adds','price']]"
      ],
      "metadata": {
        "id": "DN04zTc4v0WY"
      },
      "execution_count": 17,
      "outputs": []
    },
    {
      "cell_type": "markdown",
      "source": [
        "#### Filling NA values\n",
        "\n",
        "We are going to fill the Nan values of the B product with the mean of the fields for its specific product."
      ],
      "metadata": {
        "id": "hK554t33v6aN"
      }
    },
    {
      "cell_type": "code",
      "source": [
        "df_prod_means = dt.groupby(['product'])['orders','views','cart_adds','price'].agg('mean').copy()\n",
        "df_prod_means.head()"
      ],
      "metadata": {
        "colab": {
          "base_uri": "https://localhost:8080/",
          "height": 289
        },
        "id": "Q5Tm8Tctv-vx",
        "outputId": "e13fe724-5d3f-4b0b-ce00-e704ea7da0c9"
      },
      "execution_count": 18,
      "outputs": [
        {
          "output_type": "stream",
          "name": "stderr",
          "text": [
            "/usr/local/lib/python3.7/dist-packages/ipykernel_launcher.py:1: FutureWarning: Indexing with multiple keys (implicitly converted to a tuple of keys) will be deprecated, use a list instead.\n",
            "  \"\"\"Entry point for launching an IPython kernel.\n"
          ]
        },
        {
          "output_type": "execute_result",
          "data": {
            "text/plain": [
              "            orders        views  cart_adds       price\n",
              "product                                               \n",
              "A        29.923077  3195.480769  72.596154   36.240000\n",
              "B         6.882353   685.078431  16.372549  138.519412\n",
              "C        26.288462  2812.826923  66.115385   42.105385\n",
              "D        25.076923  3198.519231  71.307692   44.605385\n",
              "E         8.653846   862.038462  23.519231   89.605385"
            ],
            "text/html": [
              "\n",
              "  <div id=\"df-159d7fbc-635d-45ce-85ee-d167c50085b1\">\n",
              "    <div class=\"colab-df-container\">\n",
              "      <div>\n",
              "<style scoped>\n",
              "    .dataframe tbody tr th:only-of-type {\n",
              "        vertical-align: middle;\n",
              "    }\n",
              "\n",
              "    .dataframe tbody tr th {\n",
              "        vertical-align: top;\n",
              "    }\n",
              "\n",
              "    .dataframe thead th {\n",
              "        text-align: right;\n",
              "    }\n",
              "</style>\n",
              "<table border=\"1\" class=\"dataframe\">\n",
              "  <thead>\n",
              "    <tr style=\"text-align: right;\">\n",
              "      <th></th>\n",
              "      <th>orders</th>\n",
              "      <th>views</th>\n",
              "      <th>cart_adds</th>\n",
              "      <th>price</th>\n",
              "    </tr>\n",
              "    <tr>\n",
              "      <th>product</th>\n",
              "      <th></th>\n",
              "      <th></th>\n",
              "      <th></th>\n",
              "      <th></th>\n",
              "    </tr>\n",
              "  </thead>\n",
              "  <tbody>\n",
              "    <tr>\n",
              "      <th>A</th>\n",
              "      <td>29.923077</td>\n",
              "      <td>3195.480769</td>\n",
              "      <td>72.596154</td>\n",
              "      <td>36.240000</td>\n",
              "    </tr>\n",
              "    <tr>\n",
              "      <th>B</th>\n",
              "      <td>6.882353</td>\n",
              "      <td>685.078431</td>\n",
              "      <td>16.372549</td>\n",
              "      <td>138.519412</td>\n",
              "    </tr>\n",
              "    <tr>\n",
              "      <th>C</th>\n",
              "      <td>26.288462</td>\n",
              "      <td>2812.826923</td>\n",
              "      <td>66.115385</td>\n",
              "      <td>42.105385</td>\n",
              "    </tr>\n",
              "    <tr>\n",
              "      <th>D</th>\n",
              "      <td>25.076923</td>\n",
              "      <td>3198.519231</td>\n",
              "      <td>71.307692</td>\n",
              "      <td>44.605385</td>\n",
              "    </tr>\n",
              "    <tr>\n",
              "      <th>E</th>\n",
              "      <td>8.653846</td>\n",
              "      <td>862.038462</td>\n",
              "      <td>23.519231</td>\n",
              "      <td>89.605385</td>\n",
              "    </tr>\n",
              "  </tbody>\n",
              "</table>\n",
              "</div>\n",
              "      <button class=\"colab-df-convert\" onclick=\"convertToInteractive('df-159d7fbc-635d-45ce-85ee-d167c50085b1')\"\n",
              "              title=\"Convert this dataframe to an interactive table.\"\n",
              "              style=\"display:none;\">\n",
              "        \n",
              "  <svg xmlns=\"http://www.w3.org/2000/svg\" height=\"24px\"viewBox=\"0 0 24 24\"\n",
              "       width=\"24px\">\n",
              "    <path d=\"M0 0h24v24H0V0z\" fill=\"none\"/>\n",
              "    <path d=\"M18.56 5.44l.94 2.06.94-2.06 2.06-.94-2.06-.94-.94-2.06-.94 2.06-2.06.94zm-11 1L8.5 8.5l.94-2.06 2.06-.94-2.06-.94L8.5 2.5l-.94 2.06-2.06.94zm10 10l.94 2.06.94-2.06 2.06-.94-2.06-.94-.94-2.06-.94 2.06-2.06.94z\"/><path d=\"M17.41 7.96l-1.37-1.37c-.4-.4-.92-.59-1.43-.59-.52 0-1.04.2-1.43.59L10.3 9.45l-7.72 7.72c-.78.78-.78 2.05 0 2.83L4 21.41c.39.39.9.59 1.41.59.51 0 1.02-.2 1.41-.59l7.78-7.78 2.81-2.81c.8-.78.8-2.07 0-2.86zM5.41 20L4 18.59l7.72-7.72 1.47 1.35L5.41 20z\"/>\n",
              "  </svg>\n",
              "      </button>\n",
              "      \n",
              "  <style>\n",
              "    .colab-df-container {\n",
              "      display:flex;\n",
              "      flex-wrap:wrap;\n",
              "      gap: 12px;\n",
              "    }\n",
              "\n",
              "    .colab-df-convert {\n",
              "      background-color: #E8F0FE;\n",
              "      border: none;\n",
              "      border-radius: 50%;\n",
              "      cursor: pointer;\n",
              "      display: none;\n",
              "      fill: #1967D2;\n",
              "      height: 32px;\n",
              "      padding: 0 0 0 0;\n",
              "      width: 32px;\n",
              "    }\n",
              "\n",
              "    .colab-df-convert:hover {\n",
              "      background-color: #E2EBFA;\n",
              "      box-shadow: 0px 1px 2px rgba(60, 64, 67, 0.3), 0px 1px 3px 1px rgba(60, 64, 67, 0.15);\n",
              "      fill: #174EA6;\n",
              "    }\n",
              "\n",
              "    [theme=dark] .colab-df-convert {\n",
              "      background-color: #3B4455;\n",
              "      fill: #D2E3FC;\n",
              "    }\n",
              "\n",
              "    [theme=dark] .colab-df-convert:hover {\n",
              "      background-color: #434B5C;\n",
              "      box-shadow: 0px 1px 3px 1px rgba(0, 0, 0, 0.15);\n",
              "      filter: drop-shadow(0px 1px 2px rgba(0, 0, 0, 0.3));\n",
              "      fill: #FFFFFF;\n",
              "    }\n",
              "  </style>\n",
              "\n",
              "      <script>\n",
              "        const buttonEl =\n",
              "          document.querySelector('#df-159d7fbc-635d-45ce-85ee-d167c50085b1 button.colab-df-convert');\n",
              "        buttonEl.style.display =\n",
              "          google.colab.kernel.accessAllowed ? 'block' : 'none';\n",
              "\n",
              "        async function convertToInteractive(key) {\n",
              "          const element = document.querySelector('#df-159d7fbc-635d-45ce-85ee-d167c50085b1');\n",
              "          const dataTable =\n",
              "            await google.colab.kernel.invokeFunction('convertToInteractive',\n",
              "                                                     [key], {});\n",
              "          if (!dataTable) return;\n",
              "\n",
              "          const docLinkHtml = 'Like what you see? Visit the ' +\n",
              "            '<a target=\"_blank\" href=https://colab.research.google.com/notebooks/data_table.ipynb>data table notebook</a>'\n",
              "            + ' to learn more about interactive tables.';\n",
              "          element.innerHTML = '';\n",
              "          dataTable['output_type'] = 'display_data';\n",
              "          await google.colab.output.renderOutput(dataTable, element);\n",
              "          const docLink = document.createElement('div');\n",
              "          docLink.innerHTML = docLinkHtml;\n",
              "          element.appendChild(docLink);\n",
              "        }\n",
              "      </script>\n",
              "    </div>\n",
              "  </div>\n",
              "  "
            ]
          },
          "metadata": {},
          "execution_count": 18
        }
      ]
    },
    {
      "cell_type": "code",
      "source": [
        "dt.loc[(dt['orders'].isnull()) & (dt['product'] == 'B'), ['orders']] = round(df_prod_means.orders['B'],0)\n",
        "dt.loc[(dt['views'].isnull()) & (dt['product'] == 'B'), ['views']] = round(df_prod_means.views['B'],0)\n",
        "dt.loc[(dt['cart_adds'].isnull()) & (dt['product'] == 'B'), ['cart_adds']] = round(df_prod_means.cart_adds['B'],0)\n",
        "dt.loc[(dt['price'].isnull()) & (dt['product'] == 'B'), ['price']] = round(df_prod_means.price['B'],2)"
      ],
      "metadata": {
        "colab": {
          "base_uri": "https://localhost:8080/"
        },
        "id": "oLqLiIhBwCMc",
        "outputId": "0bffb1e1-c5a6-489c-f371-b906466b56be"
      },
      "execution_count": 19,
      "outputs": [
        {
          "output_type": "stream",
          "name": "stderr",
          "text": [
            "/usr/local/lib/python3.7/dist-packages/pandas/core/indexing.py:1817: SettingWithCopyWarning: \n",
            "A value is trying to be set on a copy of a slice from a DataFrame.\n",
            "Try using .loc[row_indexer,col_indexer] = value instead\n",
            "\n",
            "See the caveats in the documentation: https://pandas.pydata.org/pandas-docs/stable/user_guide/indexing.html#returning-a-view-versus-a-copy\n",
            "  self._setitem_single_column(loc, value, pi)\n"
          ]
        }
      ]
    },
    {
      "cell_type": "markdown",
      "source": [
        "#### Building training data\n",
        "\n",
        "We will use the previous week data and the current week price for predicting the current week sales.\n",
        "\n",
        "Here is the function for building the training data."
      ],
      "metadata": {
        "id": "XH5kIwSQwN29"
      }
    },
    {
      "cell_type": "code",
      "source": [
        "def def_conjXY(df,interval, column_idx = 0):\n",
        "    \"\"\"\n",
        "    :df = Dataframe with the data; \n",
        "    :interval = number of days to make a forecast\n",
        "    :column_idx = index fo the columns used at the forecast\n",
        "    :Returns: X and Y\n",
        "    \"\"\"\n",
        "    input_value = []\n",
        "    output_value = []\n",
        "    if type(df) == pd.core.frame.DataFrame:\n",
        "        for i in range(interval,(len(df))):\n",
        "            x = np.array(df.iloc[i-interval: i, [0,1,2,3,4,5]])\n",
        "            x = np.append(x, df.iloc[i,5])\n",
        "            y = np.array(df.iloc[i, 2])    \n",
        "            input_value.append(x)\n",
        "            output_value.append(y)\n",
        "    else:\n",
        "        for i in range(interval,(len(df))):\n",
        "            x = np.array(df[i-interval: i, [0,1,2,3]])\n",
        "            y = np.array(df[i, item])    \n",
        "    input_value.append(x)\n",
        "    output_value.append(y)\n",
        "    x_train = np.array(input_value)\n",
        "    y_train = np.array(output_value)\n",
        "    #x_train = np.reshape(x_train,(x_train.shape[0],x_train.shape[1],1))\n",
        "\n",
        "    return x_train , y_train"
      ],
      "metadata": {
        "id": "zEQJCLlJwng_"
      },
      "execution_count": 20,
      "outputs": []
    },
    {
      "cell_type": "code",
      "source": [
        "X,y = def_conjXY(dt,1)"
      ],
      "metadata": {
        "id": "Qut1moCEw2yi"
      },
      "execution_count": 21,
      "outputs": []
    },
    {
      "cell_type": "code",
      "source": [
        "X_dt = pd.DataFrame(X, columns=['week','product','orders','views','cart_adds','price','next_price'])\n",
        "X_dt['orders'] = X_dt['orders'].apply(int)\n",
        "X_dt['views'] = X_dt['views'].apply(int)\n",
        "X_dt['cart_adds'] = X_dt['cart_adds'].apply(int)\n",
        "X_dt['price'] = X_dt['price'].apply(float)\n",
        "X_dt['next_price'] = X_dt['next_price'].apply(float)\n",
        "X_dt.info()"
      ],
      "metadata": {
        "colab": {
          "base_uri": "https://localhost:8080/"
        },
        "id": "TBgB4e0Gw6g0",
        "outputId": "1b35f202-d825-4956-b49d-1b2ad57224ea"
      },
      "execution_count": 22,
      "outputs": [
        {
          "output_type": "stream",
          "name": "stdout",
          "text": [
            "<class 'pandas.core.frame.DataFrame'>\n",
            "RangeIndex: 260 entries, 0 to 259\n",
            "Data columns (total 7 columns):\n",
            " #   Column      Non-Null Count  Dtype  \n",
            "---  ------      --------------  -----  \n",
            " 0   week        260 non-null    object \n",
            " 1   product     260 non-null    object \n",
            " 2   orders      260 non-null    int64  \n",
            " 3   views       260 non-null    int64  \n",
            " 4   cart_adds   260 non-null    int64  \n",
            " 5   price       260 non-null    float64\n",
            " 6   next_price  260 non-null    float64\n",
            "dtypes: float64(2), int64(3), object(2)\n",
            "memory usage: 14.3+ KB\n"
          ]
        }
      ]
    },
    {
      "cell_type": "code",
      "source": [
        "y_dt = pd.DataFrame(y, columns=['next_order'])\n",
        "y_dt.info()"
      ],
      "metadata": {
        "colab": {
          "base_uri": "https://localhost:8080/"
        },
        "id": "_RFZqZGJxEhJ",
        "outputId": "16c6407d-e6d2-401d-90e3-14200a63e6d1"
      },
      "execution_count": 23,
      "outputs": [
        {
          "output_type": "stream",
          "name": "stdout",
          "text": [
            "<class 'pandas.core.frame.DataFrame'>\n",
            "RangeIndex: 260 entries, 0 to 259\n",
            "Data columns (total 1 columns):\n",
            " #   Column      Non-Null Count  Dtype  \n",
            "---  ------      --------------  -----  \n",
            " 0   next_order  260 non-null    float64\n",
            "dtypes: float64(1)\n",
            "memory usage: 2.2 KB\n"
          ]
        }
      ]
    },
    {
      "cell_type": "markdown",
      "source": [
        "### Step 2: Encodind and Scaling\n",
        "\n",
        "Another good approach is to One Hot encode the categorical data (*product*) and reduce the scale of the numerical data."
      ],
      "metadata": {
        "id": "wT-fHgpa1G6q"
      }
    },
    {
      "cell_type": "code",
      "source": [
        "from sklearn.preprocessing import OneHotEncoder\n",
        "encoder = OneHotEncoder(handle_unknown=\"ignore\",sparse=False)\n",
        "#one_hot = OneHotEncoder(sparse=False)\n",
        "one_hot_tr = encoder.fit_transform(X_dt[['product']])\n",
        "#scaler = StandardScaler()\n",
        "#encoder.fit(X_dt[['product']])"
      ],
      "metadata": {
        "id": "GGwplGGzxHEh"
      },
      "execution_count": 24,
      "outputs": []
    },
    {
      "cell_type": "code",
      "source": [
        "from sklearn.preprocessing import StandardScaler\n",
        "\n",
        "attr_for_scaling = ['orders','views','cart_adds','price','next_price']\n",
        "scaler = StandardScaler()\n",
        "scale_tr = scaler.fit_transform(X_dt[attr_for_scaling])\n",
        "\n",
        "target_scaler = StandardScaler()\n",
        "y_s = target_scaler.fit_transform(y_dt)"
      ],
      "metadata": {
        "id": "4LWP-qZnxMEX"
      },
      "execution_count": 25,
      "outputs": []
    },
    {
      "cell_type": "code",
      "source": [
        "#X_dt2 = encoder.transform(X_dt[['product']])\n",
        "#X_dt2 = pd.DataFrame(X_dt2.toarray())\n",
        "#X_dt3 = X_dt.join(X_dt2)\n",
        "data_prepared = np.concatenate((one_hot_tr, scale_tr), axis=1)\n",
        "\n",
        "features = list(['A','B','C','D','E']) + attr_for_scaling\n",
        "X_dt4 = pd.DataFrame(data_prepared,\n",
        "                     columns=features,\n",
        "                     index = X_dt.index)\n",
        "\n",
        "#X_dt4 = X_dt3.drop(columns=['week','product'])\n",
        "X_dt4.head()\n",
        "X_dt4.info()"
      ],
      "metadata": {
        "colab": {
          "base_uri": "https://localhost:8080/"
        },
        "id": "61q6XPtnxPKm",
        "outputId": "634acbf5-48d0-4ab6-f0bb-0d49232bdba8"
      },
      "execution_count": 28,
      "outputs": [
        {
          "output_type": "stream",
          "name": "stdout",
          "text": [
            "<class 'pandas.core.frame.DataFrame'>\n",
            "RangeIndex: 260 entries, 0 to 259\n",
            "Data columns (total 10 columns):\n",
            " #   Column      Non-Null Count  Dtype  \n",
            "---  ------      --------------  -----  \n",
            " 0   A           260 non-null    float64\n",
            " 1   B           260 non-null    float64\n",
            " 2   C           260 non-null    float64\n",
            " 3   D           260 non-null    float64\n",
            " 4   E           260 non-null    float64\n",
            " 5   orders      260 non-null    float64\n",
            " 6   views       260 non-null    float64\n",
            " 7   cart_adds   260 non-null    float64\n",
            " 8   price       260 non-null    float64\n",
            " 9   next_price  260 non-null    float64\n",
            "dtypes: float64(10)\n",
            "memory usage: 20.4 KB\n"
          ]
        }
      ]
    },
    {
      "cell_type": "markdown",
      "source": [
        "### Setp 3: Split train test data"
      ],
      "metadata": {
        "id": "DSE2GMlA1bng"
      }
    },
    {
      "cell_type": "code",
      "source": [
        "import xgboost as xgb\n",
        "from sklearn.metrics import mean_squared_error\n",
        "from sklearn.model_selection import train_test_split\n",
        "from sklearn.linear_model import LinearRegression"
      ],
      "metadata": {
        "id": "FLDbSFZ6xS6C"
      },
      "execution_count": 29,
      "outputs": []
    },
    {
      "cell_type": "code",
      "source": [
        "X_train, X_test, y_train, y_test = train_test_split(X_dt4, y_s,\n",
        "                                                  test_size = .2,\n",
        "                                                  random_state=12)"
      ],
      "metadata": {
        "id": "h4WCGX_bxV9X"
      },
      "execution_count": 30,
      "outputs": []
    },
    {
      "cell_type": "markdown",
      "source": [
        "### Step 4: Train the model\n",
        "\n",
        "We will evaluate 2 models: XGBboost and Linear regression."
      ],
      "metadata": {
        "id": "FnukAUV92Kj6"
      }
    },
    {
      "cell_type": "code",
      "source": [
        "xg_reg = xgb.XGBRegressor(objective ='reg:linear', booster='gbtree', colsample_bytree = 0.7, learning_rate = 0.1, subsample=0.85, \n",
        "                          max_depth=10, alpha = 10, n_estimators = 10)"
      ],
      "metadata": {
        "id": "crjZDiVqxZLt"
      },
      "execution_count": 31,
      "outputs": []
    },
    {
      "cell_type": "code",
      "source": [
        "xg_reg.fit(X_train,y_train)"
      ],
      "metadata": {
        "colab": {
          "base_uri": "https://localhost:8080/"
        },
        "id": "LD0KJunjxiwg",
        "outputId": "e42eff57-2ade-4d8d-81a5-1e26715ab13e"
      },
      "execution_count": 32,
      "outputs": [
        {
          "output_type": "stream",
          "name": "stdout",
          "text": [
            "[10:28:22] WARNING: /workspace/src/objective/regression_obj.cu:152: reg:linear is now deprecated in favor of reg:squarederror.\n"
          ]
        },
        {
          "output_type": "execute_result",
          "data": {
            "text/plain": [
              "XGBRegressor(alpha=10, colsample_bytree=0.7, max_depth=10, n_estimators=10,\n",
              "             subsample=0.85)"
            ]
          },
          "metadata": {},
          "execution_count": 32
        }
      ]
    },
    {
      "cell_type": "code",
      "source": [
        "ln_reg = LinearRegression()"
      ],
      "metadata": {
        "id": "er_MQXlE1t-u"
      },
      "execution_count": 33,
      "outputs": []
    },
    {
      "cell_type": "code",
      "source": [
        "ln_reg.fit(X_train,y_train)"
      ],
      "metadata": {
        "colab": {
          "base_uri": "https://localhost:8080/"
        },
        "id": "W1qXz3J9140i",
        "outputId": "198de09e-9ea5-466a-ab7c-51894316a02a"
      },
      "execution_count": 34,
      "outputs": [
        {
          "output_type": "execute_result",
          "data": {
            "text/plain": [
              "LinearRegression()"
            ]
          },
          "metadata": {},
          "execution_count": 34
        }
      ]
    },
    {
      "cell_type": "markdown",
      "source": [
        "### Step 5: Predict and get the model's result"
      ],
      "metadata": {
        "id": "cUUjjx5Z2XuT"
      }
    },
    {
      "cell_type": "code",
      "source": [
        "preds = xg_reg.predict(X_test)\n",
        "preds = target_scaler.inverse_transform(preds.reshape(-1, 1))"
      ],
      "metadata": {
        "id": "c_-w7O1Wx3NV"
      },
      "execution_count": 35,
      "outputs": []
    },
    {
      "cell_type": "code",
      "source": [
        "rmse = np.sqrt(mean_squared_error(target_scaler.inverse_transform(y_test), preds))\n",
        "print(\"RMSE: %f\" % (rmse))"
      ],
      "metadata": {
        "colab": {
          "base_uri": "https://localhost:8080/"
        },
        "id": "32OiEssayMo_",
        "outputId": "85672803-1fd2-4bbf-cc69-156105b33c7e"
      },
      "execution_count": 36,
      "outputs": [
        {
          "output_type": "stream",
          "name": "stdout",
          "text": [
            "RMSE: 7.524065\n"
          ]
        }
      ]
    },
    {
      "cell_type": "markdown",
      "source": [
        "The model is predicting 7 more or 7 less orders than the actual amount."
      ],
      "metadata": {
        "id": "R0JfIZ7k2uS3"
      }
    },
    {
      "cell_type": "code",
      "source": [
        "preds = ln_reg.predict(X_test)\n",
        "preds = target_scaler.inverse_transform(preds.reshape(-1, 1))\n",
        "\n",
        "rmse = np.sqrt(mean_squared_error(target_scaler.inverse_transform(y_test), preds))\n",
        "print(\"RMSE: %f\" % (rmse))"
      ],
      "metadata": {
        "colab": {
          "base_uri": "https://localhost:8080/"
        },
        "id": "xtVF9aGw2BHp",
        "outputId": "e63b287f-7594-4f5d-c1f9-95674adc8af4"
      },
      "execution_count": 37,
      "outputs": [
        {
          "output_type": "stream",
          "name": "stdout",
          "text": [
            "RMSE: 4.860141\n"
          ]
        }
      ]
    },
    {
      "cell_type": "markdown",
      "source": [
        "The linear regression model seems better than the XGBoost model."
      ],
      "metadata": {
        "id": "XaKJfMeu2eNe"
      }
    },
    {
      "cell_type": "markdown",
      "source": [
        "## Approach 2: Weekly Inventory review"
      ],
      "metadata": {
        "id": "RYj7htnE4QJ7"
      }
    },
    {
      "cell_type": "markdown",
      "source": [
        "In this approach, we will use a Monte Carlo simulation of the optimum number for restocking every week.\n",
        "First I will find a price for the product cost in inventory to help on the optimization problem. I will use the min value of the product.\n",
        "We will also need the mean and the std for the orders modeling.\n",
        "\n",
        "The result will be a value *M* wich is the margin of inventory that the company must mantain every week to maximize profit. Every week the company must refil stock till the value of *M*."
      ],
      "metadata": {
        "id": "MVNjf4WB4oN1"
      }
    },
    {
      "cell_type": "code",
      "source": [
        "products_stat =data.groupby('product')['orders'].describe().reset_index()\n",
        "print(products_stat)"
      ],
      "metadata": {
        "colab": {
          "base_uri": "https://localhost:8080/"
        },
        "id": "gmEIOi9HbK15",
        "outputId": "569cdaa0-7cf4-425b-90d5-3a93ad53ce3c"
      },
      "execution_count": 57,
      "outputs": [
        {
          "output_type": "stream",
          "name": "stdout",
          "text": [
            "  product  count       mean        std   min    25%   50%    75%    max\n",
            "0       A   52.0  29.923077  16.590626   0.0  23.00  31.0  36.00  100.0\n",
            "1       B   51.0   6.882353   4.361867   1.0   3.50   6.0   9.50   18.0\n",
            "2       C   52.0  26.288462   9.010531  15.0  19.00  23.5  31.75   46.0\n",
            "3       D   52.0  25.076923  15.448645   0.0  10.75  27.5  38.25   47.0\n",
            "4       E   52.0   8.653846   3.930198   3.0   6.00   8.0  11.00   20.0\n"
          ]
        }
      ]
    },
    {
      "cell_type": "code",
      "source": [
        "products_price =data.groupby('product')['price'].agg('min').reset_index()\n",
        "print(products_price)"
      ],
      "metadata": {
        "colab": {
          "base_uri": "https://localhost:8080/"
        },
        "id": "2RLqk3YeavnF",
        "outputId": "cfb0184f-b37f-4368-c51e-aca448c9b2a4"
      },
      "execution_count": 58,
      "outputs": [
        {
          "output_type": "stream",
          "name": "stdout",
          "text": [
            "  product  price\n",
            "0       A  24.99\n",
            "1       B  44.99\n",
            "2       C  24.99\n",
            "3       D  19.99\n",
            "4       E  44.99\n"
          ]
        }
      ]
    },
    {
      "cell_type": "markdown",
      "source": [
        "This is the function that will be used for the optimization. If the stock increases there is a penalization as weel as if the sales decrease."
      ],
      "metadata": {
        "id": "AWOV7_Gtb7k1"
      }
    },
    {
      "cell_type": "code",
      "source": [
        "def calculate_profit(data, product_str):\n",
        "    product_cost = products_price.loc[products_price['product']==product_str]['price']\n",
        "    inventory_cost = product_cost\n",
        "\n",
        "    revenue = sum(data['units_sold']) * product_cost\n",
        "    inv_cost = sum(data['inv_level']) * inventory_cost\n",
        "\n",
        "    profit = revenue - inv_cost\n",
        "\n",
        "    return profit"
      ],
      "metadata": {
        "id": "oFeeVeHicPzD"
      },
      "execution_count": 89,
      "outputs": []
    },
    {
      "cell_type": "markdown",
      "source": [
        "Next is the function used to emulate one year (52 weeks) of orders received obeing a **log-normal distribution** as verified in the data exploration section."
      ],
      "metadata": {
        "id": "eCVUrFKnzwLL"
      }
    },
    {
      "cell_type": "code",
      "source": [
        "def monte_carlo(M, product_str, starting_inventory = 0):\n",
        "    mean = products_stat.loc[products_stat['product']==product_str]['mean']\n",
        "    std = products_stat.loc[products_stat['product']==product_str]['std']\n",
        "\n",
        "    inventory = starting_inventory\n",
        "    q = 0\n",
        "    stock_out = 0\n",
        "    counter = 0\n",
        "    \n",
        "    # dictionary to store all the information\n",
        "    mc_data = {'inv_level': [], 'week_demand': [], 'units_sold': [], 'units_lost': [], 'orders': []}\n",
        "\n",
        "    for week in range(1, 52): # five years of simulation\n",
        "        week_demand = np.round(np.log(np.random.lognormal(mean, std))) # log-normal distribution\n",
        "        mc_data['week_demand'].append(week_demand)\n",
        "        \n",
        "        q = M - inventory \n",
        "        q = 0 if q < 0 else q\n",
        "        \n",
        "        mc_data['orders'].append(q)\n",
        "        inventory += q\n",
        "        \n",
        "        if inventory - week_demand >= 0:\n",
        "            mc_data['units_sold'].append(week_demand)\n",
        "            inventory -= week_demand\n",
        "        elif inventory - week_demand < 0:\n",
        "            mc_data['units_sold'].append(inventory)\n",
        "            mc_data['units_lost'].append(week_demand - inventory)\n",
        "            inventory = 0\n",
        "            stock_out += 1\n",
        "\n",
        "        mc_data['inv_level'].append(inventory)\n",
        "\n",
        "    return mc_data"
      ],
      "metadata": {
        "id": "cXw4Ugwl6AT1"
      },
      "execution_count": 140,
      "outputs": []
    },
    {
      "cell_type": "code",
      "source": [
        "def mc_simulation(product_str, M, num_simulations=100):\n",
        "    orders_lost_list = []\n",
        "    profit_list = []\n",
        "    for sim in range(num_simulations):\n",
        "        data = monte_carlo(M, product_str)\n",
        "\n",
        "        #calculate profit\n",
        "        profit = calculate_profit(data, product_str)\n",
        "        profit_list.append(profit)\n",
        "        # Calculating the orders lost\n",
        "        total_demand = sum(data['week_demand'])\n",
        "        unsold_orders = sum(data['units_lost'])\n",
        "        orders_lost_list.append(unsold_orders/total_demand)\n",
        "\n",
        "    return profit_list, orders_lost_list"
      ],
      "metadata": {
        "id": "EzV_Dwuy6LTP"
      },
      "execution_count": 91,
      "outputs": []
    },
    {
      "cell_type": "code",
      "source": [
        "def weekly_review(product_str, low, high, step=1):\n",
        "    m_range = [i for i in range(low, high, step)]\n",
        "    review_dict = {}\n",
        "\n",
        "    for M in m_range:\n",
        "        p_list, o_list = mc_simulation(product_str, M)\n",
        "        review_dict[M] = (np.mean(p_list), np.quantile(p_list, 0.05), np.quantile(p_list, 0.95), np.std(p_list), np.mean(o_list))\n",
        "\n",
        "    return review_dict"
      ],
      "metadata": {
        "id": "NWYQxRyrfAss"
      },
      "execution_count": 93,
      "outputs": []
    },
    {
      "cell_type": "code",
      "source": [
        "mean = products_stat.loc[products_stat['product']=='B']['mean']\n",
        "std = products_stat.loc[products_stat['product']=='B']['std']\n",
        "\n",
        "product_cost = products_price.loc[products_price['product']=='B']['price']\n",
        "inventory_cost = product_cost\n",
        "\n",
        "review = weekly_review('A', 5, 50,1)\n",
        "xx = [i for i in review.keys()]\n",
        "yy = []\n",
        "for val in review.values():\n",
        "    yy.append(val[0])\n",
        "\n",
        "plt.plot(xx, yy)\n",
        "plt.show()"
      ],
      "metadata": {
        "colab": {
          "base_uri": "https://localhost:8080/",
          "height": 265
        },
        "id": "Wph4AnVRhXkg",
        "outputId": "2b8d9380-cf69-4d5e-8f27-ad625fcdcf5b"
      },
      "execution_count": 137,
      "outputs": [
        {
          "output_type": "display_data",
          "data": {
            "text/plain": [
              "<Figure size 432x288 with 1 Axes>"
            ],
            "image/png": "[encoded data removed]"
          },
          "metadata": {
            "needs_background": "light"
          }
        }
      ]
    },
    {
      "cell_type": "markdown",
      "source": [
        "Now it's time for the calculations. The following function prints the mean profit (revenue of sales - cost of sinventory) and the range between the 5% and 95% quartiles."
      ],
      "metadata": {
        "id": "_xyVNl5O87uy"
      }
    },
    {
      "cell_type": "code",
      "source": [
        "import operator\n",
        "\n",
        "def plot_weekly_review(product_str, low, high, step=50):\n",
        "    \n",
        "    review = weekly_review(product_str, low, high, step)\n",
        "    optimum = max(review.items(), key=operator.itemgetter(1))\n",
        "    \n",
        "    xx = [i for i in review.keys()]\n",
        "    yy = []\n",
        "    y_sd_1 = []\n",
        "    y_sd_2 = []\n",
        "    y_sd = []\n",
        "    for val in review.values():\n",
        "        yy.append(val[0])\n",
        "        y_sd_1.append(val[1])\n",
        "        y_sd_2.append(val[2])\n",
        "        y_sd.append(val[3])\n",
        "\n",
        "    fig, ax = plt.subplots(nrows=1, ncols=1)\n",
        "    plt.plot(xx, yy, linewidth=2)\n",
        "    plt.fill_between(xx, y_sd_1, y_sd_2, alpha=.25)\n",
        "    plt.axvline(x = optimum[0], color='k', alpha = .5, ls = '--')\n",
        "    plt.text(optimum[0], .5,str(optimum[0]))\n",
        "    print(optimum[0])\n",
        "\n",
        "    ax.set_ylabel('Profit')\n",
        "    ax.set_xlabel('M')\n",
        "    ax.set_title('Simulation of Profit')"
      ],
      "metadata": {
        "id": "qxBXfs60nI1O"
      },
      "execution_count": 154,
      "outputs": []
    },
    {
      "cell_type": "code",
      "source": [
        "plot_weekly_review('A', 1, 35,1)"
      ],
      "metadata": {
        "colab": {
          "base_uri": "https://localhost:8080/",
          "height": 312
        },
        "id": "2VyMXiA02Yzj",
        "outputId": "48230909-fb5c-4466-e6ad-f7baa376706c"
      },
      "execution_count": 156,
      "outputs": [
        {
          "output_type": "stream",
          "name": "stdout",
          "text": [
            "20\n"
          ]
        },
        {
          "output_type": "display_data",
          "data": {
            "text/plain": [
              "<Figure size 432x288 with 1 Axes>"
            ],
            "image/png": "[encoded data removed]"
          },
          "metadata": {
            "needs_background": "light"
          }
        }
      ]
    },
    {
      "cell_type": "code",
      "source": [
        "plot_weekly_review('B', 1, 20,1)"
      ],
      "metadata": {
        "colab": {
          "base_uri": "https://localhost:8080/",
          "height": 312
        },
        "id": "ztK8ExR4nz4x",
        "outputId": "15b9934a-2abd-4222-94e7-17d78d683592"
      },
      "execution_count": 155,
      "outputs": [
        {
          "output_type": "stream",
          "name": "stdout",
          "text": [
            "5\n"
          ]
        },
        {
          "output_type": "display_data",
          "data": {
            "text/plain": [
              "<Figure size 432x288 with 1 Axes>"
            ],
            "image/png": "[encoded data removed]"
          },
          "metadata": {
            "needs_background": "light"
          }
        }
      ]
    },
    {
      "cell_type": "code",
      "source": [
        "plot_weekly_review('C', 1, 35,1)"
      ],
      "metadata": {
        "colab": {
          "base_uri": "https://localhost:8080/",
          "height": 312
        },
        "id": "b8IcMzfa2XNY",
        "outputId": "f202bbd0-13a4-44d0-b226-79e73d6ee5ba"
      },
      "execution_count": 157,
      "outputs": [
        {
          "output_type": "stream",
          "name": "stdout",
          "text": [
            "19\n"
          ]
        },
        {
          "output_type": "display_data",
          "data": {
            "text/plain": [
              "<Figure size 432x288 with 1 Axes>"
            ],
            "image/png": "[encoded data removed]"
          },
          "metadata": {
            "needs_background": "light"
          }
        }
      ]
    },
    {
      "cell_type": "code",
      "source": [
        "plot_weekly_review('D', 1, 35,1)"
      ],
      "metadata": {
        "colab": {
          "base_uri": "https://localhost:8080/",
          "height": 312
        },
        "id": "L90rW9642vAE",
        "outputId": "f20493aa-cf76-492f-ba91-038571a4abd2"
      },
      "execution_count": 158,
      "outputs": [
        {
          "output_type": "stream",
          "name": "stdout",
          "text": [
            "15\n"
          ]
        },
        {
          "output_type": "display_data",
          "data": {
            "text/plain": [
              "<Figure size 432x288 with 1 Axes>"
            ],
            "image/png": "[encoded data removed]"
          },
          "metadata": {
            "needs_background": "light"
          }
        }
      ]
    },
    {
      "cell_type": "code",
      "source": [
        "plot_weekly_review('E', 1, 15,1)"
      ],
      "metadata": {
        "colab": {
          "base_uri": "https://localhost:8080/",
          "height": 312
        },
        "id": "StcsFdJO253V",
        "outputId": "dfcf36be-b41f-461c-83e5-d99f35d66f7f"
      },
      "execution_count": 159,
      "outputs": [
        {
          "output_type": "stream",
          "name": "stdout",
          "text": [
            "6\n"
          ]
        },
        {
          "output_type": "display_data",
          "data": {
            "text/plain": [
              "<Figure size 432x288 with 1 Axes>"
            ],
            "image/png": "[encoded data removed]"
          },
          "metadata": {
            "needs_background": "light"
          }
        }
      ]
    },
    {
      "cell_type": "markdown",
      "source": [
        "## Approach 3: Continous Inventory Review\n",
        "\n",
        "In this approach, we will try to find the *M* value which dipatches the need to restock the inventory: the *M* is the reorder point.\n",
        "\n",
        "This approach will also find the value *Q*, which means the amount of product to restock.\n",
        "\n",
        "Both *Q* and *M* will be found using the Monte Carlo approach.\n"
      ],
      "metadata": {
        "id": "AoLQsRj5_d9p"
      }
    },
    {
      "cell_type": "code",
      "source": [
        "def cc_monte_carlo(product_str, q, r, starting_inventory = 0):\n",
        "    mean = products_stat.loc[products_stat['product']==product_str]['mean']\n",
        "    std = products_stat.loc[products_stat['product']==product_str]['std']\n",
        "\n",
        "    inventory = r\n",
        "    q = 0\n",
        "    stock_out = 0\n",
        "    counter = 0\n",
        "\n",
        "    order_placed = False\n",
        "    order_time = 0\n",
        "    stock_out = 0\n",
        "    # dictionary to store all the information\n",
        "    data = {'inv_level': [], 'daily_demand': [], 'units_sold': [], 'units_lost': [], 'orders': []}\n",
        "\n",
        "    \n",
        "    for day in range(1, 365):\n",
        "        day_demand = np.round(np.log(np.random.lognormal(mean, std))) # Log-normal distribution\n",
        "        data['daily_demand'].append(day_demand)\n",
        "\n",
        "        if inventory <= r and not order_placed:\n",
        "            # Time to place an order\n",
        "            order_placed = True\n",
        "\n",
        "        if order_placed:\n",
        "            data['orders'].append(q)\n",
        "            inventory += q\n",
        "            order_placed = False\n",
        "            \n",
        "            \n",
        "        if inventory - day_demand >= 0:\n",
        "            data['units_sold'].append(day_demand)\n",
        "            inventory -= day_demand\n",
        "        elif inventory - day_demand < 0:\n",
        "            data['units_sold'].append(inventory)\n",
        "            data['units_lost'].append(day_demand - inventory)\n",
        "            inventory = 0\n",
        "            stock_out += 1\n",
        "\n",
        "        data['inv_level'].append(inventory)\n",
        "\n",
        "    return data"
      ],
      "metadata": {
        "id": "aWGxy8IxAIWd"
      },
      "execution_count": 182,
      "outputs": []
    },
    {
      "cell_type": "code",
      "source": [
        "data = cc_monte_carlo('A', 7, 29, starting_inventory = 0)"
      ],
      "metadata": {
        "id": "rsRKCvGBe_n2"
      },
      "execution_count": 183,
      "outputs": []
    },
    {
      "cell_type": "code",
      "source": [
        "def cc_mc_simulation(product_str, q, r, num_simulations=50):\n",
        "    profit_list = []\n",
        "    orders_lost_list = []\n",
        "    for sim in range(num_simulations):\n",
        "        data = cc_monte_carlo(product_str, q, r)\n",
        "        # Calculating the profit\n",
        "        profit = calculate_profit(data, product_str)\n",
        "        profit_list.append(profit)\n",
        "        # Calculating the orders lost\n",
        "        total_demand = sum(data['daily_demand'])\n",
        "        unsold_orders = sum(data['units_lost'])\n",
        "        orders_lost_list.append(unsold_orders/total_demand)\n",
        "\n",
        "    return profit_list, orders_lost_list"
      ],
      "metadata": {
        "id": "5lU7FZjFF8nb"
      },
      "execution_count": 161,
      "outputs": []
    },
    {
      "cell_type": "code",
      "source": [
        "def continous_review(product, q_guess, r_guess, q_range=30,r_range=30, step=1):\n",
        "    \n",
        "    q_low = q_guess - q_range\n",
        "    q_low = 1 if q_low <= 0 else q_low\n",
        "    q_high = q_guess + q_range\n",
        "    q_range = [i for i in range(int(q_low), int(q_high), step)]\n",
        "\n",
        "    r_low = r_guess - r_range\n",
        "    r_low = 1 if r_low <= 0 else r_low\n",
        "    r_high = r_guess + r_range\n",
        "    r_range = [i for i in range(int(r_low), int(r_high), step)]\n",
        "\n",
        "    review_dict = {}\n",
        "\n",
        "    for q in q_range:\n",
        "        for r in r_range:\n",
        "            p_list, o_list = cc_mc_simulation(product, q, r)\n",
        "            review_dict[(q, r)] = (\n",
        "                np.mean(p_list), np.quantile(p_list, 0.05), np.quantile(p_list, 0.95), np.std(p_list), np.mean(o_list))\n",
        "\n",
        "    return review_dict"
      ],
      "metadata": {
        "id": "MssVCuj8HJ4U"
      },
      "execution_count": 171,
      "outputs": []
    },
    {
      "cell_type": "code",
      "source": [
        "cc_review = continous_review('B', 10, 10)"
      ],
      "metadata": {
        "id": "fkLa8PG0J0Ur"
      },
      "execution_count": 191,
      "outputs": []
    },
    {
      "cell_type": "code",
      "source": [
        "max(cc_review.items(), key=operator.itemgetter(1))"
      ],
      "metadata": {
        "colab": {
          "base_uri": "https://localhost:8080/"
        },
        "id": "Pa91XAnsKJUy",
        "outputId": "34009006-cffb-4433-c6fb-c42063eb06f7"
      },
      "execution_count": 192,
      "outputs": [
        {
          "output_type": "execute_result",
          "data": {
            "text/plain": [
              "((32, 39),\n",
              " (-567.7737999999999,\n",
              "  -2361.975,\n",
              "  728.8379999999995,\n",
              "  926.4833859101631,\n",
              "  0.9846375829536832))"
            ]
          },
          "metadata": {},
          "execution_count": 192
        }
      ]
    },
    {
      "cell_type": "code",
      "source": [
        "cc_review2 = continous_review('A', 10, 10,20,20,2)"
      ],
      "metadata": {
        "id": "YXd9jBT3Zin2"
      },
      "execution_count": 189,
      "outputs": []
    },
    {
      "cell_type": "code",
      "source": [
        "max(cc_review2.items(), key=operator.itemgetter(1)) #7,29"
      ],
      "metadata": {
        "colab": {
          "base_uri": "https://localhost:8080/"
        },
        "id": "qZ9Nl_-DcCt5",
        "outputId": "614994dd-3f0d-460d-d45d-31a5678bf8f2"
      },
      "execution_count": 190,
      "outputs": [
        {
          "output_type": "execute_result",
          "data": {
            "text/plain": [
              "((1, 21),\n",
              " (-1363.4544,\n",
              "  -2768.892,\n",
              "  -319.8720000000003,\n",
              "  706.7384076025867,\n",
              "  0.9980787318678902))"
            ]
          },
          "metadata": {},
          "execution_count": 190
        }
      ]
    },
    {
      "cell_type": "code",
      "source": [
        "cc_review3 = continous_review('C', 10, 10,20,20,2)"
      ],
      "metadata": {
        "id": "gKB6MQaUcR3d"
      },
      "execution_count": 185,
      "outputs": []
    },
    {
      "cell_type": "code",
      "source": [
        "max(cc_review3.items(), key=operator.itemgetter(1))"
      ],
      "metadata": {
        "colab": {
          "base_uri": "https://localhost:8080/"
        },
        "id": "Lik9Jx8TdYMU",
        "outputId": "e0f85d3f-90dc-48d1-d8e6-123a4114fca9"
      },
      "execution_count": 186,
      "outputs": [
        {
          "output_type": "execute_result",
          "data": {
            "text/plain": [
              "((5, 29),\n",
              " (605.2578,\n",
              "  324.86999999999995,\n",
              "  724.7099999999999,\n",
              "  138.44459999999998,\n",
              "  0.9969653773471435))"
            ]
          },
          "metadata": {},
          "execution_count": 186
        }
      ]
    },
    {
      "cell_type": "code",
      "source": [
        "cc_review3.items()"
      ],
      "metadata": {
        "colab": {
          "base_uri": "https://localhost:8080/"
        },
        "id": "J8Q9_Pbyd1gW",
        "outputId": "98b0933d-bdd1-4292-ee70-a64b91604d47"
      },
      "execution_count": 179,
      "outputs": [
        {
          "output_type": "execute_result",
          "data": {
            "text/plain": [
              "dict_items([((1, 1), (-41.9832, -163.68449999999999, 0.0, 65.05852655693948, 1.0)), ((1, 3), (-33.486599999999996, -177.42899999999997, 0.0, 59.05470648847559, 1.0)), ((1, 5), (-47.9808, -213.66449999999998, 0.0, 81.79635854584237, 1.0)), ((1, 7), (-49.480199999999996, -229.90799999999996, 0.0, 84.59622536472888, 1.0)), ((1, 9), (-42.483000000000004, -163.68449999999999, 0.0, 70.01661077915726, 1.0)), ((1, 11), (-38.984399999999994, -163.68449999999999, 0.0, 63.84150258758013, 1.0)), ((1, 13), (-28.9884, -124.94999999999999, 0.0, 44.524298056679115, 1.0)), ((1, 15), (-46.9812, -188.67449999999997, 0.0, 70.44166376910755, 1.0)), ((1, 17), (-65.4738, -213.66449999999998, 0.0, 82.86587536229857, 1.0)), ((1, 19), (-37.9848, -138.69449999999998, 0.0, 53.65347762223806, 1.0)), ((1, 21), (-49.97999999999999, -188.67449999999997, 0.0, 83.183298251512, 1.0)), ((1, 23), (-28.988400000000002, -152.43899999999996, 0.0, 50.318716253895026, 1.0)), ((1, 25), (-42.483000000000004, -199.92, 0.0, 70.37247894596295, 1.0)), ((1, 27), (-40.4838, -202.41899999999998, 0.0, 71.71564002057012, 1.0)), ((1, 29), (-40.983599999999996, -124.94999999999999, 0.0, 51.399272592518265, 1.0)), ((3, 1), (-50.4798, -199.92, 0.0, 81.43673165077291, 1.0000161550888529)), ((3, 3), (-42.48299999999999, -213.66449999999998, 0.0, 73.497794966924, 1.0000041959509074)), ((3, 5), (-26.489399999999996, -199.92, 0.0, 63.103584982471475, 1.0)), ((3, 7), (-38.984399999999994, -188.67449999999997, 0.0, 64.42575156441715, 1.0)), ((3, 9), (-41.4834, -202.41899999999998, 0.0, 77.84856305957098, 1.0)), ((3, 11), (-32.9868, -113.70449999999998, 0.0, 73.53007592652139, 1.0)), ((3, 13), (-30.987599999999997, -163.68449999999999, 0.0, 50.615701222446766, 1.0)), ((3, 15), (-43.9824, -188.67449999999997, 0.0, 66.97319999999999, 1.0)), ((3, 17), (-36.4854, -124.94999999999999, 0.0, 52.943424982144855, 1.0)), ((3, 19), (-33.986399999999996, -124.94999999999999, 0.0, 46.82141765303567, 1.0)), ((3, 21), (-43.9824, -199.92, 0.0, 77.03408174464079, 1.0)), ((3, 23), (-24.99, -113.70449999999998, 0.0, 44.141140809906574, 1.0)), ((3, 25), (-40.983599999999996, -177.42899999999997, 0.0, 63.37022520900489, 1.0)), ((3, 27), (-50.9796, -202.41899999999998, 0.0, 88.7000679810337, 1.0)), ((3, 29), (-50.9796, -227.40899999999996, 0.0, 83.32731792059552, 1.0000083516024636)), ((5, 1), (-51.9792, -227.40899999999996, 0.0, 96.24751780362962, 1.0)), ((5, 3), (-56.977199999999996, -227.40899999999996, 0.0, 92.97354776580272, 1.0)), ((5, 5), (-25.9896, -149.94, 0.0, 53.354674170497944, 1.0)), ((5, 7), (-35.9856, -188.67449999999997, 0.0, 63.2518572109942, 1.0)), ((5, 9), (-46.9812, -202.41899999999998, 0.0, 77.04705153709646, 1.0)), ((5, 11), (-43.98239999999999, -213.66449999999998, 0.0, 74.05815065365864, 1.0)), ((5, 13), (-42.483000000000004, -249.89999999999998, 0.0, 75.67473764077414, 1.0)), ((5, 15), (-41.9832, -174.92999999999998, 0.0, 74.20641536794511, 1.0)), ((5, 17), (-26.4894, -124.94999999999999, 0.0, 41.035375831591935, 1.0)), ((5, 19), (-49.98, -188.67449999999997, 0.0, 70.50546642637009, 1.0)), ((5, 21), (-31.987199999999994, -152.43899999999996, 0.0, 47.425726775242985, 1.0)), ((5, 23), (-28.4886, -113.70449999999998, 0.0, 42.4123813059347, 1.0)), ((5, 25), (-56.47740000000001, -224.91, 0.0, 78.36028830498265, 1.0)), ((5, 27), (-28.4886, -129.94799999999998, 0.0, 66.68351004588764, 1.0)), ((5, 29), (-37.9848, -166.18349999999998, 0.0, 62.87158207775592, 1.0)), ((7, 1), (-32.486999999999995, -149.94, 0.0, 61.26373805931205, 1.0)), ((7, 3), (-49.480199999999996, -213.66449999999998, 0.0, 96.97794443047346, 1.0)), ((7, 5), (-46.4814, -149.94, 0.0, 75.1380775907928, 1.0)), ((7, 7), (-46.4814, -163.68449999999999, 0.0, 66.49594354575322, 1.0)), ((7, 9), (-57.477, -238.65449999999998, 0.0, 92.7327686257668, 1.0)), ((7, 11), (-40.4838, -163.68449999999999, 0.0, 69.77358368007192, 1.0)), ((7, 13), (-36.9852, -163.68449999999999, 0.0, 74.67620834616604, 1.0)), ((7, 15), (-25.9896, -124.94999999999999, 0.0, 56.757566155007034, 1.0)), ((7, 17), (-35.985600000000005, -213.66449999999998, 0.0, 70.35650355610348, 1.0)), ((7, 19), (-40.983599999999996, -213.66449999999998, 0.0, 70.99271516881151, 1.0)), ((7, 21), (-40.4838, -163.68449999999999, 0.0, 58.47659999999999, 1.0)), ((7, 23), (-28.488599999999998, -124.94999999999999, 0.0, 49.73198363266842, 1.0)), ((7, 25), (-34.4862, -152.43899999999996, 0.0, 62.802012957866246, 1.0)), ((7, 27), (-30.487799999999996, -99.96, 0.0, 42.19981617448114, 1.0)), ((7, 29), (-48.98039999999999, -188.67449999999997, 0.0, 63.01445418187797, 1.0)), ((9, 1), (-40.483799999999995, -174.92999999999998, 0.0, 75.94493481174369, 1.0)), ((9, 3), (-41.9832, -152.43899999999996, 0.0, 70.93639408484195, 1.0)), ((9, 5), (-54.977999999999994, -213.66449999999998, 0.0, 97.42895627071039, 1.0)), ((9, 7), (-51.4794, -224.91, 0.0, 87.3449656342024, 1.0)), ((9, 9), (-41.48339999999999, -163.68449999999999, 0.0, 66.79579713155611, 1.0)), ((9, 11), (-20.491799999999998, -99.96, 0.0, 41.12051155761562, 1.0)), ((9, 13), (-42.9828, -149.94, 0.0, 67.98749841081079, 1.0)), ((9, 15), (-18.9924, -88.71449999999999, 0.0, 31.03593005276304, 1.0)), ((9, 17), (-25.9896, -124.94999999999999, 0.0, 48.18860001950669, 1.0)), ((9, 19), (-57.477, -188.67449999999997, 0.0, 85.1495517369293, 1.0)), ((9, 21), (-26.4894, -113.70449999999998, 0.0, 54.615586398389965, 1.0)), ((9, 23), (-37.9848, -149.94, 0.0, 74.50876518209117, 1.0)), ((9, 25), (-42.982800000000005, -174.92999999999998, 0.0, 65.93572549202746, 1.0)), ((9, 27), (-47.9808, -174.92999999999998, 0.0, 65.89782921583988, 1.0)), ((9, 29), (-32.986799999999995, -138.69449999999998, 0.0, 52.04643728210414, 1.0)), ((11, 1), (-46.481399999999994, -188.67449999999997, 0.0, 68.89448860424177, 1.0)), ((11, 3), (-33.986399999999996, -199.92, 0.0, 59.50769166284304, 1.0)), ((11, 5), (-38.4846, -149.94, 0.0, 54.11013092610291, 1.0)), ((11, 7), (-40.4838, -188.67449999999997, 0.0, 66.66102993173747, 1.0)), ((11, 9), (-37.9848, -188.67449999999997, 0.0, 65.59387081854523, 1.0)), ((11, 11), (-29.987999999999996, -124.94999999999999, 0.0, 47.93913190703394, 1.0)), ((11, 13), (-54.977999999999994, -274.89, 0.0, 94.96199999999999, 1.0000194216659473)), ((11, 15), (-45.4818, -238.65449999999998, 0.0, 75.25102728042987, 1.0)), ((11, 17), (-45.9816, -163.68449999999999, 0.0, 69.49916239380156, 1.0)), ((11, 19), (-42.48299999999999, -213.66449999999998, 0.0, 70.72655654702835, 1.0)), ((11, 21), (-39.4842, -152.43899999999996, 0.0, 63.43523346185461, 1.0)), ((11, 23), (-33.986399999999996, -213.66449999999998, 0.0, 62.974799999999995, 1.0)), ((11, 25), (-24.4902, -99.96, 0.0, 38.22408185895378, 1.0)), ((11, 27), (-34.4862, -163.68449999999999, 0.0, 64.56711908982776, 1.0)), ((11, 29), (-46.481399999999994, -188.67449999999997, 0.0, 71.03668494545617, 1.0)), ((13, 1), (-46.9812, -199.92, 0.0, 72.5381833420165, 1.0)), ((13, 3), (-34.4862, -179.92799999999997, 0.0, 69.77358368007192, 1.0)), ((13, 5), (-34.4862, -154.938, 0.0, 71.01558285024493, 1.0)), ((13, 7), (-32.9868, -163.68449999999999, 0.0, 56.42208530141367, 1.0)), ((13, 9), (-24.99, -113.70449999999998, 0.0, 43.28394968114624, 1.0)), ((13, 11), (-27.988799999999998, -127.44899999999998, 0.0, 54.20929505684426, 1.0000020815986679)), ((13, 13), (-44.982, -188.67449999999997, 0.0, 66.30596280878515, 1.0)), ((13, 15), (-37.9848, -149.94, 0.0, 53.18585952074103, 1.0)), ((13, 17), (-45.4818, -163.68449999999999, 0.0, 58.21972812337756, 1.0)), ((13, 19), (-61.97519999999999, -266.14349999999996, 0.0, 94.20136209715865, 1.0)), ((13, 21), (-51.9792, -277.38899999999995, 0.0, 91.31990218654421, 1.0)), ((13, 23), (-47.481, -277.38899999999995, 0.0, 91.1021752155238, 1.0)), ((13, 25), (-36.4854, -163.68449999999999, 0.0, 62.66662930810943, 1.0)), ((13, 27), (-43.9824, -174.92999999999998, 0.0, 66.03415402835111, 1.0)), ((13, 29), (-38.48459999999999, -149.94, 0.0, 52.706984782284785, 1.0)), ((15, 1), (-50.97959999999999, -163.68449999999999, 0.0, 65.15828020934869, 1.0)), ((15, 3), (-51.9792, -216.16349999999997, 0.0, 77.56406489709006, 1.0)), ((15, 5), (-30.487799999999996, -152.43899999999996, 0.0, 63.86693082621084, 1.0)), ((15, 7), (-38.9844, -218.66249999999997, 0.0, 88.72822583958275, 1.0)), ((15, 9), (-50.9796, -249.89999999999998, 0.0, 78.86077476058676, 1.0)), ((15, 11), (-51.4794, -252.39899999999997, 0.0, 87.201852145697, 1.0)), ((15, 13), (-39.983999999999995, -163.68449999999999, 0.0, 56.54591507792583, 1.0)), ((15, 15), (-45.48179999999999, -149.94, 0.0, 60.326915906252, 1.0)), ((15, 17), (-34.4862, -149.94, 0.0, 48.686266847644006, 1.0000063646971464)), ((15, 19), (-50.4798, -174.92999999999998, 0.0, 69.70194386069875, 1.0)), ((15, 21), (-32.986799999999995, -138.69449999999998, 0.0, 55.07786929212131, 1.0)), ((15, 23), (-32.9868, -149.94, 0.0, 53.46692115467282, 1.0)), ((15, 25), (-34.486200000000004, -149.94, 0.0, 54.496538197944275, 1.0)), ((15, 27), (-55.977599999999995, -199.92, 0.0, 72.17914958102513, 1.0)), ((15, 29), (-55.47780000000001, -238.65449999999998, 0.0, 98.61270586065469, 1.0)), ((17, 1), (-52.479000000000006, -202.41899999999998, 0.0, 75.34391753154331, 1.0000102249488751)), ((17, 3), (-45.48179999999999, -199.92, 0.0, 70.09505679261555, 1.0)), ((17, 5), (-40.983599999999996, -199.92, 0.0, 66.82383942157169, 1.0)), ((17, 7), (-34.4862, -193.67249999999996, 0.0, 64.95285117344734, 1.0)), ((17, 9), (-60.97559999999999, -288.6345, 0.0, 99.85498683911585, 1.0)), ((17, 11), (-46.4814, -199.92, 0.0, 76.78235958890556, 1.0)), ((17, 13), (-30.487799999999996, -152.43899999999996, 0.0, 61.88040734481311, 1.0)), ((17, 15), (-42.48299999999999, -199.92, 0.0, 76.8213898923991, 1.0)), ((17, 17), (-33.986399999999996, -202.41899999999998, 0.0, 67.56734071309896, 1.0)), ((17, 19), (-60.47579999999999, -238.65449999999998, 0.0, 84.68476455868552, 1.0)), ((17, 21), (-50.4798, -199.92, 0.0, 83.25683941851264, 1.0)), ((17, 23), (-47.9808, -213.66449999999998, 0.0, 92.81220059539585, 1.0)), ((17, 25), (-61.9752, -263.6445, 0.0, 88.73948648127279, 1.0)), ((17, 27), (-42.48299999999999, -202.41899999999998, 0.0, 68.20942563165299, 1.0)), ((17, 29), (-41.48339999999999, -177.42899999999997, 0.0, 68.0921327499734, 1.0)), ((19, 1), (-27.489, -88.71449999999999, 0.0, 37.150305799548946, 1.0)), ((19, 3), (-33.486599999999996, -188.67449999999997, 0.0, 62.14626632743112, 1.0)), ((19, 5), (-64.4742, -174.92999999999998, 0.0, 82.4427637113167, 1.0000063559322034)), ((19, 7), (-34.4862, -152.43899999999996, 0.0, 84.94982846103927, 1.0)), ((19, 9), (-43.9824, -227.40899999999996, 0.0, 83.71612701409448, 1.0)), ((19, 11), (-48.480599999999995, -174.92999999999998, 0.0, 64.4742, 1.0)), ((19, 13), (-28.488599999999998, -124.94999999999999, 0.0, 52.18304548452495, 1.0)), ((19, 15), (-31.987199999999998, -188.67449999999997, 0.0, 57.648414827816374, 1.0)), ((19, 17), (-34.4862, -174.92999999999998, 0.0, 56.742159947961085, 1.0)), ((19, 19), (-45.9816, -207.41699999999997, 0.0, 70.39199949880668, 1.0)), ((19, 21), (-38.984399999999994, -188.67449999999997, 0.0, 67.45633794270186, 1.0)), ((19, 23), (-46.98119999999999, -224.91, 0.0, 76.39586464305513, 1.0)), ((19, 25), (-41.4834, -177.42899999999997, 0.0, 67.16873173166216, 1.0)), ((19, 27), (-30.987599999999997, -138.69449999999998, 0.0, 58.40607285411338, 1.0)), ((19, 29), (-25.9896, -124.94999999999999, 0.0, 44.97089196180124, 1.0)), ((21, 1), (-50.4798, -213.66449999999998, 0.0, 75.87912177905066, 1.0)), ((21, 3), (-56.47740000000001, -188.67449999999997, 0.0, 75.60208142134711, 1.0)), ((21, 5), (-39.98400000000001, -204.91799999999998, 0.0, 73.45529840658193, 1.0)), ((21, 7), (-30.9876, -149.94, 0.0, 52.552728209294706, 1.000002107925801)), ((21, 9), (-36.9852, -188.67449999999997, 0.0, 59.81752061862811, 1.0)), ((21, 11), (-43.48259999999999, -149.94, 0.0, 63.96854270061184, 1.0)), ((21, 13), (-46.481399999999994, -238.65449999999998, 0.0, 87.71596794221676, 1.0)), ((21, 15), (-54.977999999999994, -224.91, 0.0, 98.0678415180022, 1.0)), ((21, 17), (-41.983200000000004, -174.92999999999998, 0.0, 70.22856961208878, 1.0)), ((21, 19), (-43.482600000000005, -177.42899999999997, 0.0, 80.40568907260231, 1.0)), ((21, 21), (-31.487399999999997, -138.69449999999998, 0.0, 55.38767273717139, 1.0)), ((21, 23), (-37.48500000000001, -138.69449999999998, 0.0, 71.0788703413328, 1.0)), ((21, 25), (-42.483000000000004, -188.67449999999997, 0.0, 67.65785788066306, 1.0)), ((21, 27), (-55.9776, -249.89999999999998, 0.0, 84.1625209593914, 1.0)), ((21, 29), (-62.474999999999994, -288.6345, 0.0, 100.36526596885996, 1.0)), ((23, 1), (-43.482600000000005, -177.42899999999997, 0.0, 71.35246747828697, 1.0)), ((23, 3), (-49.97999999999999, -213.66449999999998, 0.0, 71.90869786055092, 1.0)), ((23, 5), (-46.9812, -238.65449999999998, 0.0, 78.65143476478988, 1.000004332286364)), ((23, 7), (-44.48219999999999, -188.67449999999997, 0.0, 83.97383717063309, 1.0)), ((23, 9), (-56.977199999999996, -188.67449999999997, 0.0, 112.65363390570228, 1.0)), ((23, 11), (-37.485, -163.68449999999999, 0.0, 55.03476614831755, 1.0)), ((23, 13), (-47.481, -202.41899999999998, 0.0, 77.63005838591131, 1.0)), ((23, 15), (-45.981599999999986, -149.94, 0.0, 67.86246044345872, 1.0)), ((23, 17), (-50.9796, -213.66449999999998, 0.0, 77.2607387735841, 1.0)), ((23, 19), (-46.9812, -263.6445, 0.0, 83.7280617389415, 1.0)), ((23, 21), (-42.483000000000004, -238.65449999999998, 0.0, 80.00703734672345, 1.0)), ((23, 23), (-52.479000000000006, -213.66449999999998, 0.0, 81.39991437956185, 1.0)), ((23, 25), (-31.9872, -188.67449999999997, 0.0, 60.39933595793914, 1.0000021112635913)), ((23, 27), (-55.9776, -224.91, 0.0, 82.66516735747892, 1.0)), ((23, 29), (-40.4838, -138.69449999999998, 0.0, 55.405709918382954, 1.0)), ((25, 1), (-54.478199999999994, -213.66449999999998, 0.0, 80.38704643635067, 1.0)), ((25, 3), (-68.9724, -263.6445, 0.0, 87.22333413852051, 1.0)), ((25, 5), (-26.489399999999996, -152.43899999999996, 0.0, 50.08235419426686, 1.0)), ((25, 7), (-28.9884, -138.69449999999998, 0.0, 53.913572182150936, 1.0)), ((25, 9), (-43.48259999999999, -199.92, 0.0, 71.00151130250678, 1.0)), ((25, 11), (-27.9888, -191.1735, 0.0, 66.238115179706, 1.0)), ((25, 13), (-50.4798, -252.39899999999997, 0.0, 81.43673165077291, 1.0)), ((25, 15), (-32.486999999999995, -124.94999999999999, 0.0, 74.84494570109592, 1.0)), ((25, 17), (-37.98479999999999, -149.94, 0.0, 58.55130868699691, 1.0)), ((25, 19), (-44.482200000000006, -199.92, 0.0, 81.25247846779813, 1.0)), ((25, 21), (-42.9828, -174.92999999999998, 0.0, 73.29188263484572, 1.0)), ((25, 23), (-57.976800000000004, -224.91, 0.0, 81.58230363111844, 1.0)), ((25, 25), (-44.482200000000006, -213.66449999999998, 0.0, 71.261385147638, 1.0)), ((25, 27), (-61.9752, -266.14349999999996, 0.0, 95.38719335927647, 1.0)), ((25, 29), (-35.4858, -163.68449999999999, 0.0, 57.224371769028615, 1.0)), ((27, 1), (-37.9848, -202.41899999999998, 0.0, 61.261699298664574, 1.0)), ((27, 3), (-35.9856, -163.68449999999999, 0.0, 78.09684869852303, 1.0)), ((27, 5), (-54.478199999999994, -213.66449999999998, 0.0, 74.41651084779507, 1.0)), ((27, 7), (-42.9828, -199.92, 0.0, 65.36497444472843, 1.0)), ((27, 9), (-44.48219999999999, -174.92999999999998, 0.0, 62.08192021160428, 1.0)), ((27, 11), (-45.9816, -199.92, 0.0, 63.09368777809711, 1.0)), ((27, 13), (-34.986, -229.90799999999996, 0.0, 78.3905669325079, 1.0000020546537909)), ((27, 15), (-38.4846, -124.94999999999999, 0.0, 88.73526390809911, 1.0)), ((27, 17), (-50.97959999999999, -163.68449999999999, 0.0, 86.41771806660945, 1.0)), ((27, 19), (-42.48299999999999, -199.92, 0.0, 67.84221205857014, 1.0)), ((27, 21), (-36.9852, -177.42899999999997, 0.0, 64.44125902680673, 1.0)), ((27, 23), (-41.4834, -216.16349999999997, 0.0, 72.36061524365309, 1.0)), ((27, 25), (-37.485, -149.94, 0.0, 51.51820479209267, 1.0)), ((27, 27), (-36.4854, -174.92999999999998, 0.0, 86.0193407603197, 1.0)), ((27, 29), (-53.97839999999999, -213.66449999999998, 0.0, 80.18013363321366, 1.0)), ((29, 1), (-35.9856, -127.44899999999998, 0.0, 65.76881854374459, 1.0)), ((29, 3), (-44.982000000000006, -163.68449999999999, 0.0, 62.22459819074768, 1.0)), ((29, 5), (-37.98480000000001, -163.68449999999999, 0.0, 65.21193051091188, 1.0)), ((29, 7), (-31.9872, -163.68449999999999, 0.0, 60.19219035855066, 1.0)), ((29, 9), (-42.483000000000004, -166.18349999999998, 0.0, 68.20942563165299, 1.0)), ((29, 11), (-33.986399999999996, -152.43899999999996, 0.0, 66.44896919471361, 1.0)), ((29, 13), (-50.9796, -177.42899999999997, 0.0, 91.47295851693, 1.0000207296849088)), ((29, 15), (-51.9792, -238.65449999999998, 0.0, 83.15927072407501, 1.0)), ((29, 17), (-56.977199999999996, -249.89999999999998, 0.0, 84.6773898284542, 1.0)), ((29, 19), (-43.48259999999999, -213.66449999999998, 0.0, 75.43669340075823, 1.0)), ((29, 21), (-51.479400000000005, -213.66449999999998, 0.0, 71.28241447678381, 1.0)), ((29, 23), (-30.487799999999996, -163.68449999999999, 0.0, 52.25002045128786, 1.0)), ((29, 25), (-25.4898, -124.94999999999999, 0.0, 53.943680500685154, 1.0)), ((29, 27), (-44.482200000000006, -188.67449999999997, 0.0, 67.48040403820949, 1.0)), ((29, 29), (-33.986399999999996, -174.92999999999998, 0.0, 53.0730181075092, 1.0))])"
            ]
          },
          "metadata": {},
          "execution_count": 179
        }
      ]
    },
    {
      "cell_type": "markdown",
      "source": [
        "## Approach 3: LTSM"
      ],
      "metadata": {
        "id": "feZ0cXlb5ouH"
      }
    },
    {
      "cell_type": "code",
      "source": [
        "from keras.models import Sequential\n",
        "from keras.layers import LSTM\n",
        "from keras.layers import Dense\n",
        "from keras.layers import Dropout"
      ],
      "metadata": {
        "id": "A3EdUOyG5fAH"
      },
      "execution_count": 93,
      "outputs": []
    },
    {
      "cell_type": "code",
      "source": [
        "# split a multivariate sequence into samples\n",
        "def split_sequences(sequences, n_steps):\n",
        "\tX, y = list(), list()\n",
        "\tfor i in range(len(sequences)):\n",
        "\t\t# find the end of this pattern\n",
        "\t\tend_ix = i + n_steps\n",
        "\t\t# check if we are beyond the dataset\n",
        "\t\tif end_ix > len(sequences)-1:\n",
        "\t\t\tbreak\n",
        "\t\t# gather input and output parts of the pattern\n",
        "\t\tseq_x, seq_y = sequences[i:end_ix, :], sequences[end_ix, :,0]\n",
        "\t\tX.append(seq_x)\n",
        "\t\ty.append(seq_y)\n",
        "\treturn np.array(X), np.array(y)"
      ],
      "metadata": {
        "id": "x8JRPGdb52TY"
      },
      "execution_count": 39,
      "outputs": []
    },
    {
      "cell_type": "code",
      "source": [
        "dt_A = dt.loc[dt['product']=='A'].drop(columns=['product','week']).reset_index().drop(columns=['index'])\n",
        "dt_B = dt.loc[dt['product']=='B'].drop(columns=['product','week']).reset_index().drop(columns=['index'])\n",
        "dt_C = dt.loc[dt['product']=='C'].drop(columns=['product','week']).reset_index().drop(columns=['index'])\n",
        "dt_D = dt.loc[dt['product']=='D'].drop(columns=['product','week']).reset_index().drop(columns=['index'])\n",
        "dt_E = dt.loc[dt['product']=='E'].drop(columns=['product','week']).reset_index().drop(columns=['index'])"
      ],
      "metadata": {
        "id": "-IjvZUh69vdF"
      },
      "execution_count": 40,
      "outputs": []
    },
    {
      "cell_type": "code",
      "source": [
        "ar_A = dt_A.to_numpy()\n",
        "ar_B = dt_B.to_numpy()\n",
        "ar_C = dt_C.to_numpy()\n",
        "ar_D = dt_D.to_numpy()\n",
        "ar_E = dt_E.to_numpy()"
      ],
      "metadata": {
        "id": "KtwayGAc-3QY"
      },
      "execution_count": 42,
      "outputs": []
    },
    {
      "cell_type": "code",
      "source": [
        "dataset = np.hstack((ar_A, ar_B, ar_C,ar_D,ar_E))"
      ],
      "metadata": {
        "id": "cDSQlMZTCkw2"
      },
      "execution_count": 44,
      "outputs": []
    },
    {
      "cell_type": "code",
      "source": [
        "dataset2 = dataset.reshape((len(ar_A),-1,4))\n"
      ],
      "metadata": {
        "id": "zp3wApDqDXZj"
      },
      "execution_count": null,
      "outputs": []
    },
    {
      "cell_type": "code",
      "source": [
        "n_steps = 3\n",
        "X, y = split_sequences(dataset2, n_steps)"
      ],
      "metadata": {
        "id": "DTBOSch4EZAJ"
      },
      "execution_count": 48,
      "outputs": []
    },
    {
      "cell_type": "code",
      "source": [
        "n_features = X.shape[2]\n",
        "n_features"
      ],
      "metadata": {
        "colab": {
          "base_uri": "https://localhost:8080/"
        },
        "id": "WS6xEAwtJMv_",
        "outputId": "bb454a83-54c0-4bce-c7ff-f73dac19c516"
      },
      "execution_count": 49,
      "outputs": [
        {
          "output_type": "execute_result",
          "data": {
            "text/plain": [
              "5"
            ]
          },
          "metadata": {},
          "execution_count": 49
        }
      ]
    },
    {
      "cell_type": "code",
      "source": [
        "X2 = np.reshape(X, (X.shape[0], X.shape[1], X.shape[2]*X.shape[3]))"
      ],
      "metadata": {
        "id": "H6g5ZngvN9LO"
      },
      "execution_count": 50,
      "outputs": []
    },
    {
      "cell_type": "code",
      "source": [
        "X_train , X_test = X2[0:int(X.shape[0]*0.8)] , X2[int(X.shape[0]*0.8):]\n",
        "y_train, y_test = y[0:int(X.shape[0]*0.8)] , y[int(X.shape[0]*0.8):]"
      ],
      "metadata": {
        "id": "oPP7ySN6O9XQ"
      },
      "execution_count": 99,
      "outputs": []
    },
    {
      "cell_type": "code",
      "source": [
        "from sklearn.preprocessing import MinMaxScaler\n",
        "\n",
        "scaler = MinMaxScaler(feature_range=(0,1))\n",
        "X_train = scaler.fit_transform(X_train.reshape(-1,1)).reshape(X_train.shape)\n",
        "X_test = scaler.transform(X_test.reshape(-1,1)).reshape(X_test.shape)\n"
      ],
      "metadata": {
        "id": "u9v6NNHzQF8q"
      },
      "execution_count": 100,
      "outputs": []
    },
    {
      "cell_type": "code",
      "source": [
        "target_scaler = MinMaxScaler(feature_range=(0,1))\n",
        "y_train = target_scaler.fit_transform(y_train)\n",
        "y_test = target_scaler.transform(y_test)"
      ],
      "metadata": {
        "id": "sYwhb6PhVs6p"
      },
      "execution_count": 105,
      "outputs": []
    },
    {
      "cell_type": "code",
      "source": [
        "model = Sequential()\n",
        "model.add(LSTM(100, activation='relu', return_sequences=True, input_shape=(X.shape[1],X2.shape[2])))\n",
        "model.add(Dropout(0.3))\n",
        "model.add(LSTM(100, activation='relu',return_sequences = True))\n",
        "model.add(Dropout(0.3)) \n",
        "model.add(LSTM(units = 50))\n",
        "model.add(Dropout(0.3))\n",
        "model.add(Dense(X.shape[2]))\n",
        "model.compile(optimizer='adam', loss='mse')\n",
        "# fit model\n",
        "model.fit(X_train, y_train, epochs=400, verbose=0)"
      ],
      "metadata": {
        "colab": {
          "base_uri": "https://localhost:8080/"
        },
        "id": "SxVfmJymJaB3",
        "outputId": "76714f3a-bc2e-4cdf-93f7-4c594a0a3801"
      },
      "execution_count": 106,
      "outputs": [
        {
          "output_type": "execute_result",
          "data": {
            "text/plain": [
              "<keras.callbacks.History at 0x7fbee82799d0>"
            ]
          },
          "metadata": {},
          "execution_count": 106
        }
      ]
    },
    {
      "cell_type": "code",
      "source": [
        "preds = model.predict(X_test)"
      ],
      "metadata": {
        "id": "3qzuiGqyOiuD"
      },
      "execution_count": 107,
      "outputs": []
    },
    {
      "cell_type": "code",
      "source": [
        "from keras.losses import MeanSquaredError, MeanAbsoluteError, MeanAbsolutePercentageError\n",
        "def evaluate_forecast(y_test_inverse, yhat_inverse):\n",
        " mse_ = MeanSquaredError()\n",
        " mae_ = MeanAbsoluteError()\n",
        " mape_ = MeanAbsolutePercentageError()\n",
        " mae = mae_(y_test_inverse,yhat_inverse)\n",
        " print('mae:', mae)\n",
        " mse = mse_(y_test_inverse,yhat_inverse)\n",
        " print('mse:', mse)\n",
        " mape = mape_(y_test_inverse,yhat_inverse)\n",
        " print('mape:', mape)"
      ],
      "metadata": {
        "id": "6OFPQxR8Rza_"
      },
      "execution_count": 108,
      "outputs": []
    },
    {
      "cell_type": "code",
      "source": [
        "evaluate_forecast(target_scaler.inverse_transform(y_test),target_scaler.inverse_transform(preds))\n",
        "#evaluate_forecast(y_test,preds)\n",
        "#mae: tf.Tensor(7.9079256, shape=(), dtype=float32)\n",
        "#mse: tf.Tensor(207.71811, shape=(), dtype=float32)\n",
        "#mape: tf.Tensor(44.77355, shape=(), dtype=float32)\n",
        "#mae: tf.Tensor(7.5726614, shape=(), dtype=float32)\n",
        "#mse: tf.Tensor(207.67114, shape=(), dtype=float32)\n",
        "#mape: tf.Tensor(41.748688, shape=(), dtype=float32)"
      ],
      "metadata": {
        "colab": {
          "base_uri": "https://localhost:8080/"
        },
        "id": "23YMVliDUJl6",
        "outputId": "b791efcd-491a-467e-c0db-42d469c8c7b8"
      },
      "execution_count": 109,
      "outputs": [
        {
          "output_type": "stream",
          "name": "stdout",
          "text": [
            "mae: tf.Tensor(7.6027985, shape=(), dtype=float32)\n",
            "mse: tf.Tensor(210.3916, shape=(), dtype=float32)\n",
            "mape: tf.Tensor(35.973286, shape=(), dtype=float32)\n"
          ]
        }
      ]
    }
  ]
}