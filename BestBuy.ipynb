{
  "nbformat": 4,
  "nbformat_minor": 0,
  "metadata": {
    "colab": {
      "name": "BestBuy.ipynb",
      "provenance": [],
      "collapsed_sections": [],
      "mount_file_id": "1LeIMZg6yelKR9dOaa7BefmcZjd4i3-1r",
      "authorship_tag": "ABX9TyOqZXyp/W1/2LBO2yW6TmEH",
      "include_colab_link": true
    },
    "kernelspec": {
      "name": "python3",
      "display_name": "Python 3"
    },
    "language_info": {
      "name": "python"
    }
  },
  "cells": [
    {
      "cell_type": "markdown",
      "metadata": {
        "id": "view-in-github",
        "colab_type": "text"
      },
      "source": [
        "<a href=\"https://colab.research.google.com/github/rfrod/bbuy_assignment/blob/main/BestBuy.ipynb\" target=\"_parent\"><img src=\"https://colab.research.google.com/assets/colab-badge.svg\" alt=\"Open In Colab\"/></a>"
      ]
    },
    {
      "cell_type": "markdown",
      "source": [
        "# Best Buy assignment\n",
        "\n",
        "## Ecommerce Analytics – Data Scientist\n",
        "\n",
        "### Business Problem\n",
        "Inventory management is an important task at Best Buy: we need to order enough stock to satisfy\n",
        "customer demand while minimizing wasted warehouse space. With thousands of products\n",
        "available to buy at any given time, it can be difficult to create an accurate forecast for every\n",
        "product.\n",
        "As our new Data Scientist, the Vice President of Inventory asks you to help:\n",
        "> *“We need to understand how much inventory we need to buy for each of these key products.\n",
        "Can you build a model that provides guidance to our inventory analysts? Once you are done\n",
        "please build a presentation that explains your proof of concept to other executives in the\n",
        "company”*"
      ],
      "metadata": {
        "id": "bxlSFBZwqaBB"
      }
    },
    {
      "cell_type": "markdown",
      "source": [
        "## Import data"
      ],
      "metadata": {
        "id": "muUpO3-Yqt8C"
      }
    },
    {
      "cell_type": "code",
      "source": [
        "import os\n",
        "import numpy as np\n",
        "import pandas as pd\n",
        "import seaborn as sns\n",
        "import matplotlib.pyplot as plt"
      ],
      "metadata": {
        "id": "8s2_NBYlqmmm"
      },
      "execution_count": 56,
      "outputs": []
    },
    {
      "cell_type": "code",
      "source": [
        "data = pd.read_excel('/content/drive/MyDrive/Colab Notebooks/data/data.xlsx')"
      ],
      "metadata": {
        "id": "YHBsnJ10raNO"
      },
      "execution_count": 57,
      "outputs": []
    },
    {
      "cell_type": "markdown",
      "source": [
        "## Data exploration"
      ],
      "metadata": {
        "id": "Pk8mBs2YrnYy"
      }
    },
    {
      "cell_type": "code",
      "source": [
        "data.head()"
      ],
      "metadata": {
        "colab": {
          "base_uri": "https://localhost:8080/",
          "height": 204
        },
        "id": "ps-9WX6NroKP",
        "outputId": "b95b19b6-b695-4855-c294-6b3da5d99276"
      },
      "execution_count": 58,
      "outputs": [
        {
          "output_type": "execute_result",
          "data": {
            "text/plain": [
              "         week product  orders            brand   views  cart_adds  price  \\\n",
              "0   12/8/2019       A    41.0  Big Cable Brand  4181.0      209.0  34.99   \n",
              "1  12/15/2019       A    36.0  Big Cable Brand  3228.0      114.0  29.99   \n",
              "2  12/22/2019       A    51.0  Big Cable Brand  5259.0      108.0  29.99   \n",
              "3  12/29/2019       A    38.0  Big Cable Brand  3574.0       50.0  24.99   \n",
              "4    1/5/2020       A    33.0  Big Cable Brand  5970.0       66.0  34.99   \n",
              "\n",
              "   inventory  \n",
              "0        158  \n",
              "1        122  \n",
              "2         71  \n",
              "3         33  \n",
              "4          0  "
            ],
            "text/html": [
              "\n",
              "  <div id=\"df-b4bfa4ae-def8-442e-8857-a63fbe318c02\">\n",
              "    <div class=\"colab-df-container\">\n",
              "      <div>\n",
              "<style scoped>\n",
              "    .dataframe tbody tr th:only-of-type {\n",
              "        vertical-align: middle;\n",
              "    }\n",
              "\n",
              "    .dataframe tbody tr th {\n",
              "        vertical-align: top;\n",
              "    }\n",
              "\n",
              "    .dataframe thead th {\n",
              "        text-align: right;\n",
              "    }\n",
              "</style>\n",
              "<table border=\"1\" class=\"dataframe\">\n",
              "  <thead>\n",
              "    <tr style=\"text-align: right;\">\n",
              "      <th></th>\n",
              "      <th>week</th>\n",
              "      <th>product</th>\n",
              "      <th>orders</th>\n",
              "      <th>brand</th>\n",
              "      <th>views</th>\n",
              "      <th>cart_adds</th>\n",
              "      <th>price</th>\n",
              "      <th>inventory</th>\n",
              "    </tr>\n",
              "  </thead>\n",
              "  <tbody>\n",
              "    <tr>\n",
              "      <th>0</th>\n",
              "      <td>12/8/2019</td>\n",
              "      <td>A</td>\n",
              "      <td>41.0</td>\n",
              "      <td>Big Cable Brand</td>\n",
              "      <td>4181.0</td>\n",
              "      <td>209.0</td>\n",
              "      <td>34.99</td>\n",
              "      <td>158</td>\n",
              "    </tr>\n",
              "    <tr>\n",
              "      <th>1</th>\n",
              "      <td>12/15/2019</td>\n",
              "      <td>A</td>\n",
              "      <td>36.0</td>\n",
              "      <td>Big Cable Brand</td>\n",
              "      <td>3228.0</td>\n",
              "      <td>114.0</td>\n",
              "      <td>29.99</td>\n",
              "      <td>122</td>\n",
              "    </tr>\n",
              "    <tr>\n",
              "      <th>2</th>\n",
              "      <td>12/22/2019</td>\n",
              "      <td>A</td>\n",
              "      <td>51.0</td>\n",
              "      <td>Big Cable Brand</td>\n",
              "      <td>5259.0</td>\n",
              "      <td>108.0</td>\n",
              "      <td>29.99</td>\n",
              "      <td>71</td>\n",
              "    </tr>\n",
              "    <tr>\n",
              "      <th>3</th>\n",
              "      <td>12/29/2019</td>\n",
              "      <td>A</td>\n",
              "      <td>38.0</td>\n",
              "      <td>Big Cable Brand</td>\n",
              "      <td>3574.0</td>\n",
              "      <td>50.0</td>\n",
              "      <td>24.99</td>\n",
              "      <td>33</td>\n",
              "    </tr>\n",
              "    <tr>\n",
              "      <th>4</th>\n",
              "      <td>1/5/2020</td>\n",
              "      <td>A</td>\n",
              "      <td>33.0</td>\n",
              "      <td>Big Cable Brand</td>\n",
              "      <td>5970.0</td>\n",
              "      <td>66.0</td>\n",
              "      <td>34.99</td>\n",
              "      <td>0</td>\n",
              "    </tr>\n",
              "  </tbody>\n",
              "</table>\n",
              "</div>\n",
              "      <button class=\"colab-df-convert\" onclick=\"convertToInteractive('df-b4bfa4ae-def8-442e-8857-a63fbe318c02')\"\n",
              "              title=\"Convert this dataframe to an interactive table.\"\n",
              "              style=\"display:none;\">\n",
              "        \n",
              "  <svg xmlns=\"http://www.w3.org/2000/svg\" height=\"24px\"viewBox=\"0 0 24 24\"\n",
              "       width=\"24px\">\n",
              "    <path d=\"M0 0h24v24H0V0z\" fill=\"none\"/>\n",
              "    <path d=\"M18.56 5.44l.94 2.06.94-2.06 2.06-.94-2.06-.94-.94-2.06-.94 2.06-2.06.94zm-11 1L8.5 8.5l.94-2.06 2.06-.94-2.06-.94L8.5 2.5l-.94 2.06-2.06.94zm10 10l.94 2.06.94-2.06 2.06-.94-2.06-.94-.94-2.06-.94 2.06-2.06.94z\"/><path d=\"M17.41 7.96l-1.37-1.37c-.4-.4-.92-.59-1.43-.59-.52 0-1.04.2-1.43.59L10.3 9.45l-7.72 7.72c-.78.78-.78 2.05 0 2.83L4 21.41c.39.39.9.59 1.41.59.51 0 1.02-.2 1.41-.59l7.78-7.78 2.81-2.81c.8-.78.8-2.07 0-2.86zM5.41 20L4 18.59l7.72-7.72 1.47 1.35L5.41 20z\"/>\n",
              "  </svg>\n",
              "      </button>\n",
              "      \n",
              "  <style>\n",
              "    .colab-df-container {\n",
              "      display:flex;\n",
              "      flex-wrap:wrap;\n",
              "      gap: 12px;\n",
              "    }\n",
              "\n",
              "    .colab-df-convert {\n",
              "      background-color: #E8F0FE;\n",
              "      border: none;\n",
              "      border-radius: 50%;\n",
              "      cursor: pointer;\n",
              "      display: none;\n",
              "      fill: #1967D2;\n",
              "      height: 32px;\n",
              "      padding: 0 0 0 0;\n",
              "      width: 32px;\n",
              "    }\n",
              "\n",
              "    .colab-df-convert:hover {\n",
              "      background-color: #E2EBFA;\n",
              "      box-shadow: 0px 1px 2px rgba(60, 64, 67, 0.3), 0px 1px 3px 1px rgba(60, 64, 67, 0.15);\n",
              "      fill: #174EA6;\n",
              "    }\n",
              "\n",
              "    [theme=dark] .colab-df-convert {\n",
              "      background-color: #3B4455;\n",
              "      fill: #D2E3FC;\n",
              "    }\n",
              "\n",
              "    [theme=dark] .colab-df-convert:hover {\n",
              "      background-color: #434B5C;\n",
              "      box-shadow: 0px 1px 3px 1px rgba(0, 0, 0, 0.15);\n",
              "      filter: drop-shadow(0px 1px 2px rgba(0, 0, 0, 0.3));\n",
              "      fill: #FFFFFF;\n",
              "    }\n",
              "  </style>\n",
              "\n",
              "      <script>\n",
              "        const buttonEl =\n",
              "          document.querySelector('#df-b4bfa4ae-def8-442e-8857-a63fbe318c02 button.colab-df-convert');\n",
              "        buttonEl.style.display =\n",
              "          google.colab.kernel.accessAllowed ? 'block' : 'none';\n",
              "\n",
              "        async function convertToInteractive(key) {\n",
              "          const element = document.querySelector('#df-b4bfa4ae-def8-442e-8857-a63fbe318c02');\n",
              "          const dataTable =\n",
              "            await google.colab.kernel.invokeFunction('convertToInteractive',\n",
              "                                                     [key], {});\n",
              "          if (!dataTable) return;\n",
              "\n",
              "          const docLinkHtml = 'Like what you see? Visit the ' +\n",
              "            '<a target=\"_blank\" href=https://colab.research.google.com/notebooks/data_table.ipynb>data table notebook</a>'\n",
              "            + ' to learn more about interactive tables.';\n",
              "          element.innerHTML = '';\n",
              "          dataTable['output_type'] = 'display_data';\n",
              "          await google.colab.output.renderOutput(dataTable, element);\n",
              "          const docLink = document.createElement('div');\n",
              "          docLink.innerHTML = docLinkHtml;\n",
              "          element.appendChild(docLink);\n",
              "        }\n",
              "      </script>\n",
              "    </div>\n",
              "  </div>\n",
              "  "
            ]
          },
          "metadata": {},
          "execution_count": 58
        }
      ]
    },
    {
      "cell_type": "markdown",
      "source": [
        "### Statistics\n",
        "\n",
        "First lets start with the data info and description."
      ],
      "metadata": {
        "id": "a_ABS0yyru48"
      }
    },
    {
      "cell_type": "code",
      "source": [
        "data.info()"
      ],
      "metadata": {
        "colab": {
          "base_uri": "https://localhost:8080/"
        },
        "id": "BgyBMvb3rv6L",
        "outputId": "01cb00ff-58e1-49da-c930-ae3d38a7301b"
      },
      "execution_count": 59,
      "outputs": [
        {
          "output_type": "stream",
          "name": "stdout",
          "text": [
            "<class 'pandas.core.frame.DataFrame'>\n",
            "RangeIndex: 260 entries, 0 to 259\n",
            "Data columns (total 8 columns):\n",
            " #   Column     Non-Null Count  Dtype  \n",
            "---  ------     --------------  -----  \n",
            " 0   week       260 non-null    object \n",
            " 1   product    260 non-null    object \n",
            " 2   orders     259 non-null    float64\n",
            " 3   brand      260 non-null    object \n",
            " 4   views      259 non-null    float64\n",
            " 5   cart_adds  259 non-null    float64\n",
            " 6   price      259 non-null    float64\n",
            " 7   inventory  260 non-null    int64  \n",
            "dtypes: float64(4), int64(1), object(3)\n",
            "memory usage: 16.4+ KB\n"
          ]
        }
      ]
    },
    {
      "cell_type": "markdown",
      "source": [
        "There is at list **one row with null value** for *orders*, *views*, *cart_adds* and *price* columns."
      ],
      "metadata": {
        "id": "8TGrsltHsNUW"
      }
    },
    {
      "cell_type": "code",
      "source": [
        "data.describe()"
      ],
      "metadata": {
        "colab": {
          "base_uri": "https://localhost:8080/",
          "height": 297
        },
        "id": "E2JlmJI0sOA2",
        "outputId": "dded3aca-19d2-4a56-9512-f451ad7db159"
      },
      "execution_count": 60,
      "outputs": [
        {
          "output_type": "execute_result",
          "data": {
            "text/plain": [
              "           orders        views   cart_adds       price   inventory\n",
              "count  259.000000   259.000000  259.000000  259.000000  260.000000\n",
              "mean    19.413127  2156.447876   50.111969   69.951390   80.057692\n",
              "std     14.731024  1952.060224   49.124101   61.324199   49.346859\n",
              "min      0.000000    39.000000    0.000000   19.990000    0.000000\n",
              "25%      7.000000   587.000000   16.000000   34.990000   50.750000\n",
              "50%     16.000000  1466.000000   37.000000   49.990000   70.000000\n",
              "75%     30.000000  3203.000000   67.000000   82.490000   94.250000\n",
              "max    100.000000  9138.000000  309.000000  524.990000  308.000000"
            ],
            "text/html": [
              "\n",
              "  <div id=\"df-d00b83ce-f695-47d5-8b6a-c7f8b532b14e\">\n",
              "    <div class=\"colab-df-container\">\n",
              "      <div>\n",
              "<style scoped>\n",
              "    .dataframe tbody tr th:only-of-type {\n",
              "        vertical-align: middle;\n",
              "    }\n",
              "\n",
              "    .dataframe tbody tr th {\n",
              "        vertical-align: top;\n",
              "    }\n",
              "\n",
              "    .dataframe thead th {\n",
              "        text-align: right;\n",
              "    }\n",
              "</style>\n",
              "<table border=\"1\" class=\"dataframe\">\n",
              "  <thead>\n",
              "    <tr style=\"text-align: right;\">\n",
              "      <th></th>\n",
              "      <th>orders</th>\n",
              "      <th>views</th>\n",
              "      <th>cart_adds</th>\n",
              "      <th>price</th>\n",
              "      <th>inventory</th>\n",
              "    </tr>\n",
              "  </thead>\n",
              "  <tbody>\n",
              "    <tr>\n",
              "      <th>count</th>\n",
              "      <td>259.000000</td>\n",
              "      <td>259.000000</td>\n",
              "      <td>259.000000</td>\n",
              "      <td>259.000000</td>\n",
              "      <td>260.000000</td>\n",
              "    </tr>\n",
              "    <tr>\n",
              "      <th>mean</th>\n",
              "      <td>19.413127</td>\n",
              "      <td>2156.447876</td>\n",
              "      <td>50.111969</td>\n",
              "      <td>69.951390</td>\n",
              "      <td>80.057692</td>\n",
              "    </tr>\n",
              "    <tr>\n",
              "      <th>std</th>\n",
              "      <td>14.731024</td>\n",
              "      <td>1952.060224</td>\n",
              "      <td>49.124101</td>\n",
              "      <td>61.324199</td>\n",
              "      <td>49.346859</td>\n",
              "    </tr>\n",
              "    <tr>\n",
              "      <th>min</th>\n",
              "      <td>0.000000</td>\n",
              "      <td>39.000000</td>\n",
              "      <td>0.000000</td>\n",
              "      <td>19.990000</td>\n",
              "      <td>0.000000</td>\n",
              "    </tr>\n",
              "    <tr>\n",
              "      <th>25%</th>\n",
              "      <td>7.000000</td>\n",
              "      <td>587.000000</td>\n",
              "      <td>16.000000</td>\n",
              "      <td>34.990000</td>\n",
              "      <td>50.750000</td>\n",
              "    </tr>\n",
              "    <tr>\n",
              "      <th>50%</th>\n",
              "      <td>16.000000</td>\n",
              "      <td>1466.000000</td>\n",
              "      <td>37.000000</td>\n",
              "      <td>49.990000</td>\n",
              "      <td>70.000000</td>\n",
              "    </tr>\n",
              "    <tr>\n",
              "      <th>75%</th>\n",
              "      <td>30.000000</td>\n",
              "      <td>3203.000000</td>\n",
              "      <td>67.000000</td>\n",
              "      <td>82.490000</td>\n",
              "      <td>94.250000</td>\n",
              "    </tr>\n",
              "    <tr>\n",
              "      <th>max</th>\n",
              "      <td>100.000000</td>\n",
              "      <td>9138.000000</td>\n",
              "      <td>309.000000</td>\n",
              "      <td>524.990000</td>\n",
              "      <td>308.000000</td>\n",
              "    </tr>\n",
              "  </tbody>\n",
              "</table>\n",
              "</div>\n",
              "      <button class=\"colab-df-convert\" onclick=\"convertToInteractive('df-d00b83ce-f695-47d5-8b6a-c7f8b532b14e')\"\n",
              "              title=\"Convert this dataframe to an interactive table.\"\n",
              "              style=\"display:none;\">\n",
              "        \n",
              "  <svg xmlns=\"http://www.w3.org/2000/svg\" height=\"24px\"viewBox=\"0 0 24 24\"\n",
              "       width=\"24px\">\n",
              "    <path d=\"M0 0h24v24H0V0z\" fill=\"none\"/>\n",
              "    <path d=\"M18.56 5.44l.94 2.06.94-2.06 2.06-.94-2.06-.94-.94-2.06-.94 2.06-2.06.94zm-11 1L8.5 8.5l.94-2.06 2.06-.94-2.06-.94L8.5 2.5l-.94 2.06-2.06.94zm10 10l.94 2.06.94-2.06 2.06-.94-2.06-.94-.94-2.06-.94 2.06-2.06.94z\"/><path d=\"M17.41 7.96l-1.37-1.37c-.4-.4-.92-.59-1.43-.59-.52 0-1.04.2-1.43.59L10.3 9.45l-7.72 7.72c-.78.78-.78 2.05 0 2.83L4 21.41c.39.39.9.59 1.41.59.51 0 1.02-.2 1.41-.59l7.78-7.78 2.81-2.81c.8-.78.8-2.07 0-2.86zM5.41 20L4 18.59l7.72-7.72 1.47 1.35L5.41 20z\"/>\n",
              "  </svg>\n",
              "      </button>\n",
              "      \n",
              "  <style>\n",
              "    .colab-df-container {\n",
              "      display:flex;\n",
              "      flex-wrap:wrap;\n",
              "      gap: 12px;\n",
              "    }\n",
              "\n",
              "    .colab-df-convert {\n",
              "      background-color: #E8F0FE;\n",
              "      border: none;\n",
              "      border-radius: 50%;\n",
              "      cursor: pointer;\n",
              "      display: none;\n",
              "      fill: #1967D2;\n",
              "      height: 32px;\n",
              "      padding: 0 0 0 0;\n",
              "      width: 32px;\n",
              "    }\n",
              "\n",
              "    .colab-df-convert:hover {\n",
              "      background-color: #E2EBFA;\n",
              "      box-shadow: 0px 1px 2px rgba(60, 64, 67, 0.3), 0px 1px 3px 1px rgba(60, 64, 67, 0.15);\n",
              "      fill: #174EA6;\n",
              "    }\n",
              "\n",
              "    [theme=dark] .colab-df-convert {\n",
              "      background-color: #3B4455;\n",
              "      fill: #D2E3FC;\n",
              "    }\n",
              "\n",
              "    [theme=dark] .colab-df-convert:hover {\n",
              "      background-color: #434B5C;\n",
              "      box-shadow: 0px 1px 3px 1px rgba(0, 0, 0, 0.15);\n",
              "      filter: drop-shadow(0px 1px 2px rgba(0, 0, 0, 0.3));\n",
              "      fill: #FFFFFF;\n",
              "    }\n",
              "  </style>\n",
              "\n",
              "      <script>\n",
              "        const buttonEl =\n",
              "          document.querySelector('#df-d00b83ce-f695-47d5-8b6a-c7f8b532b14e button.colab-df-convert');\n",
              "        buttonEl.style.display =\n",
              "          google.colab.kernel.accessAllowed ? 'block' : 'none';\n",
              "\n",
              "        async function convertToInteractive(key) {\n",
              "          const element = document.querySelector('#df-d00b83ce-f695-47d5-8b6a-c7f8b532b14e');\n",
              "          const dataTable =\n",
              "            await google.colab.kernel.invokeFunction('convertToInteractive',\n",
              "                                                     [key], {});\n",
              "          if (!dataTable) return;\n",
              "\n",
              "          const docLinkHtml = 'Like what you see? Visit the ' +\n",
              "            '<a target=\"_blank\" href=https://colab.research.google.com/notebooks/data_table.ipynb>data table notebook</a>'\n",
              "            + ' to learn more about interactive tables.';\n",
              "          element.innerHTML = '';\n",
              "          dataTable['output_type'] = 'display_data';\n",
              "          await google.colab.output.renderOutput(dataTable, element);\n",
              "          const docLink = document.createElement('div');\n",
              "          docLink.innerHTML = docLinkHtml;\n",
              "          element.appendChild(docLink);\n",
              "        }\n",
              "      </script>\n",
              "    </div>\n",
              "  </div>\n",
              "  "
            ]
          },
          "metadata": {},
          "execution_count": 60
        }
      ]
    },
    {
      "cell_type": "markdown",
      "source": [
        "It looks like we have at least one line without *order*,*cart_adds*, and *inventory*. We don't have any absurd value in the fields like negative orders or huge values."
      ],
      "metadata": {
        "id": "ERQU-nRKsV1W"
      }
    },
    {
      "cell_type": "code",
      "source": [
        "data['product'].value_counts()"
      ],
      "metadata": {
        "colab": {
          "base_uri": "https://localhost:8080/"
        },
        "id": "F1gExayFsXuo",
        "outputId": "9080166b-82b6-42d8-fe2b-6346ccf6a334"
      },
      "execution_count": 61,
      "outputs": [
        {
          "output_type": "execute_result",
          "data": {
            "text/plain": [
              "A    52\n",
              "B    52\n",
              "C    52\n",
              "D    52\n",
              "E    52\n",
              "Name: product, dtype: int64"
            ]
          },
          "metadata": {},
          "execution_count": 61
        }
      ]
    },
    {
      "cell_type": "markdown",
      "source": [
        "**52 weeks** from each product equals an **year**. The data seems weel distributed between the products."
      ],
      "metadata": {
        "id": "uwaO0mWtsdWT"
      }
    },
    {
      "cell_type": "code",
      "source": [
        "data['brand'].value_counts()"
      ],
      "metadata": {
        "colab": {
          "base_uri": "https://localhost:8080/"
        },
        "id": "sZ3mqckeseTt",
        "outputId": "5166a544-a61e-4f87-a89e-c7a4c6c1b4b5"
      },
      "execution_count": 62,
      "outputs": [
        {
          "output_type": "execute_result",
          "data": {
            "text/plain": [
              "Little Cable Brand    156\n",
              "Big Cable Brand       104\n",
              "Name: brand, dtype: int64"
            ]
          },
          "metadata": {},
          "execution_count": 62
        }
      ]
    },
    {
      "cell_type": "markdown",
      "source": [
        "No extraordinary thing about the brands until now. Let's check the correlation between the numerical features."
      ],
      "metadata": {
        "id": "0HL3Ij64slJU"
      }
    },
    {
      "cell_type": "code",
      "source": [
        "df_corr = data[['week','orders','views','cart_adds','price']]\n",
        "df_corr.corr()"
      ],
      "metadata": {
        "colab": {
          "base_uri": "https://localhost:8080/",
          "height": 173
        },
        "id": "HKsgLvqssmT9",
        "outputId": "9a0192c2-a8e2-4eef-8ae3-e7ea15a3dbbc"
      },
      "execution_count": 63,
      "outputs": [
        {
          "output_type": "execute_result",
          "data": {
            "text/plain": [
              "             orders     views  cart_adds     price\n",
              "orders     1.000000  0.649754   0.786845 -0.539329\n",
              "views      0.649754  1.000000   0.521902 -0.469849\n",
              "cart_adds  0.786845  0.521902   1.000000 -0.422136\n",
              "price     -0.539329 -0.469849  -0.422136  1.000000"
            ],
            "text/html": [
              "\n",
              "  <div id=\"df-4b2165ef-4da6-4994-83f0-5b8d6b4190de\">\n",
              "    <div class=\"colab-df-container\">\n",
              "      <div>\n",
              "<style scoped>\n",
              "    .dataframe tbody tr th:only-of-type {\n",
              "        vertical-align: middle;\n",
              "    }\n",
              "\n",
              "    .dataframe tbody tr th {\n",
              "        vertical-align: top;\n",
              "    }\n",
              "\n",
              "    .dataframe thead th {\n",
              "        text-align: right;\n",
              "    }\n",
              "</style>\n",
              "<table border=\"1\" class=\"dataframe\">\n",
              "  <thead>\n",
              "    <tr style=\"text-align: right;\">\n",
              "      <th></th>\n",
              "      <th>orders</th>\n",
              "      <th>views</th>\n",
              "      <th>cart_adds</th>\n",
              "      <th>price</th>\n",
              "    </tr>\n",
              "  </thead>\n",
              "  <tbody>\n",
              "    <tr>\n",
              "      <th>orders</th>\n",
              "      <td>1.000000</td>\n",
              "      <td>0.649754</td>\n",
              "      <td>0.786845</td>\n",
              "      <td>-0.539329</td>\n",
              "    </tr>\n",
              "    <tr>\n",
              "      <th>views</th>\n",
              "      <td>0.649754</td>\n",
              "      <td>1.000000</td>\n",
              "      <td>0.521902</td>\n",
              "      <td>-0.469849</td>\n",
              "    </tr>\n",
              "    <tr>\n",
              "      <th>cart_adds</th>\n",
              "      <td>0.786845</td>\n",
              "      <td>0.521902</td>\n",
              "      <td>1.000000</td>\n",
              "      <td>-0.422136</td>\n",
              "    </tr>\n",
              "    <tr>\n",
              "      <th>price</th>\n",
              "      <td>-0.539329</td>\n",
              "      <td>-0.469849</td>\n",
              "      <td>-0.422136</td>\n",
              "      <td>1.000000</td>\n",
              "    </tr>\n",
              "  </tbody>\n",
              "</table>\n",
              "</div>\n",
              "      <button class=\"colab-df-convert\" onclick=\"convertToInteractive('df-4b2165ef-4da6-4994-83f0-5b8d6b4190de')\"\n",
              "              title=\"Convert this dataframe to an interactive table.\"\n",
              "              style=\"display:none;\">\n",
              "        \n",
              "  <svg xmlns=\"http://www.w3.org/2000/svg\" height=\"24px\"viewBox=\"0 0 24 24\"\n",
              "       width=\"24px\">\n",
              "    <path d=\"M0 0h24v24H0V0z\" fill=\"none\"/>\n",
              "    <path d=\"M18.56 5.44l.94 2.06.94-2.06 2.06-.94-2.06-.94-.94-2.06-.94 2.06-2.06.94zm-11 1L8.5 8.5l.94-2.06 2.06-.94-2.06-.94L8.5 2.5l-.94 2.06-2.06.94zm10 10l.94 2.06.94-2.06 2.06-.94-2.06-.94-.94-2.06-.94 2.06-2.06.94z\"/><path d=\"M17.41 7.96l-1.37-1.37c-.4-.4-.92-.59-1.43-.59-.52 0-1.04.2-1.43.59L10.3 9.45l-7.72 7.72c-.78.78-.78 2.05 0 2.83L4 21.41c.39.39.9.59 1.41.59.51 0 1.02-.2 1.41-.59l7.78-7.78 2.81-2.81c.8-.78.8-2.07 0-2.86zM5.41 20L4 18.59l7.72-7.72 1.47 1.35L5.41 20z\"/>\n",
              "  </svg>\n",
              "      </button>\n",
              "      \n",
              "  <style>\n",
              "    .colab-df-container {\n",
              "      display:flex;\n",
              "      flex-wrap:wrap;\n",
              "      gap: 12px;\n",
              "    }\n",
              "\n",
              "    .colab-df-convert {\n",
              "      background-color: #E8F0FE;\n",
              "      border: none;\n",
              "      border-radius: 50%;\n",
              "      cursor: pointer;\n",
              "      display: none;\n",
              "      fill: #1967D2;\n",
              "      height: 32px;\n",
              "      padding: 0 0 0 0;\n",
              "      width: 32px;\n",
              "    }\n",
              "\n",
              "    .colab-df-convert:hover {\n",
              "      background-color: #E2EBFA;\n",
              "      box-shadow: 0px 1px 2px rgba(60, 64, 67, 0.3), 0px 1px 3px 1px rgba(60, 64, 67, 0.15);\n",
              "      fill: #174EA6;\n",
              "    }\n",
              "\n",
              "    [theme=dark] .colab-df-convert {\n",
              "      background-color: #3B4455;\n",
              "      fill: #D2E3FC;\n",
              "    }\n",
              "\n",
              "    [theme=dark] .colab-df-convert:hover {\n",
              "      background-color: #434B5C;\n",
              "      box-shadow: 0px 1px 3px 1px rgba(0, 0, 0, 0.15);\n",
              "      filter: drop-shadow(0px 1px 2px rgba(0, 0, 0, 0.3));\n",
              "      fill: #FFFFFF;\n",
              "    }\n",
              "  </style>\n",
              "\n",
              "      <script>\n",
              "        const buttonEl =\n",
              "          document.querySelector('#df-4b2165ef-4da6-4994-83f0-5b8d6b4190de button.colab-df-convert');\n",
              "        buttonEl.style.display =\n",
              "          google.colab.kernel.accessAllowed ? 'block' : 'none';\n",
              "\n",
              "        async function convertToInteractive(key) {\n",
              "          const element = document.querySelector('#df-4b2165ef-4da6-4994-83f0-5b8d6b4190de');\n",
              "          const dataTable =\n",
              "            await google.colab.kernel.invokeFunction('convertToInteractive',\n",
              "                                                     [key], {});\n",
              "          if (!dataTable) return;\n",
              "\n",
              "          const docLinkHtml = 'Like what you see? Visit the ' +\n",
              "            '<a target=\"_blank\" href=https://colab.research.google.com/notebooks/data_table.ipynb>data table notebook</a>'\n",
              "            + ' to learn more about interactive tables.';\n",
              "          element.innerHTML = '';\n",
              "          dataTable['output_type'] = 'display_data';\n",
              "          await google.colab.output.renderOutput(dataTable, element);\n",
              "          const docLink = document.createElement('div');\n",
              "          docLink.innerHTML = docLinkHtml;\n",
              "          element.appendChild(docLink);\n",
              "        }\n",
              "      </script>\n",
              "    </div>\n",
              "  </div>\n",
              "  "
            ]
          },
          "metadata": {},
          "execution_count": 63
        }
      ]
    },
    {
      "cell_type": "markdown",
      "source": [
        "As expected the price has **inverse** correlation with *orders*, *views* and *cart_adds*, and *cart_adds* are more strongly correlated with *orders* than *views*."
      ],
      "metadata": {
        "id": "sbX9RoKysrfl"
      }
    },
    {
      "cell_type": "code",
      "source": [
        "df_1 = data.groupby(['product'])['orders','views','cart_adds'].sum()\n",
        "df_1 = df_1[['views','cart_adds','orders']]\n",
        "df_1.sort_values(['views','cart_adds','orders'], ascending=[False,False,False]).head()"
      ],
      "metadata": {
        "colab": {
          "base_uri": "https://localhost:8080/",
          "height": 289
        },
        "id": "vASWOnEqstBA",
        "outputId": "df3217b5-fe8d-42b4-bc26-768f5a3d31cd"
      },
      "execution_count": 64,
      "outputs": [
        {
          "output_type": "stream",
          "name": "stderr",
          "text": [
            "/usr/local/lib/python3.7/dist-packages/ipykernel_launcher.py:1: FutureWarning: Indexing with multiple keys (implicitly converted to a tuple of keys) will be deprecated, use a list instead.\n",
            "  \"\"\"Entry point for launching an IPython kernel.\n"
          ]
        },
        {
          "output_type": "execute_result",
          "data": {
            "text/plain": [
              "            views  cart_adds  orders\n",
              "product                             \n",
              "D        166323.0     3708.0  1304.0\n",
              "A        166165.0     3775.0  1556.0\n",
              "C        146267.0     3438.0  1367.0\n",
              "E         44826.0     1223.0   450.0\n",
              "B         34939.0      835.0   351.0"
            ],
            "text/html": [
              "\n",
              "  <div id=\"df-bc9a8583-dc05-43f6-b830-780adfdc215c\">\n",
              "    <div class=\"colab-df-container\">\n",
              "      <div>\n",
              "<style scoped>\n",
              "    .dataframe tbody tr th:only-of-type {\n",
              "        vertical-align: middle;\n",
              "    }\n",
              "\n",
              "    .dataframe tbody tr th {\n",
              "        vertical-align: top;\n",
              "    }\n",
              "\n",
              "    .dataframe thead th {\n",
              "        text-align: right;\n",
              "    }\n",
              "</style>\n",
              "<table border=\"1\" class=\"dataframe\">\n",
              "  <thead>\n",
              "    <tr style=\"text-align: right;\">\n",
              "      <th></th>\n",
              "      <th>views</th>\n",
              "      <th>cart_adds</th>\n",
              "      <th>orders</th>\n",
              "    </tr>\n",
              "    <tr>\n",
              "      <th>product</th>\n",
              "      <th></th>\n",
              "      <th></th>\n",
              "      <th></th>\n",
              "    </tr>\n",
              "  </thead>\n",
              "  <tbody>\n",
              "    <tr>\n",
              "      <th>D</th>\n",
              "      <td>166323.0</td>\n",
              "      <td>3708.0</td>\n",
              "      <td>1304.0</td>\n",
              "    </tr>\n",
              "    <tr>\n",
              "      <th>A</th>\n",
              "      <td>166165.0</td>\n",
              "      <td>3775.0</td>\n",
              "      <td>1556.0</td>\n",
              "    </tr>\n",
              "    <tr>\n",
              "      <th>C</th>\n",
              "      <td>146267.0</td>\n",
              "      <td>3438.0</td>\n",
              "      <td>1367.0</td>\n",
              "    </tr>\n",
              "    <tr>\n",
              "      <th>E</th>\n",
              "      <td>44826.0</td>\n",
              "      <td>1223.0</td>\n",
              "      <td>450.0</td>\n",
              "    </tr>\n",
              "    <tr>\n",
              "      <th>B</th>\n",
              "      <td>34939.0</td>\n",
              "      <td>835.0</td>\n",
              "      <td>351.0</td>\n",
              "    </tr>\n",
              "  </tbody>\n",
              "</table>\n",
              "</div>\n",
              "      <button class=\"colab-df-convert\" onclick=\"convertToInteractive('df-bc9a8583-dc05-43f6-b830-780adfdc215c')\"\n",
              "              title=\"Convert this dataframe to an interactive table.\"\n",
              "              style=\"display:none;\">\n",
              "        \n",
              "  <svg xmlns=\"http://www.w3.org/2000/svg\" height=\"24px\"viewBox=\"0 0 24 24\"\n",
              "       width=\"24px\">\n",
              "    <path d=\"M0 0h24v24H0V0z\" fill=\"none\"/>\n",
              "    <path d=\"M18.56 5.44l.94 2.06.94-2.06 2.06-.94-2.06-.94-.94-2.06-.94 2.06-2.06.94zm-11 1L8.5 8.5l.94-2.06 2.06-.94-2.06-.94L8.5 2.5l-.94 2.06-2.06.94zm10 10l.94 2.06.94-2.06 2.06-.94-2.06-.94-.94-2.06-.94 2.06-2.06.94z\"/><path d=\"M17.41 7.96l-1.37-1.37c-.4-.4-.92-.59-1.43-.59-.52 0-1.04.2-1.43.59L10.3 9.45l-7.72 7.72c-.78.78-.78 2.05 0 2.83L4 21.41c.39.39.9.59 1.41.59.51 0 1.02-.2 1.41-.59l7.78-7.78 2.81-2.81c.8-.78.8-2.07 0-2.86zM5.41 20L4 18.59l7.72-7.72 1.47 1.35L5.41 20z\"/>\n",
              "  </svg>\n",
              "      </button>\n",
              "      \n",
              "  <style>\n",
              "    .colab-df-container {\n",
              "      display:flex;\n",
              "      flex-wrap:wrap;\n",
              "      gap: 12px;\n",
              "    }\n",
              "\n",
              "    .colab-df-convert {\n",
              "      background-color: #E8F0FE;\n",
              "      border: none;\n",
              "      border-radius: 50%;\n",
              "      cursor: pointer;\n",
              "      display: none;\n",
              "      fill: #1967D2;\n",
              "      height: 32px;\n",
              "      padding: 0 0 0 0;\n",
              "      width: 32px;\n",
              "    }\n",
              "\n",
              "    .colab-df-convert:hover {\n",
              "      background-color: #E2EBFA;\n",
              "      box-shadow: 0px 1px 2px rgba(60, 64, 67, 0.3), 0px 1px 3px 1px rgba(60, 64, 67, 0.15);\n",
              "      fill: #174EA6;\n",
              "    }\n",
              "\n",
              "    [theme=dark] .colab-df-convert {\n",
              "      background-color: #3B4455;\n",
              "      fill: #D2E3FC;\n",
              "    }\n",
              "\n",
              "    [theme=dark] .colab-df-convert:hover {\n",
              "      background-color: #434B5C;\n",
              "      box-shadow: 0px 1px 3px 1px rgba(0, 0, 0, 0.15);\n",
              "      filter: drop-shadow(0px 1px 2px rgba(0, 0, 0, 0.3));\n",
              "      fill: #FFFFFF;\n",
              "    }\n",
              "  </style>\n",
              "\n",
              "      <script>\n",
              "        const buttonEl =\n",
              "          document.querySelector('#df-bc9a8583-dc05-43f6-b830-780adfdc215c button.colab-df-convert');\n",
              "        buttonEl.style.display =\n",
              "          google.colab.kernel.accessAllowed ? 'block' : 'none';\n",
              "\n",
              "        async function convertToInteractive(key) {\n",
              "          const element = document.querySelector('#df-bc9a8583-dc05-43f6-b830-780adfdc215c');\n",
              "          const dataTable =\n",
              "            await google.colab.kernel.invokeFunction('convertToInteractive',\n",
              "                                                     [key], {});\n",
              "          if (!dataTable) return;\n",
              "\n",
              "          const docLinkHtml = 'Like what you see? Visit the ' +\n",
              "            '<a target=\"_blank\" href=https://colab.research.google.com/notebooks/data_table.ipynb>data table notebook</a>'\n",
              "            + ' to learn more about interactive tables.';\n",
              "          element.innerHTML = '';\n",
              "          dataTable['output_type'] = 'display_data';\n",
              "          await google.colab.output.renderOutput(dataTable, element);\n",
              "          const docLink = document.createElement('div');\n",
              "          docLink.innerHTML = docLinkHtml;\n",
              "          element.appendChild(docLink);\n",
              "        }\n",
              "      </script>\n",
              "    </div>\n",
              "  </div>\n",
              "  "
            ]
          },
          "metadata": {},
          "execution_count": 64
        }
      ]
    },
    {
      "cell_type": "markdown",
      "source": [
        "It looks like there is something strange with product **D**. It is supposed to exist some proportion in the conversion rate between *view*, *cart_adds* and *orders*."
      ],
      "metadata": {
        "id": "4tNP-lS2s_HR"
      }
    },
    {
      "cell_type": "markdown",
      "source": [
        "### Inventory"
      ],
      "metadata": {
        "id": "37tbYcv0uLmA"
      }
    },
    {
      "cell_type": "code",
      "source": [
        "df_2 = data[['week','product','inventory']]\n",
        "df_2.loc[df_2['inventory'] == 0]['product'].value_counts()"
      ],
      "metadata": {
        "colab": {
          "base_uri": "https://localhost:8080/"
        },
        "id": "UJNTVaBrtwTs",
        "outputId": "6dc78ab4-3b9f-4275-c965-1256d6d62a7d"
      },
      "execution_count": 65,
      "outputs": [
        {
          "output_type": "execute_result",
          "data": {
            "text/plain": [
              "D    7\n",
              "A    6\n",
              "Name: product, dtype: int64"
            ]
          },
          "metadata": {},
          "execution_count": 65
        }
      ]
    },
    {
      "cell_type": "markdown",
      "source": [
        "We are having inventory problems in products D and A."
      ],
      "metadata": {
        "id": "Ea6mA0yntxRr"
      }
    },
    {
      "cell_type": "code",
      "source": [
        "df_2 = df_2.pivot(index='week',columns='product', values='inventory')\n",
        "_ = df_2.plot(color=['red','green','blue','yellow','black'], figsize=(15, 5))"
      ],
      "metadata": {
        "colab": {
          "base_uri": "https://localhost:8080/",
          "height": 334
        },
        "id": "nMQrolJUt4aj",
        "outputId": "f0ecbc70-193a-4c38-b54d-018d2cbe5435"
      },
      "execution_count": 66,
      "outputs": [
        {
          "output_type": "display_data",
          "data": {
            "text/plain": [
              "<Figure size 1080x360 with 1 Axes>"
            ],
            "image/png": "[encoded data removed]"
          },
          "metadata": {
            "needs_background": "light"
          }
        }
      ]
    },
    {
      "cell_type": "markdown",
      "source": [
        "Product **A** seems not to be comercialized at the beginning of the serie."
      ],
      "metadata": {
        "id": "vtAhNlQzuZRR"
      }
    },
    {
      "cell_type": "code",
      "source": [
        "_ = data.hist(column='inventory', by='product', figsize=(15, 15), bins=20)"
      ],
      "metadata": {
        "colab": {
          "base_uri": "https://localhost:8080/",
          "height": 883
        },
        "id": "twj946wtuaM_",
        "outputId": "0cd25000-28b1-4cc2-ed9f-773e5a412da5"
      },
      "execution_count": 67,
      "outputs": [
        {
          "output_type": "display_data",
          "data": {
            "text/plain": [
              "<Figure size 1080x1080 with 6 Axes>"
            ],
            "image/png": "[encoded data removed]"
          },
          "metadata": {
            "needs_background": "light"
          }
        }
      ]
    },
    {
      "cell_type": "markdown",
      "source": [
        "### Orders"
      ],
      "metadata": {
        "id": "qqaFMZiQufJV"
      }
    },
    {
      "cell_type": "code",
      "source": [
        "df_3 = data[['week','product','orders']]\n",
        "df_3 = df_3.pivot(index='week',columns='product', values='orders')\n",
        "_ = df_3.plot(color=['red','green','blue','yellow','black'], figsize=(15, 5))"
      ],
      "metadata": {
        "colab": {
          "base_uri": "https://localhost:8080/",
          "height": 334
        },
        "id": "8xnvR_bpuiy2",
        "outputId": "7e33c793-7107-41dd-a284-6a388b16faa6"
      },
      "execution_count": 68,
      "outputs": [
        {
          "output_type": "display_data",
          "data": {
            "text/plain": [
              "<Figure size 1080x360 with 1 Axes>"
            ],
            "image/png": "[encoded data removed]"
          },
          "metadata": {
            "needs_background": "light"
          }
        }
      ]
    },
    {
      "cell_type": "markdown",
      "source": [
        "We can see that there is some data missing for product **B**."
      ],
      "metadata": {
        "id": "KSkFmMK1uqKQ"
      }
    },
    {
      "cell_type": "code",
      "source": [
        "df_3 = data[['week','product','orders']]\n",
        "prods = df_3['product'].unique()\n",
        "fig, ax = plt.subplots(len(prods), figsize=(16,30))\n",
        "\n",
        "for i, prod in enumerate(prods):\n",
        "        \n",
        "    sns.histplot(data=df_3.loc[df_3['product']==prod]['orders'], kde=True, ax=ax[i])\n",
        "    ax[i].set_title('Product '+prod, fontsize=10)\n",
        "    ax[i].set_xlabel('Orders', fontsize=8)\n",
        "    ax[i].set_ylabel('Count', fontsize=8)\n",
        "    \n",
        "plt.show()"
      ],
      "metadata": {
        "colab": {
          "base_uri": "https://localhost:8080/",
          "height": 1000
        },
        "id": "B9x9eOgHutfZ",
        "outputId": "6ad2f74d-bb28-48b6-f738-6cc6b7afc1c5"
      },
      "execution_count": 69,
      "outputs": [
        {
          "output_type": "display_data",
          "data": {
            "text/plain": [
              "<Figure size 1152x2160 with 5 Axes>"
            ],
            "image/png": "[encoded data removed]"
          },
          "metadata": {
            "needs_background": "light"
          }
        }
      ]
    },
    {
      "cell_type": "markdown",
      "source": [
        "Except for the product **D**, all other product looks like having a log-normal distribution."
      ],
      "metadata": {
        "id": "GqWl-yk3u0Y6"
      }
    },
    {
      "cell_type": "code",
      "source": [
        "products_stat =data.groupby('product')['orders'].describe().reset_index()\n",
        "print(products_stat)"
      ],
      "metadata": {
        "colab": {
          "base_uri": "https://localhost:8080/"
        },
        "id": "yzsRrXD9vC8C",
        "outputId": "2c50d9cc-1ac9-4fde-e086-e89045cd1865"
      },
      "execution_count": 70,
      "outputs": [
        {
          "output_type": "stream",
          "name": "stdout",
          "text": [
            "  product  count       mean        std   min    25%   50%    75%    max\n",
            "0       A   52.0  29.923077  16.590626   0.0  23.00  31.0  36.00  100.0\n",
            "1       B   51.0   6.882353   4.361867   1.0   3.50   6.0   9.50   18.0\n",
            "2       C   52.0  26.288462   9.010531  15.0  19.00  23.5  31.75   46.0\n",
            "3       D   52.0  25.076923  15.448645   0.0  10.75  27.5  38.25   47.0\n",
            "4       E   52.0   8.653846   3.930198   3.0   6.00   8.0  11.00   20.0\n"
          ]
        }
      ]
    },
    {
      "cell_type": "markdown",
      "source": [
        "Looks like the high **standard deviation** on products *A* and *D* may explain why they get out of stock, and we can also confirm the missing data for product **B**.\n",
        "\n",
        "Now, lets check the outliers."
      ],
      "metadata": {
        "id": "-5oI3VGgu4BS"
      }
    },
    {
      "cell_type": "code",
      "source": [
        "ax = sns.boxplot(x=\"product\", y=\"orders\", data=data)"
      ],
      "metadata": {
        "colab": {
          "base_uri": "https://localhost:8080/",
          "height": 279
        },
        "id": "4UntLNzycJ6p",
        "outputId": "638d3348-1549-4115-f99e-4fc0536ccfa6"
      },
      "execution_count": 71,
      "outputs": [
        {
          "output_type": "display_data",
          "data": {
            "text/plain": [
              "<Figure size 432x288 with 1 Axes>"
            ],
            "image/png": "[encoded data removed]"
          },
          "metadata": {
            "needs_background": "light"
          }
        }
      ]
    },
    {
      "cell_type": "markdown",
      "source": [
        "Product **A** have some outliers on its orders."
      ],
      "metadata": {
        "id": "ICDtMWrTcv3a"
      }
    },
    {
      "cell_type": "markdown",
      "source": [
        "### Price"
      ],
      "metadata": {
        "id": "aUNoPlDGdBLJ"
      }
    },
    {
      "cell_type": "markdown",
      "source": [
        "Now, based on *price* let's check the revenue for each product."
      ],
      "metadata": {
        "id": "6XVWZWbmdEiN"
      }
    },
    {
      "cell_type": "code",
      "source": [
        "dt_price = data[['week','product','orders','price']].copy()\n",
        "dt_price['revenue'] = dt_price['orders'] * dt_price['price']"
      ],
      "metadata": {
        "id": "lOrkaDrrcb6_"
      },
      "execution_count": 72,
      "outputs": []
    },
    {
      "cell_type": "code",
      "source": [
        "dt_revenue = dt_price.groupby('product')['revenue'].agg('sum')\n",
        "mylabels = ['A','B','C','D','E']\n",
        "explode = (0, 0, 0.2, 0, 0)\n",
        "\n"
      ],
      "metadata": {
        "id": "64oqCfd8eYpn"
      },
      "execution_count": 73,
      "outputs": []
    },
    {
      "cell_type": "code",
      "source": [
        "fig1, ax1 = plt.subplots(figsize=(6, 6))\n",
        "plt.pie(dt_revenue,labels=mylabels,explode = explode, autopct='%1.1f%%', shadow = True)\n",
        "plt.title('Revenue')\n",
        "plt.show()"
      ],
      "metadata": {
        "colab": {
          "base_uri": "https://localhost:8080/",
          "height": 373
        },
        "id": "iUu_xrNegmJg",
        "outputId": "cc088f08-48fb-488a-db2e-d4454b40043d"
      },
      "execution_count": 74,
      "outputs": [
        {
          "output_type": "display_data",
          "data": {
            "text/plain": [
              "<Figure size 432x432 with 1 Axes>"
            ],
            "image/png": "[encoded data removed]"
          },
          "metadata": {}
        }
      ]
    },
    {
      "cell_type": "markdown",
      "source": [
        "## Approach 1: Using machine Learning regression model"
      ],
      "metadata": {
        "id": "ry_MnzW-vfpt"
      }
    },
    {
      "cell_type": "markdown",
      "source": [
        "### Step 1: Data Selection and Cleaning"
      ],
      "metadata": {
        "id": "387sMyruvXM3"
      }
    },
    {
      "cell_type": "markdown",
      "source": [
        "\n",
        "#### Select columns\n",
        "Removed the columns inventory "
      ],
      "metadata": {
        "id": "Dj-tmTrTvuPB"
      }
    },
    {
      "cell_type": "code",
      "source": [
        "dt = data[['week','product','orders','views','cart_adds','price']]"
      ],
      "metadata": {
        "id": "DN04zTc4v0WY"
      },
      "execution_count": 75,
      "outputs": []
    },
    {
      "cell_type": "markdown",
      "source": [
        "#### Filling NA values\n",
        "\n",
        "We are going to fill the Nan values of the B product with the mean of the fields for its specific product."
      ],
      "metadata": {
        "id": "hK554t33v6aN"
      }
    },
    {
      "cell_type": "code",
      "source": [
        "df_prod_means = dt.groupby(['product'])['orders','views','cart_adds','price'].agg('mean').copy()\n",
        "df_prod_means.head()"
      ],
      "metadata": {
        "colab": {
          "base_uri": "https://localhost:8080/",
          "height": 289
        },
        "id": "Q5Tm8Tctv-vx",
        "outputId": "87c9be22-847d-4632-b065-a42fd0302f31"
      },
      "execution_count": 76,
      "outputs": [
        {
          "output_type": "stream",
          "name": "stderr",
          "text": [
            "/usr/local/lib/python3.7/dist-packages/ipykernel_launcher.py:1: FutureWarning: Indexing with multiple keys (implicitly converted to a tuple of keys) will be deprecated, use a list instead.\n",
            "  \"\"\"Entry point for launching an IPython kernel.\n"
          ]
        },
        {
          "output_type": "execute_result",
          "data": {
            "text/plain": [
              "            orders        views  cart_adds       price\n",
              "product                                               \n",
              "A        29.923077  3195.480769  72.596154   36.240000\n",
              "B         6.882353   685.078431  16.372549  138.519412\n",
              "C        26.288462  2812.826923  66.115385   42.105385\n",
              "D        25.076923  3198.519231  71.307692   44.605385\n",
              "E         8.653846   862.038462  23.519231   89.605385"
            ],
            "text/html": [
              "\n",
              "  <div id=\"df-d89340d5-8cf0-4a62-b62a-5c2458a822d8\">\n",
              "    <div class=\"colab-df-container\">\n",
              "      <div>\n",
              "<style scoped>\n",
              "    .dataframe tbody tr th:only-of-type {\n",
              "        vertical-align: middle;\n",
              "    }\n",
              "\n",
              "    .dataframe tbody tr th {\n",
              "        vertical-align: top;\n",
              "    }\n",
              "\n",
              "    .dataframe thead th {\n",
              "        text-align: right;\n",
              "    }\n",
              "</style>\n",
              "<table border=\"1\" class=\"dataframe\">\n",
              "  <thead>\n",
              "    <tr style=\"text-align: right;\">\n",
              "      <th></th>\n",
              "      <th>orders</th>\n",
              "      <th>views</th>\n",
              "      <th>cart_adds</th>\n",
              "      <th>price</th>\n",
              "    </tr>\n",
              "    <tr>\n",
              "      <th>product</th>\n",
              "      <th></th>\n",
              "      <th></th>\n",
              "      <th></th>\n",
              "      <th></th>\n",
              "    </tr>\n",
              "  </thead>\n",
              "  <tbody>\n",
              "    <tr>\n",
              "      <th>A</th>\n",
              "      <td>29.923077</td>\n",
              "      <td>3195.480769</td>\n",
              "      <td>72.596154</td>\n",
              "      <td>36.240000</td>\n",
              "    </tr>\n",
              "    <tr>\n",
              "      <th>B</th>\n",
              "      <td>6.882353</td>\n",
              "      <td>685.078431</td>\n",
              "      <td>16.372549</td>\n",
              "      <td>138.519412</td>\n",
              "    </tr>\n",
              "    <tr>\n",
              "      <th>C</th>\n",
              "      <td>26.288462</td>\n",
              "      <td>2812.826923</td>\n",
              "      <td>66.115385</td>\n",
              "      <td>42.105385</td>\n",
              "    </tr>\n",
              "    <tr>\n",
              "      <th>D</th>\n",
              "      <td>25.076923</td>\n",
              "      <td>3198.519231</td>\n",
              "      <td>71.307692</td>\n",
              "      <td>44.605385</td>\n",
              "    </tr>\n",
              "    <tr>\n",
              "      <th>E</th>\n",
              "      <td>8.653846</td>\n",
              "      <td>862.038462</td>\n",
              "      <td>23.519231</td>\n",
              "      <td>89.605385</td>\n",
              "    </tr>\n",
              "  </tbody>\n",
              "</table>\n",
              "</div>\n",
              "      <button class=\"colab-df-convert\" onclick=\"convertToInteractive('df-d89340d5-8cf0-4a62-b62a-5c2458a822d8')\"\n",
              "              title=\"Convert this dataframe to an interactive table.\"\n",
              "              style=\"display:none;\">\n",
              "        \n",
              "  <svg xmlns=\"http://www.w3.org/2000/svg\" height=\"24px\"viewBox=\"0 0 24 24\"\n",
              "       width=\"24px\">\n",
              "    <path d=\"M0 0h24v24H0V0z\" fill=\"none\"/>\n",
              "    <path d=\"M18.56 5.44l.94 2.06.94-2.06 2.06-.94-2.06-.94-.94-2.06-.94 2.06-2.06.94zm-11 1L8.5 8.5l.94-2.06 2.06-.94-2.06-.94L8.5 2.5l-.94 2.06-2.06.94zm10 10l.94 2.06.94-2.06 2.06-.94-2.06-.94-.94-2.06-.94 2.06-2.06.94z\"/><path d=\"M17.41 7.96l-1.37-1.37c-.4-.4-.92-.59-1.43-.59-.52 0-1.04.2-1.43.59L10.3 9.45l-7.72 7.72c-.78.78-.78 2.05 0 2.83L4 21.41c.39.39.9.59 1.41.59.51 0 1.02-.2 1.41-.59l7.78-7.78 2.81-2.81c.8-.78.8-2.07 0-2.86zM5.41 20L4 18.59l7.72-7.72 1.47 1.35L5.41 20z\"/>\n",
              "  </svg>\n",
              "      </button>\n",
              "      \n",
              "  <style>\n",
              "    .colab-df-container {\n",
              "      display:flex;\n",
              "      flex-wrap:wrap;\n",
              "      gap: 12px;\n",
              "    }\n",
              "\n",
              "    .colab-df-convert {\n",
              "      background-color: #E8F0FE;\n",
              "      border: none;\n",
              "      border-radius: 50%;\n",
              "      cursor: pointer;\n",
              "      display: none;\n",
              "      fill: #1967D2;\n",
              "      height: 32px;\n",
              "      padding: 0 0 0 0;\n",
              "      width: 32px;\n",
              "    }\n",
              "\n",
              "    .colab-df-convert:hover {\n",
              "      background-color: #E2EBFA;\n",
              "      box-shadow: 0px 1px 2px rgba(60, 64, 67, 0.3), 0px 1px 3px 1px rgba(60, 64, 67, 0.15);\n",
              "      fill: #174EA6;\n",
              "    }\n",
              "\n",
              "    [theme=dark] .colab-df-convert {\n",
              "      background-color: #3B4455;\n",
              "      fill: #D2E3FC;\n",
              "    }\n",
              "\n",
              "    [theme=dark] .colab-df-convert:hover {\n",
              "      background-color: #434B5C;\n",
              "      box-shadow: 0px 1px 3px 1px rgba(0, 0, 0, 0.15);\n",
              "      filter: drop-shadow(0px 1px 2px rgba(0, 0, 0, 0.3));\n",
              "      fill: #FFFFFF;\n",
              "    }\n",
              "  </style>\n",
              "\n",
              "      <script>\n",
              "        const buttonEl =\n",
              "          document.querySelector('#df-d89340d5-8cf0-4a62-b62a-5c2458a822d8 button.colab-df-convert');\n",
              "        buttonEl.style.display =\n",
              "          google.colab.kernel.accessAllowed ? 'block' : 'none';\n",
              "\n",
              "        async function convertToInteractive(key) {\n",
              "          const element = document.querySelector('#df-d89340d5-8cf0-4a62-b62a-5c2458a822d8');\n",
              "          const dataTable =\n",
              "            await google.colab.kernel.invokeFunction('convertToInteractive',\n",
              "                                                     [key], {});\n",
              "          if (!dataTable) return;\n",
              "\n",
              "          const docLinkHtml = 'Like what you see? Visit the ' +\n",
              "            '<a target=\"_blank\" href=https://colab.research.google.com/notebooks/data_table.ipynb>data table notebook</a>'\n",
              "            + ' to learn more about interactive tables.';\n",
              "          element.innerHTML = '';\n",
              "          dataTable['output_type'] = 'display_data';\n",
              "          await google.colab.output.renderOutput(dataTable, element);\n",
              "          const docLink = document.createElement('div');\n",
              "          docLink.innerHTML = docLinkHtml;\n",
              "          element.appendChild(docLink);\n",
              "        }\n",
              "      </script>\n",
              "    </div>\n",
              "  </div>\n",
              "  "
            ]
          },
          "metadata": {},
          "execution_count": 76
        }
      ]
    },
    {
      "cell_type": "code",
      "source": [
        "dt.loc[(dt['orders'].isnull()) & (dt['product'] == 'B'), ['orders']] = round(df_prod_means.orders['B'],0)\n",
        "dt.loc[(dt['views'].isnull()) & (dt['product'] == 'B'), ['views']] = round(df_prod_means.views['B'],0)\n",
        "dt.loc[(dt['cart_adds'].isnull()) & (dt['product'] == 'B'), ['cart_adds']] = round(df_prod_means.cart_adds['B'],0)\n",
        "dt.loc[(dt['price'].isnull()) & (dt['product'] == 'B'), ['price']] = round(df_prod_means.price['B'],2)"
      ],
      "metadata": {
        "colab": {
          "base_uri": "https://localhost:8080/"
        },
        "id": "oLqLiIhBwCMc",
        "outputId": "e2cb839a-da1b-410e-e90e-ffed3836734a"
      },
      "execution_count": 77,
      "outputs": [
        {
          "output_type": "stream",
          "name": "stderr",
          "text": [
            "/usr/local/lib/python3.7/dist-packages/pandas/core/indexing.py:1817: SettingWithCopyWarning: \n",
            "A value is trying to be set on a copy of a slice from a DataFrame.\n",
            "Try using .loc[row_indexer,col_indexer] = value instead\n",
            "\n",
            "See the caveats in the documentation: https://pandas.pydata.org/pandas-docs/stable/user_guide/indexing.html#returning-a-view-versus-a-copy\n",
            "  self._setitem_single_column(loc, value, pi)\n"
          ]
        }
      ]
    },
    {
      "cell_type": "markdown",
      "source": [
        "#### Building training data\n",
        "\n",
        "We will use the previous week data and the current week price for predicting the current week sales.\n",
        "\n",
        "Here is the function for building the training data."
      ],
      "metadata": {
        "id": "XH5kIwSQwN29"
      }
    },
    {
      "cell_type": "code",
      "source": [
        "def def_conjXY(df,interval, column_idx = 0):\n",
        "    \"\"\"\n",
        "    :df = Dataframe with the data; \n",
        "    :interval = number of days to make a forecast\n",
        "    :column_idx = index fo the columns used at the forecast\n",
        "    :Returns: X and Y\n",
        "    \"\"\"\n",
        "    input_value = []\n",
        "    output_value = []\n",
        "    if type(df) == pd.core.frame.DataFrame:\n",
        "        for i in range(interval,(len(df))):\n",
        "            x = np.array(df.iloc[i-interval: i, [0,1,2,3,4,5]])\n",
        "            x = np.append(x, df.iloc[i,5])\n",
        "            y = np.array(df.iloc[i, 2])    \n",
        "            input_value.append(x)\n",
        "            output_value.append(y)\n",
        "    else:\n",
        "        for i in range(interval,(len(df))):\n",
        "            x = np.array(df[i-interval: i, [0,1,2,3]])\n",
        "            y = np.array(df[i, item])    \n",
        "    input_value.append(x)\n",
        "    output_value.append(y)\n",
        "    x_train = np.array(input_value)\n",
        "    y_train = np.array(output_value)\n",
        "\n",
        "    return x_train , y_train"
      ],
      "metadata": {
        "id": "zEQJCLlJwng_"
      },
      "execution_count": 78,
      "outputs": []
    },
    {
      "cell_type": "code",
      "source": [
        "X,y = def_conjXY(dt,1)"
      ],
      "metadata": {
        "id": "Qut1moCEw2yi"
      },
      "execution_count": 79,
      "outputs": []
    },
    {
      "cell_type": "code",
      "source": [
        "X_dt = pd.DataFrame(X, columns=['week','product','orders','views','cart_adds','price','next_price'])\n",
        "X_dt['orders'] = X_dt['orders'].apply(int)\n",
        "X_dt['views'] = X_dt['views'].apply(int)\n",
        "X_dt['cart_adds'] = X_dt['cart_adds'].apply(int)\n",
        "X_dt['price'] = X_dt['price'].apply(float)\n",
        "X_dt['next_price'] = X_dt['next_price'].apply(float)\n",
        "X_dt.info()"
      ],
      "metadata": {
        "colab": {
          "base_uri": "https://localhost:8080/"
        },
        "id": "TBgB4e0Gw6g0",
        "outputId": "c3534097-190a-45d8-c6db-967edad4d5bd"
      },
      "execution_count": 80,
      "outputs": [
        {
          "output_type": "stream",
          "name": "stdout",
          "text": [
            "<class 'pandas.core.frame.DataFrame'>\n",
            "RangeIndex: 260 entries, 0 to 259\n",
            "Data columns (total 7 columns):\n",
            " #   Column      Non-Null Count  Dtype  \n",
            "---  ------      --------------  -----  \n",
            " 0   week        260 non-null    object \n",
            " 1   product     260 non-null    object \n",
            " 2   orders      260 non-null    int64  \n",
            " 3   views       260 non-null    int64  \n",
            " 4   cart_adds   260 non-null    int64  \n",
            " 5   price       260 non-null    float64\n",
            " 6   next_price  260 non-null    float64\n",
            "dtypes: float64(2), int64(3), object(2)\n",
            "memory usage: 14.3+ KB\n"
          ]
        }
      ]
    },
    {
      "cell_type": "code",
      "source": [
        "y_dt = pd.DataFrame(y, columns=['next_order'])\n",
        "y_dt.info()"
      ],
      "metadata": {
        "colab": {
          "base_uri": "https://localhost:8080/"
        },
        "id": "_RFZqZGJxEhJ",
        "outputId": "7b1e9718-97bf-4de0-b4d0-62aa9438fb8a"
      },
      "execution_count": 81,
      "outputs": [
        {
          "output_type": "stream",
          "name": "stdout",
          "text": [
            "<class 'pandas.core.frame.DataFrame'>\n",
            "RangeIndex: 260 entries, 0 to 259\n",
            "Data columns (total 1 columns):\n",
            " #   Column      Non-Null Count  Dtype  \n",
            "---  ------      --------------  -----  \n",
            " 0   next_order  260 non-null    float64\n",
            "dtypes: float64(1)\n",
            "memory usage: 2.2 KB\n"
          ]
        }
      ]
    },
    {
      "cell_type": "markdown",
      "source": [
        "### Step 2: Encodind and Scaling\n",
        "\n",
        "Another good approach is to One Hot encode the categorical data (*product*) and reduce the scale of the numerical data."
      ],
      "metadata": {
        "id": "wT-fHgpa1G6q"
      }
    },
    {
      "cell_type": "code",
      "source": [
        "from sklearn.preprocessing import OneHotEncoder\n",
        "encoder = OneHotEncoder(handle_unknown=\"ignore\",sparse=False)\n",
        "\n",
        "one_hot_tr = encoder.fit_transform(X_dt[['product']])"
      ],
      "metadata": {
        "id": "GGwplGGzxHEh"
      },
      "execution_count": 82,
      "outputs": []
    },
    {
      "cell_type": "code",
      "source": [
        "from sklearn.preprocessing import StandardScaler\n",
        "\n",
        "attr_for_scaling = ['orders','views','cart_adds','price','next_price']\n",
        "scaler = StandardScaler()\n",
        "scale_tr = scaler.fit_transform(X_dt[attr_for_scaling])\n",
        "\n",
        "target_scaler = StandardScaler()\n",
        "y_s = target_scaler.fit_transform(y_dt)"
      ],
      "metadata": {
        "id": "4LWP-qZnxMEX"
      },
      "execution_count": 83,
      "outputs": []
    },
    {
      "cell_type": "code",
      "source": [
        "\n",
        "data_prepared = np.concatenate((one_hot_tr, scale_tr), axis=1)\n",
        "\n",
        "features = list(['A','B','C','D','E']) + attr_for_scaling\n",
        "X_dt4 = pd.DataFrame(data_prepared,\n",
        "                     columns=features,\n",
        "                     index = X_dt.index)\n",
        "\n",
        "X_dt4.head()\n",
        "X_dt4.info()"
      ],
      "metadata": {
        "colab": {
          "base_uri": "https://localhost:8080/"
        },
        "id": "61q6XPtnxPKm",
        "outputId": "06dd5310-3a43-40b1-b7ca-fddf52afd3f5"
      },
      "execution_count": 84,
      "outputs": [
        {
          "output_type": "stream",
          "name": "stdout",
          "text": [
            "<class 'pandas.core.frame.DataFrame'>\n",
            "RangeIndex: 260 entries, 0 to 259\n",
            "Data columns (total 10 columns):\n",
            " #   Column      Non-Null Count  Dtype  \n",
            "---  ------      --------------  -----  \n",
            " 0   A           260 non-null    float64\n",
            " 1   B           260 non-null    float64\n",
            " 2   C           260 non-null    float64\n",
            " 3   D           260 non-null    float64\n",
            " 4   E           260 non-null    float64\n",
            " 5   orders      260 non-null    float64\n",
            " 6   views       260 non-null    float64\n",
            " 7   cart_adds   260 non-null    float64\n",
            " 8   price       260 non-null    float64\n",
            " 9   next_price  260 non-null    float64\n",
            "dtypes: float64(10)\n",
            "memory usage: 20.4 KB\n"
          ]
        }
      ]
    },
    {
      "cell_type": "markdown",
      "source": [
        "### Setp 3: Split train test data"
      ],
      "metadata": {
        "id": "DSE2GMlA1bng"
      }
    },
    {
      "cell_type": "code",
      "source": [
        "import xgboost as xgb\n",
        "from sklearn.metrics import mean_squared_error\n",
        "from sklearn.model_selection import train_test_split\n",
        "from sklearn.linear_model import LinearRegression"
      ],
      "metadata": {
        "id": "FLDbSFZ6xS6C"
      },
      "execution_count": 85,
      "outputs": []
    },
    {
      "cell_type": "code",
      "source": [
        "X_train, X_test, y_train, y_test = train_test_split(X_dt4, y_s,\n",
        "                                                  test_size = .2,\n",
        "                                                  random_state=12)"
      ],
      "metadata": {
        "id": "h4WCGX_bxV9X"
      },
      "execution_count": 86,
      "outputs": []
    },
    {
      "cell_type": "markdown",
      "source": [
        "### Step 4: Train the model\n",
        "\n",
        "We will evaluate 2 models: XGBboost and Linear regression."
      ],
      "metadata": {
        "id": "FnukAUV92Kj6"
      }
    },
    {
      "cell_type": "code",
      "source": [
        "xg_reg = xgb.XGBRegressor(objective ='reg:linear', booster='gbtree', colsample_bytree = 0.7, learning_rate = 0.1, subsample=0.85, \n",
        "                          max_depth=10, alpha = 10, n_estimators = 10)"
      ],
      "metadata": {
        "id": "crjZDiVqxZLt"
      },
      "execution_count": 87,
      "outputs": []
    },
    {
      "cell_type": "code",
      "source": [
        "xg_reg.fit(X_train,y_train)"
      ],
      "metadata": {
        "colab": {
          "base_uri": "https://localhost:8080/"
        },
        "id": "LD0KJunjxiwg",
        "outputId": "8a77761a-e4bd-4112-ae77-7e939ccf8988"
      },
      "execution_count": 88,
      "outputs": [
        {
          "output_type": "stream",
          "name": "stdout",
          "text": [
            "[17:12:00] WARNING: /workspace/src/objective/regression_obj.cu:152: reg:linear is now deprecated in favor of reg:squarederror.\n"
          ]
        },
        {
          "output_type": "execute_result",
          "data": {
            "text/plain": [
              "XGBRegressor(alpha=10, colsample_bytree=0.7, max_depth=10, n_estimators=10,\n",
              "             subsample=0.85)"
            ]
          },
          "metadata": {},
          "execution_count": 88
        }
      ]
    },
    {
      "cell_type": "code",
      "source": [
        "ln_reg = LinearRegression()"
      ],
      "metadata": {
        "id": "er_MQXlE1t-u"
      },
      "execution_count": 89,
      "outputs": []
    },
    {
      "cell_type": "code",
      "source": [
        "ln_reg.fit(X_train,y_train)"
      ],
      "metadata": {
        "colab": {
          "base_uri": "https://localhost:8080/"
        },
        "id": "W1qXz3J9140i",
        "outputId": "fb2df7e2-6321-471a-e805-92a9b1830aad"
      },
      "execution_count": 90,
      "outputs": [
        {
          "output_type": "execute_result",
          "data": {
            "text/plain": [
              "LinearRegression()"
            ]
          },
          "metadata": {},
          "execution_count": 90
        }
      ]
    },
    {
      "cell_type": "markdown",
      "source": [
        "### Step 5: Predict and get the model's result"
      ],
      "metadata": {
        "id": "cUUjjx5Z2XuT"
      }
    },
    {
      "cell_type": "code",
      "source": [
        "preds = xg_reg.predict(X_test)\n",
        "preds = target_scaler.inverse_transform(preds.reshape(-1, 1))"
      ],
      "metadata": {
        "id": "c_-w7O1Wx3NV"
      },
      "execution_count": 91,
      "outputs": []
    },
    {
      "cell_type": "code",
      "source": [
        "rmse = np.sqrt(mean_squared_error(target_scaler.inverse_transform(y_test), preds))\n",
        "print(\"RMSE: %f\" % (rmse))"
      ],
      "metadata": {
        "colab": {
          "base_uri": "https://localhost:8080/"
        },
        "id": "32OiEssayMo_",
        "outputId": "8f5737de-1e98-4626-b04b-e6ded5b7249e"
      },
      "execution_count": 92,
      "outputs": [
        {
          "output_type": "stream",
          "name": "stdout",
          "text": [
            "RMSE: 7.524065\n"
          ]
        }
      ]
    },
    {
      "cell_type": "markdown",
      "source": [
        "The model is predicting 7 more or 7 less orders than the actual amount."
      ],
      "metadata": {
        "id": "R0JfIZ7k2uS3"
      }
    },
    {
      "cell_type": "code",
      "source": [
        "preds = ln_reg.predict(X_test)\n",
        "preds = target_scaler.inverse_transform(preds.reshape(-1, 1))\n",
        "\n",
        "rmse = np.sqrt(mean_squared_error(target_scaler.inverse_transform(y_test), preds))\n",
        "print(\"RMSE: %f\" % (rmse))"
      ],
      "metadata": {
        "colab": {
          "base_uri": "https://localhost:8080/"
        },
        "id": "xtVF9aGw2BHp",
        "outputId": "8741a8c3-2866-4f4b-dda1-4e943e38a461"
      },
      "execution_count": 93,
      "outputs": [
        {
          "output_type": "stream",
          "name": "stdout",
          "text": [
            "RMSE: 4.860141\n"
          ]
        }
      ]
    },
    {
      "cell_type": "markdown",
      "source": [
        "The linear regression model seems better than the XGBoost model."
      ],
      "metadata": {
        "id": "XaKJfMeu2eNe"
      }
    },
    {
      "cell_type": "markdown",
      "source": [
        "## Approach 2: Weekly Inventory review"
      ],
      "metadata": {
        "id": "RYj7htnE4QJ7"
      }
    },
    {
      "cell_type": "markdown",
      "source": [
        "In this approach, we will use a Monte Carlo simulation of the optimum number for restocking every week.\n",
        "First I will find a price for the product cost in inventory to help on the optimization problem. I will use the min value of the product.\n",
        "We will also need the mean and the std for the orders modeling.\n",
        "\n",
        "The result will be a value *M* wich is the margin of inventory that the company must mantain every week to maximize profit. Every week the company must refil stock till the value of *M*."
      ],
      "metadata": {
        "id": "MVNjf4WB4oN1"
      }
    },
    {
      "cell_type": "code",
      "source": [
        "products_stat =data.groupby('product')['orders'].describe().reset_index()\n",
        "print(products_stat)"
      ],
      "metadata": {
        "colab": {
          "base_uri": "https://localhost:8080/"
        },
        "id": "gmEIOi9HbK15",
        "outputId": "0ca92a99-aa42-4f3e-faf7-03ad8209454d"
      },
      "execution_count": 94,
      "outputs": [
        {
          "output_type": "stream",
          "name": "stdout",
          "text": [
            "  product  count       mean        std   min    25%   50%    75%    max\n",
            "0       A   52.0  29.923077  16.590626   0.0  23.00  31.0  36.00  100.0\n",
            "1       B   51.0   6.882353   4.361867   1.0   3.50   6.0   9.50   18.0\n",
            "2       C   52.0  26.288462   9.010531  15.0  19.00  23.5  31.75   46.0\n",
            "3       D   52.0  25.076923  15.448645   0.0  10.75  27.5  38.25   47.0\n",
            "4       E   52.0   8.653846   3.930198   3.0   6.00   8.0  11.00   20.0\n"
          ]
        }
      ]
    },
    {
      "cell_type": "code",
      "source": [
        "products_price =data.groupby('product')['price'].agg('min').reset_index()\n",
        "print(products_price)"
      ],
      "metadata": {
        "colab": {
          "base_uri": "https://localhost:8080/"
        },
        "id": "2RLqk3YeavnF",
        "outputId": "1a93279c-9195-4381-c748-4cdfdccb79ad"
      },
      "execution_count": 95,
      "outputs": [
        {
          "output_type": "stream",
          "name": "stdout",
          "text": [
            "  product  price\n",
            "0       A  24.99\n",
            "1       B  44.99\n",
            "2       C  24.99\n",
            "3       D  19.99\n",
            "4       E  44.99\n"
          ]
        }
      ]
    },
    {
      "cell_type": "markdown",
      "source": [
        "This is the function that will be used for the optimization. If the stock increases there is a penalization as weel as if the sales decrease."
      ],
      "metadata": {
        "id": "AWOV7_Gtb7k1"
      }
    },
    {
      "cell_type": "code",
      "source": [
        "def calculate_profit(data, product_str):\n",
        "    \"\"\"\n",
        "    :data = Dataframe with the data; \n",
        "    :product_str = The product label;\n",
        "    :\n",
        "    :returns: The revenue minus the inventory cost.\n",
        "    \"\"\"\n",
        "    product_cost = products_price.loc[products_price['product']==product_str]['price']\n",
        "    inventory_cost = product_cost\n",
        "\n",
        "    revenue = sum(data['units_sold']) * product_cost\n",
        "    inv_cost = sum(data['inv_level']) * inventory_cost\n",
        "\n",
        "    profit = revenue - inv_cost\n",
        "\n",
        "    return profit"
      ],
      "metadata": {
        "id": "oFeeVeHicPzD"
      },
      "execution_count": 96,
      "outputs": []
    },
    {
      "cell_type": "markdown",
      "source": [
        "Next is the function used to emulate one year (52 weeks) of orders received obeing a **log-normal distribution** as verified in the data exploration section."
      ],
      "metadata": {
        "id": "eCVUrFKnzwLL"
      }
    },
    {
      "cell_type": "code",
      "source": [
        "def monte_carlo(M, product_str, starting_inventory = 0):\n",
        "    \"\"\"\n",
        "    :M = the value to restock; \n",
        "    :product_str = The product label;\n",
        "    :starting_inventory = The inventory level at the first day.\n",
        "    :\n",
        "    :returns: A dictionary containing inventory level, week demand, units sold, units lost and orders for each week.\n",
        "    \"\"\"\n",
        "    mean = products_stat.loc[products_stat['product']==product_str]['mean']\n",
        "    std = products_stat.loc[products_stat['product']==product_str]['std']\n",
        "\n",
        "    inventory = starting_inventory\n",
        "    q = 0\n",
        "    stock_out = 0\n",
        "    counter = 0\n",
        "\n",
        "    # dictionary to store all the information\n",
        "    mc_data = {'inv_level': [], 'week_demand': [], 'units_sold': [], 'units_lost': [], 'orders': []}\n",
        "\n",
        "    for week in range(1, 52): # five years of simulation\n",
        "        week_demand = np.round(np.log(np.random.lognormal(mean, std))) # log-normal distribution\n",
        "        mc_data['week_demand'].append(week_demand)\n",
        "        \n",
        "        q = M - inventory \n",
        "        q = 0 if q < 0 else q\n",
        "        \n",
        "        mc_data['orders'].append(q)\n",
        "        inventory += q\n",
        "        \n",
        "        if inventory - week_demand >= 0:\n",
        "            mc_data['units_sold'].append(week_demand)\n",
        "            inventory -= week_demand\n",
        "        elif inventory - week_demand < 0:\n",
        "            mc_data['units_sold'].append(inventory)\n",
        "            mc_data['units_lost'].append(week_demand - inventory)\n",
        "            inventory = 0\n",
        "            stock_out += 1\n",
        "\n",
        "        mc_data['inv_level'].append(inventory)\n",
        "\n",
        "    return mc_data"
      ],
      "metadata": {
        "id": "cXw4Ugwl6AT1"
      },
      "execution_count": 97,
      "outputs": []
    },
    {
      "cell_type": "markdown",
      "source": [
        "We will run the simulation by default 100 times according to the following function"
      ],
      "metadata": {
        "id": "Q9exkBInmQ_X"
      }
    },
    {
      "cell_type": "code",
      "source": [
        "def mc_simulation(product_str, M, num_simulations=100):\n",
        "    \"\"\"\n",
        "    :M = the value to restock; \n",
        "    :product_str = The product label;\n",
        "    :num_simulations = The number of simulations to run.\n",
        "    :\n",
        "    :returns: The total profit and total percentual of orders lost for each simulation.\n",
        "    \"\"\"\n",
        "    orders_lost_list = []\n",
        "    profit_list = []\n",
        "    for sim in range(num_simulations):\n",
        "        data = monte_carlo(M, product_str)\n",
        "\n",
        "        #calculate profit\n",
        "        profit = calculate_profit(data, product_str)\n",
        "        profit_list.append(profit)\n",
        "        # Calculating the orders lost\n",
        "        total_demand = sum(data['week_demand'])\n",
        "        unsold_orders = sum(data['units_lost'])\n",
        "        orders_lost_list.append(unsold_orders/total_demand)\n",
        "\n",
        "    return profit_list, orders_lost_list"
      ],
      "metadata": {
        "id": "EzV_Dwuy6LTP"
      },
      "execution_count": 98,
      "outputs": []
    },
    {
      "cell_type": "code",
      "source": [
        "def weekly_review(product_str, low, high, step=1):\n",
        "    \"\"\"\n",
        "    :product_str = The product label;\n",
        "    :low = the lower limit for the M range;\n",
        "    :high = the higher limit for the M range;\n",
        "    :steps = The step for building the M range;\n",
        "    :\n",
        "    :returns: for each M in range, the M statistic (mean, 5% quantile, 95% quantile, std), and mean percentage of order lost.\n",
        "    \"\"\"\n",
        "    m_range = [i for i in range(low, high, step)]\n",
        "    review_dict = {}\n",
        "\n",
        "    for M in m_range:\n",
        "        p_list, o_list = mc_simulation(product_str, M)\n",
        "        review_dict[M] = (np.mean(p_list), np.quantile(p_list, 0.05), np.quantile(p_list, 0.95), np.std(p_list), np.mean(o_list))\n",
        "\n",
        "    return review_dict"
      ],
      "metadata": {
        "id": "NWYQxRyrfAss"
      },
      "execution_count": 99,
      "outputs": []
    },
    {
      "cell_type": "markdown",
      "source": [
        "Now it's time for the calculations. The following function prints the mean profit (revenue of sales - cost of sinventory) and the range between the 5% and 95% quartiles."
      ],
      "metadata": {
        "id": "_xyVNl5O87uy"
      }
    },
    {
      "cell_type": "code",
      "source": [
        "import operator\n",
        "\n",
        "def plot_weekly_review(product_str, low, high, step=1):\n",
        "    \"\"\"\n",
        "    :product_str = The product label;\n",
        "    :low = the lower limit for the M range;\n",
        "    :high = the higher limit for the M range;\n",
        "    :steps = The step for building the M range;\n",
        "    :\n",
        "    :This function prints the graphic of the simulation and the optimun value of M.\n",
        "    \"\"\"\n",
        "\n",
        "    review = weekly_review(product_str, low, high, step)\n",
        "    optimum = max(review.items(), key=operator.itemgetter(1))\n",
        "    \n",
        "    xx = [i for i in review.keys()]\n",
        "    yy = []\n",
        "    y_sd_1 = []\n",
        "    y_sd_2 = []\n",
        "    y_sd = []\n",
        "    for val in review.values():\n",
        "        yy.append(val[0])\n",
        "        y_sd_1.append(val[1])\n",
        "        y_sd_2.append(val[2])\n",
        "        y_sd.append(val[3])\n",
        "\n",
        "    fig, ax = plt.subplots(nrows=1, ncols=1)\n",
        "    plt.plot(xx, yy, linewidth=2)\n",
        "    plt.fill_between(xx, y_sd_1, y_sd_2, alpha=.25)\n",
        "    plt.axvline(x = optimum[0], color='k', alpha = .5, ls = '--')\n",
        "    plt.text(optimum[0], .5,str(optimum[0]))\n",
        "    print(optimum[0])\n",
        "\n",
        "    ax.set_ylabel('Profit')\n",
        "    ax.set_xlabel('M')\n",
        "    ax.set_title('Simulation of Profit')"
      ],
      "metadata": {
        "id": "qxBXfs60nI1O"
      },
      "execution_count": 100,
      "outputs": []
    },
    {
      "cell_type": "code",
      "source": [
        "plot_weekly_review('A', 1, 35,1)"
      ],
      "metadata": {
        "colab": {
          "base_uri": "https://localhost:8080/",
          "height": 312
        },
        "id": "2VyMXiA02Yzj",
        "outputId": "7019510d-5f46-4bd3-b5a0-d45610c20f13"
      },
      "execution_count": 101,
      "outputs": [
        {
          "output_type": "stream",
          "name": "stdout",
          "text": [
            "21\n"
          ]
        },
        {
          "output_type": "display_data",
          "data": {
            "text/plain": [
              "<Figure size 432x288 with 1 Axes>"
            ],
            "image/png": "[encoded data removed]"
          },
          "metadata": {
            "needs_background": "light"
          }
        }
      ]
    },
    {
      "cell_type": "code",
      "source": [
        "plot_weekly_review('B', 1, 20,1)"
      ],
      "metadata": {
        "colab": {
          "base_uri": "https://localhost:8080/",
          "height": 312
        },
        "id": "ztK8ExR4nz4x",
        "outputId": "213945a4-98d8-4be7-cea4-61132c45e609"
      },
      "execution_count": 102,
      "outputs": [
        {
          "output_type": "stream",
          "name": "stdout",
          "text": [
            "5\n"
          ]
        },
        {
          "output_type": "display_data",
          "data": {
            "text/plain": [
              "<Figure size 432x288 with 1 Axes>"
            ],
            "image/png": "[encoded data removed]"
          },
          "metadata": {
            "needs_background": "light"
          }
        }
      ]
    },
    {
      "cell_type": "code",
      "source": [
        "plot_weekly_review('C', 1, 35,1)"
      ],
      "metadata": {
        "colab": {
          "base_uri": "https://localhost:8080/",
          "height": 312
        },
        "id": "b8IcMzfa2XNY",
        "outputId": "6df5487d-d0b5-4afd-b103-ce9087ff5d08"
      },
      "execution_count": 103,
      "outputs": [
        {
          "output_type": "stream",
          "name": "stdout",
          "text": [
            "18\n"
          ]
        },
        {
          "output_type": "display_data",
          "data": {
            "text/plain": [
              "<Figure size 432x288 with 1 Axes>"
            ],
            "image/png": "[encoded data removed]"
          },
          "metadata": {
            "needs_background": "light"
          }
        }
      ]
    },
    {
      "cell_type": "code",
      "source": [
        "plot_weekly_review('D', 1, 35,1)"
      ],
      "metadata": {
        "colab": {
          "base_uri": "https://localhost:8080/",
          "height": 312
        },
        "id": "L90rW9642vAE",
        "outputId": "2de79ac0-15d7-4455-a08d-200ed5faa766"
      },
      "execution_count": 104,
      "outputs": [
        {
          "output_type": "stream",
          "name": "stdout",
          "text": [
            "17\n"
          ]
        },
        {
          "output_type": "display_data",
          "data": {
            "text/plain": [
              "<Figure size 432x288 with 1 Axes>"
            ],
            "image/png": "[encoded data removed]"
          },
          "metadata": {
            "needs_background": "light"
          }
        }
      ]
    },
    {
      "cell_type": "code",
      "source": [
        "plot_weekly_review('E', 1, 15,1)"
      ],
      "metadata": {
        "colab": {
          "base_uri": "https://localhost:8080/",
          "height": 312
        },
        "id": "StcsFdJO253V",
        "outputId": "892c7cfe-ca85-4cbc-86cf-301b76fb111f"
      },
      "execution_count": 105,
      "outputs": [
        {
          "output_type": "stream",
          "name": "stdout",
          "text": [
            "5\n"
          ]
        },
        {
          "output_type": "display_data",
          "data": {
            "text/plain": [
              "<Figure size 432x288 with 1 Axes>"
            ],
            "image/png": "[encoded data removed]"
          },
          "metadata": {
            "needs_background": "light"
          }
        }
      ]
    },
    {
      "cell_type": "markdown",
      "source": [
        "## Approach 3: LTSM"
      ],
      "metadata": {
        "id": "feZ0cXlb5ouH"
      }
    },
    {
      "cell_type": "markdown",
      "source": [
        "Another good approach is to use an artificial recurrent neural network. The LTSM is suitable for temporal series, although it may not work well because we have 52 samples for each product.\n",
        "We will train a multiple parallel time series and predict a value for each one. We will use the previous 3 weeks to predict the next number of orders."
      ],
      "metadata": {
        "id": "AfjL32Ksp9ek"
      }
    },
    {
      "cell_type": "markdown",
      "source": [
        "First let's import the libraries to be use."
      ],
      "metadata": {
        "id": "aME1QqU2qXo0"
      }
    },
    {
      "cell_type": "code",
      "source": [
        "from keras.models import Sequential\n",
        "from keras.layers import LSTM\n",
        "from keras.layers import Dense\n",
        "from keras.layers import Dropout"
      ],
      "metadata": {
        "id": "A3EdUOyG5fAH"
      },
      "execution_count": 106,
      "outputs": []
    },
    {
      "cell_type": "markdown",
      "source": [
        "### Preprocessing"
      ],
      "metadata": {
        "id": "wrijRPnlsgK0"
      }
    },
    {
      "cell_type": "markdown",
      "source": [
        "The following function splits the sequence of data into features and target."
      ],
      "metadata": {
        "id": "9UgFyomnqf01"
      }
    },
    {
      "cell_type": "code",
      "source": [
        "# split a multivariate sequence into samples\n",
        "def split_sequences(sequences, n_steps):\n",
        "    \"\"\"\n",
        "    :sequece = The data ;\n",
        "    :n_steps = the number of weeks to look back;\n",
        "    :\n",
        "    :returns = array of features and target\n",
        "    \"\"\"\n",
        "    X, y = list(), list()\n",
        "    for i in range(len(sequences)):\n",
        "\t\t    # find the end of this pattern\n",
        "\t\t    end_ix = i + n_steps\n",
        "\t\t    # check if we are beyond the dataset\n",
        "\t\t    if end_ix > len(sequences)-1:\n",
        "\t\t\t      break\n",
        "\t\t    # gather input and output parts of the pattern\n",
        "\t\t    seq_x, seq_y = sequences[i:end_ix, :], sequences[end_ix, :,0]\n",
        "\t\t    X.append(seq_x)\n",
        "\t\t    y.append(seq_y)\n",
        "    return np.array(X), np.array(y)"
      ],
      "metadata": {
        "id": "x8JRPGdb52TY"
      },
      "execution_count": 114,
      "outputs": []
    },
    {
      "cell_type": "markdown",
      "source": [
        "Now let split the original data into an array containing the time serie for each product."
      ],
      "metadata": {
        "id": "9p1ewMJJrrIi"
      }
    },
    {
      "cell_type": "code",
      "source": [
        "dt_A = dt.loc[dt['product']=='A'].drop(columns=['product','week']).reset_index().drop(columns=['index'])\n",
        "dt_B = dt.loc[dt['product']=='B'].drop(columns=['product','week']).reset_index().drop(columns=['index'])\n",
        "dt_C = dt.loc[dt['product']=='C'].drop(columns=['product','week']).reset_index().drop(columns=['index'])\n",
        "dt_D = dt.loc[dt['product']=='D'].drop(columns=['product','week']).reset_index().drop(columns=['index'])\n",
        "dt_E = dt.loc[dt['product']=='E'].drop(columns=['product','week']).reset_index().drop(columns=['index'])"
      ],
      "metadata": {
        "id": "-IjvZUh69vdF"
      },
      "execution_count": 115,
      "outputs": []
    },
    {
      "cell_type": "code",
      "source": [
        "ar_A = dt_A.to_numpy()\n",
        "ar_B = dt_B.to_numpy()\n",
        "ar_C = dt_C.to_numpy()\n",
        "ar_D = dt_D.to_numpy()\n",
        "ar_E = dt_E.to_numpy()"
      ],
      "metadata": {
        "id": "KtwayGAc-3QY"
      },
      "execution_count": 116,
      "outputs": []
    },
    {
      "cell_type": "markdown",
      "source": [
        "Let''s stack the time series together and than split it into features and target using a 3 weeks lookback."
      ],
      "metadata": {
        "id": "Bu7Cvgjbr-5d"
      }
    },
    {
      "cell_type": "code",
      "source": [
        "dataset = np.hstack((ar_A, ar_B, ar_C,ar_D,ar_E))\n",
        "dataset2 = dataset.reshape((len(ar_A),-1,4))\n",
        "n_steps = 3\n",
        "X, y = split_sequences(dataset2, n_steps)"
      ],
      "metadata": {
        "id": "cDSQlMZTCkw2"
      },
      "execution_count": 117,
      "outputs": []
    },
    {
      "cell_type": "code",
      "source": [
        "n_features = X.shape[2]\n",
        "X2 = np.reshape(X, (X.shape[0], X.shape[1], X.shape[2]*X.shape[3]))"
      ],
      "metadata": {
        "id": "WS6xEAwtJMv_"
      },
      "execution_count": 118,
      "outputs": []
    },
    {
      "cell_type": "markdown",
      "source": [
        "#### Train test splitting\n",
        "we will use 20% of the data for testing."
      ],
      "metadata": {
        "id": "icF7npZssrgd"
      }
    },
    {
      "cell_type": "code",
      "source": [
        "X_train , X_test = X2[0:int(X.shape[0]*0.8)] , X2[int(X.shape[0]*0.8):]\n",
        "y_train, y_test = y[0:int(X.shape[0]*0.8)] , y[int(X.shape[0]*0.8):]"
      ],
      "metadata": {
        "id": "oPP7ySN6O9XQ"
      },
      "execution_count": 119,
      "outputs": []
    },
    {
      "cell_type": "markdown",
      "source": [
        "#### Scaling data\n",
        "\n",
        "We must scale the data to train a LTSM."
      ],
      "metadata": {
        "id": "0UzVCZO7s5tw"
      }
    },
    {
      "cell_type": "code",
      "source": [
        "from sklearn.preprocessing import MinMaxScaler\n",
        "\n",
        "scaler = MinMaxScaler(feature_range=(0,1))\n",
        "X_train = scaler.fit_transform(X_train.reshape(-1,1)).reshape(X_train.shape)\n",
        "X_test = scaler.transform(X_test.reshape(-1,1)).reshape(X_test.shape)\n"
      ],
      "metadata": {
        "id": "u9v6NNHzQF8q"
      },
      "execution_count": 120,
      "outputs": []
    },
    {
      "cell_type": "code",
      "source": [
        "target_scaler = MinMaxScaler(feature_range=(0,1))\n",
        "y_train = target_scaler.fit_transform(y_train)\n",
        "y_test = target_scaler.transform(y_test)"
      ],
      "metadata": {
        "id": "sYwhb6PhVs6p"
      },
      "execution_count": 121,
      "outputs": []
    },
    {
      "cell_type": "markdown",
      "source": [
        "### Train the network"
      ],
      "metadata": {
        "id": "wx51QdE6tGk9"
      }
    },
    {
      "cell_type": "code",
      "source": [
        "model = Sequential()\n",
        "model.add(LSTM(100, activation='relu', return_sequences=True, input_shape=(X.shape[1],X2.shape[2])))\n",
        "model.add(Dropout(0.3))\n",
        "model.add(LSTM(100, activation='relu',return_sequences = True))\n",
        "model.add(Dropout(0.3)) \n",
        "model.add(LSTM(units = 50))\n",
        "model.add(Dropout(0.3))\n",
        "model.add(Dense(X.shape[2]))\n",
        "model.compile(optimizer='adam', loss='mse')\n",
        "# fit model\n",
        "model.fit(X_train, y_train, epochs=400, verbose=0)"
      ],
      "metadata": {
        "colab": {
          "base_uri": "https://localhost:8080/"
        },
        "id": "SxVfmJymJaB3",
        "outputId": "d8b77e2f-41f3-4412-f5c8-2bdf26987fb4"
      },
      "execution_count": 122,
      "outputs": [
        {
          "output_type": "execute_result",
          "data": {
            "text/plain": [
              "<keras.callbacks.History at 0x7f98380d8250>"
            ]
          },
          "metadata": {},
          "execution_count": 122
        }
      ]
    },
    {
      "cell_type": "markdown",
      "source": [
        "### Prediction and evaluation"
      ],
      "metadata": {
        "id": "V5HZi8L6tLHf"
      }
    },
    {
      "cell_type": "code",
      "source": [
        "preds = model.predict(X_test)"
      ],
      "metadata": {
        "id": "3qzuiGqyOiuD"
      },
      "execution_count": 123,
      "outputs": []
    },
    {
      "cell_type": "code",
      "source": [
        "from keras.losses import MeanSquaredError, MeanAbsoluteError, MeanAbsolutePercentageError\n",
        "def evaluate_forecast(y_test_inverse, yhat_inverse):\n",
        " mse_ = MeanSquaredError()\n",
        " mae_ = MeanAbsoluteError()\n",
        " mape_ = MeanAbsolutePercentageError()\n",
        " mae = mae_(y_test_inverse,yhat_inverse)\n",
        " print('mae:', mae)\n",
        " mse = mse_(y_test_inverse,yhat_inverse)\n",
        " print('mse:', mse)\n",
        " mape = mape_(y_test_inverse,yhat_inverse)\n",
        " print('mape:', mape)"
      ],
      "metadata": {
        "id": "6OFPQxR8Rza_"
      },
      "execution_count": 124,
      "outputs": []
    },
    {
      "cell_type": "markdown",
      "source": [
        "We will evaluate the network using Mean squared error, Mean absolute error and MAPE."
      ],
      "metadata": {
        "id": "k1-Buo_Ktc0Y"
      }
    },
    {
      "cell_type": "code",
      "source": [
        "evaluate_forecast(target_scaler.inverse_transform(y_test),target_scaler.inverse_transform(preds))"
      ],
      "metadata": {
        "colab": {
          "base_uri": "https://localhost:8080/"
        },
        "id": "23YMVliDUJl6",
        "outputId": "915dfffd-7776-4bd4-dbd5-a1c570033195"
      },
      "execution_count": 125,
      "outputs": [
        {
          "output_type": "stream",
          "name": "stdout",
          "text": [
            "mae: tf.Tensor(7.6500044, shape=(), dtype=float32)\n",
            "mse: tf.Tensor(201.11201, shape=(), dtype=float32)\n",
            "mape: tf.Tensor(37.649513, shape=(), dtype=float32)\n"
          ]
        }
      ]
    },
    {
      "cell_type": "markdown",
      "source": [
        "## Conclusion\n",
        "\n",
        "We tried 2 strategies to do a better inventory managemente: trying to predict the future orders, and trying to predict an optimun weekly stock level using montecarlo.\n",
        "\n",
        "In the prediciton we used two regression models (linear regression and xgboost) and a LTSM network. Surprisingly, the best aproach was the simpler one: the linear regression (maybe because the lack of samples).\n",
        "\n",
        "The best solutions to present to the client are the one using linear regression and the one using weekly inventory review.\n"
      ],
      "metadata": {
        "id": "Ds6DkWW6u7Qu"
      }
    }
  ]
}